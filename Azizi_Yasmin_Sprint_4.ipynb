{
 "cells": [
  {
   "cell_type": "markdown",
   "metadata": {},
   "source": [
    "# Sprint 4 Books Dashboard\n",
    "## Yasmin Azizi \n",
    "## DS 4003"
   ]
  },
  {
   "cell_type": "code",
   "execution_count": 66,
   "metadata": {},
   "outputs": [],
   "source": [
    "#import dependencies\n",
    "import pandas as pd\n",
    "import plotly.express as px\n",
    "from dash import Dash, dash_table, dcc, html, Input, Output, State # update to import\n"
   ]
  },
  {
   "cell_type": "code",
   "execution_count": 67,
   "metadata": {},
   "outputs": [],
   "source": [
    "data = pd.read_csv('data.csv')"
   ]
  },
  {
   "cell_type": "code",
   "execution_count": 68,
   "metadata": {},
   "outputs": [
    {
     "name": "stdout",
     "output_type": "stream",
     "text": [
      "<bound method DataFrame.info of      Unnamed: 0   index  Publishing Year                        Book Name  \\\n",
      "0             0     0.0           1975.0                          Beowulf   \n",
      "1             1     1.0           1987.0                 Batman: Year One   \n",
      "2             2     2.0           2015.0                Go Set a Watchman   \n",
      "3             3     3.0           2008.0  When You Are Engulfed in Flames   \n",
      "4             4     4.0           2011.0         Daughter of Smoke & Bone   \n",
      "..          ...     ...              ...                              ...   \n",
      "993        1065  1065.0           2014.0                    Gray Mountain   \n",
      "994        1066  1066.0           1989.0                 The Power of One   \n",
      "995        1067  1067.0           1930.0               The Maltese Falcon   \n",
      "996        1068  1068.0           2011.0                       Night Road   \n",
      "997        1069  1069.0           1999.0                         Tripwire   \n",
      "\n",
      "                                                Author Author_Rating  \\\n",
      "0                               Unknown, Seamus Heaney        Novice   \n",
      "1    Frank Miller, David Mazzucchelli, Richmond Lew...  Intermediate   \n",
      "2                                           Harper Lee        Novice   \n",
      "3                                        David Sedaris  Intermediate   \n",
      "4                                         Laini Taylor  Intermediate   \n",
      "..                                                 ...           ...   \n",
      "993                                       John Grisham  Intermediate   \n",
      "994                                    Bryce Courtenay     Excellent   \n",
      "995                                   Dashiell Hammett  Intermediate   \n",
      "996                                     Kristin Hannah     Excellent   \n",
      "997                                          Lee Child     Excellent   \n",
      "\n",
      "     Book_average_rating  Book_ratings_count          genre  gross sales  \\\n",
      "0                   3.42            155903.0  genre fiction     34160.00   \n",
      "1                   4.23            145267.0  genre fiction     12437.50   \n",
      "2                   3.31            138669.0  genre fiction     47795.00   \n",
      "3                   4.04            150898.0        fiction     41250.00   \n",
      "4                   4.04            198283.0  genre fiction     37952.50   \n",
      "..                   ...                 ...            ...          ...   \n",
      "993                 3.52             37379.0     nonfiction       104.94   \n",
      "994                 4.34             57312.0  genre fiction       846.94   \n",
      "995                 3.92             58742.0  genre fiction       846.94   \n",
      "996                 4.17             58028.0  genre fiction       104.94   \n",
      "997                 4.07             55251.0  genre fiction       316.94   \n",
      "\n",
      "     publisher revenue  sale price  sales rank  \\\n",
      "0            20496.000        4.88         1.0   \n",
      "1             7462.500        1.99         2.0   \n",
      "2            28677.000        8.69         3.0   \n",
      "3            24750.000        7.50         3.0   \n",
      "4            22771.500        7.99         4.0   \n",
      "..                 ...         ...         ...   \n",
      "993             62.964        0.99      1268.0   \n",
      "994            508.164        7.99      1270.0   \n",
      "995            508.164        7.99      1271.0   \n",
      "996             62.964        0.99      1272.0   \n",
      "997              0.000        2.99      1273.0   \n",
      "\n",
      "                         Publisher   units sold  \n",
      "0          HarperCollins Publishers      7000.0  \n",
      "1          HarperCollins Publishers      6250.0  \n",
      "2    Amazon Digital Services,  Inc.      5500.0  \n",
      "3               Hachette Book Group      5500.0  \n",
      "4           Penguin Group (USA) LLC      4750.0  \n",
      "..                              ...         ...  \n",
      "993  Amazon Digital Services,  Inc.       106.0  \n",
      "994                Random House LLC       106.0  \n",
      "995             Hachette Book Group       106.0  \n",
      "996  Amazon Digital Services,  Inc.       106.0  \n",
      "997  Amazon Digital Services,  Inc.       106.0  \n",
      "\n",
      "[998 rows x 15 columns]>\n"
     ]
    }
   ],
   "source": [
    "print(data.info)"
   ]
  },
  {
   "cell_type": "code",
   "execution_count": 79,
   "metadata": {},
   "outputs": [
    {
     "data": {
      "text/html": [
       "\n",
       "        <iframe\n",
       "            width=\"100%\"\n",
       "            height=\"650\"\n",
       "            src=\"http://127.0.0.1:8051/\"\n",
       "            frameborder=\"0\"\n",
       "            allowfullscreen\n",
       "            \n",
       "        ></iframe>\n",
       "        "
      ],
      "text/plain": [
       "<IPython.lib.display.IFrame at 0x7ff1f51bc850>"
      ]
     },
     "metadata": {},
     "output_type": "display_data"
    }
   ],
   "source": [
    "stylesheets = ['https://codepen.io/chriddyp/pen/bWLwgP.css'] # Load the css stylesheet\n",
    "\n",
    "graph1 = Dash(__name__, external_stylesheets=stylesheets) \n",
    "server = graph1.server\n",
    "\n",
    "# layout\n",
    "graph1.layout = html.Div([\n",
    "    html.H1(\"Book Sales v. Book Rating\", style={'textAlign': 'center', 'color': 'black'}), # Create header\n",
    "    \n",
    "    html.P(\"This data analyzes Book Sales based on a book's ratings.\", style={'textAlign': 'center', 'color': 'black'}), # align text and make font black\n",
    "    \n",
    "    html.Div([\n",
    "        # dropdown for the author name\n",
    "        dcc.Dropdown( \n",
    "            id='Author',\n",
    "            multi=True,\n",
    "            options=[{\"label\": x, \"value\": x} for x in sorted(data['Author'].unique())],\n",
    "            value=[data['Author'].unique()[0]],\n",
    "            className='six columns'\n",
    "        ),  \n",
    "        # dropdown for the book name\n",
    "        dcc.Dropdown( \n",
    "            id='Book Name',\n",
    "            multi=True,\n",
    "            options=[{\"label\": x, \"value\": x} for x in sorted(data['Book Name'].unique())],\n",
    "            value=[data['Book Name'].unique()[0]],\n",
    "            className='six columns'\n",
    "        ),  \n",
    "        # range slider for the publiidhing year \n",
    "        dcc.RangeSlider(\n",
    "            id='year-slider',\n",
    "            min=data['Publishing Year'].min(),\n",
    "            max=data['Publishing Year'].max(),\n",
    "            value=[data['Publishing Year'].min(), data['Publishing Year'].max()],\n",
    "            marks={str(year): str(year) if year % 100 == 0 else '' for year in data['Publishing Year'].unique()},\n",
    "            step=None,\n",
    "            tooltip={'always_visible': True},\n",
    "            className='six columns'\n",
    "        )\n",
    "    ], className='row', style={'padding': 10}),\n",
    "    \n",
    "    dcc.Graph(id='graph', figure=px.scatter(data, x='Book_average_rating', y='gross sales', title='Book Rating v. Book Sales')), # Plotly Express graph\n",
    "], style={'padding': 20})\n",
    "\n",
    "# call back for drowndown and range sliders\n",
    "@graph1.callback(\n",
    "    Output('graph', 'figure'),\n",
    "    [Input('Author', 'value'),\n",
    "     Input('Book Name', 'value'),\n",
    "     Input('year-slider', 'value')])\n",
    "def update_graph(author_values, book_values, year_range):\n",
    "    filtered_data = data[\n",
    "        (data['Author'].isin(author_values)) &\n",
    "        (data['Book Name'].isin(book_values)) &\n",
    "        (data['Publishing Year'] >= year_range[0]) &\n",
    "        (data['Publishing Year'] <= year_range[1])\n",
    "    ]\n",
    "    \n",
    "    fig = px.scatter(filtered_data, x='Book_average_rating', y='gross sales', title='Book Rating v. Book Sales')\n",
    "    return fig\n",
    "\n",
    "# run the app\n",
    "if __name__ == '__main__':\n",
    "    graph1.run_server(debug=True, port = 8051)\n",
    "\n",
    "# I am struggling deciding if this filter / UI elements will control the entirre dashboard or just the graph, \n",
    "#I am also sturggling to find unique stylesheets, \n",
    "# and also implementing BCE years for the range slider (they apear as negative)"
   ]
  }
 ],
 "metadata": {
  "kernelspec": {
   "display_name": "ds4003",
   "language": "python",
   "name": "python3"
  },
  "language_info": {
   "codemirror_mode": {
    "name": "ipython",
    "version": 3
   },
   "file_extension": ".py",
   "mimetype": "text/x-python",
   "name": "python",
   "nbconvert_exporter": "python",
   "pygments_lexer": "ipython3",
   "version": "3.8.18"
  }
 },
 "nbformat": 4,
 "nbformat_minor": 2
}
