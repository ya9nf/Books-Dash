{
 "cells": [
  {
   "cell_type": "markdown",
   "metadata": {},
   "source": [
    "## Books Dashbooard \n",
    "### Yasmin Azizi"
   ]
  },
  {
   "cell_type": "markdown",
   "metadata": {},
   "source": [
    "[ Dataset: Books Sales and Ratings](https://www.kaggle.com/datasets/thedevastator/books-sales-and-ratings)\n",
    "\n",
    "My dashboard showcases book data that can be used to identify highly rated books from different genres. Picking a book can be lengthy and difficult due to the large selection and limited tools to make desicions. Depending on what perspective is taken this dataset can be used to lead reading choices or inventory selection amongst other purposes. A bookestore owner can use this data to enhance sales and manage inventory. A novice reader can use this information to guide where to start.\n",
    "\n",
    "The data is sourced from kaggle. The kaggle user sourced the dataset from data world, a reliable data catalog that requires a paid trial to be accessed. It displays data gained from Amazon. \n",
    "\n",
    "\n",
    "\n"
   ]
  },
  {
   "cell_type": "markdown",
   "metadata": {},
   "source": [
    "### Clean Data"
   ]
  },
  {
   "cell_type": "code",
   "execution_count": 31,
   "metadata": {},
   "outputs": [],
   "source": [
    "import pandas as pd\n",
    "import seaborn as sns\n",
    "import plotly.express as px"
   ]
  },
  {
   "cell_type": "code",
   "execution_count": 32,
   "metadata": {},
   "outputs": [],
   "source": [
    "# read in data\n",
    "data = pd.read_csv(\"/Users/yasminazizi/Desktop/DS 4003/Final Project Data.csv\")\n"
   ]
  },
  {
   "cell_type": "code",
   "execution_count": 33,
   "metadata": {},
   "outputs": [
    {
     "name": "stdout",
     "output_type": "stream",
     "text": [
      "<class 'pandas.core.frame.DataFrame'>\n",
      "RangeIndex: 1070 entries, 0 to 1069\n",
      "Data columns (total 15 columns):\n",
      " #   Column               Non-Null Count  Dtype  \n",
      "---  ------               --------------  -----  \n",
      " 0   index                1070 non-null   int64  \n",
      " 1   Publishing Year      1069 non-null   float64\n",
      " 2   Book Name            1047 non-null   object \n",
      " 3   Author               1070 non-null   object \n",
      " 4   language_code        1017 non-null   object \n",
      " 5   Author_Rating        1070 non-null   object \n",
      " 6   Book_average_rating  1070 non-null   float64\n",
      " 7   Book_ratings_count   1070 non-null   int64  \n",
      " 8   genre                1070 non-null   object \n",
      " 9   gross sales          1070 non-null   float64\n",
      " 10  publisher revenue    1070 non-null   float64\n",
      " 11  sale price           1070 non-null   float64\n",
      " 12  sales rank           1070 non-null   int64  \n",
      " 13  Publisher            1070 non-null   object \n",
      " 14  units sold           1070 non-null   int64  \n",
      "dtypes: float64(5), int64(4), object(6)\n",
      "memory usage: 125.5+ KB\n",
      "None\n"
     ]
    }
   ],
   "source": [
    "# analyze info\n",
    "print(data.info())"
   ]
  },
  {
   "cell_type": "code",
   "execution_count": 34,
   "metadata": {},
   "outputs": [],
   "source": [
    "#change int to float\n",
    "data[['index', 'Book_ratings_count', 'sales rank', 'units sold']] = data[['index', 'Book_ratings_count','sales rank', 'units sold']].astype(float)\n"
   ]
  },
  {
   "cell_type": "code",
   "execution_count": 35,
   "metadata": {},
   "outputs": [
    {
     "name": "stdout",
     "output_type": "stream",
     "text": [
      "   index  Publishing Year                        Book Name  \\\n",
      "0    0.0           1975.0                          Beowulf   \n",
      "1    1.0           1987.0                 Batman: Year One   \n",
      "2    2.0           2015.0                Go Set a Watchman   \n",
      "3    3.0           2008.0  When You Are Engulfed in Flames   \n",
      "4    4.0           2011.0         Daughter of Smoke & Bone   \n",
      "\n",
      "                                              Author language_code  \\\n",
      "0                             Unknown, Seamus Heaney         en-US   \n",
      "1  Frank Miller, David Mazzucchelli, Richmond Lew...           eng   \n",
      "2                                         Harper Lee           eng   \n",
      "3                                      David Sedaris         en-US   \n",
      "4                                       Laini Taylor           eng   \n",
      "\n",
      "  Author_Rating  Book_average_rating  Book_ratings_count          genre  \\\n",
      "0        Novice                 3.42            155903.0  genre fiction   \n",
      "1  Intermediate                 4.23            145267.0  genre fiction   \n",
      "2        Novice                 3.31            138669.0  genre fiction   \n",
      "3  Intermediate                 4.04            150898.0        fiction   \n",
      "4  Intermediate                 4.04            198283.0  genre fiction   \n",
      "\n",
      "   gross sales  publisher revenue  sale price  sales rank  \\\n",
      "0      34160.0            20496.0        4.88         1.0   \n",
      "1      12437.5             7462.5        1.99         2.0   \n",
      "2      47795.0            28677.0        8.69         3.0   \n",
      "3      41250.0            24750.0        7.50         3.0   \n",
      "4      37952.5            22771.5        7.99         4.0   \n",
      "\n",
      "                       Publisher   units sold  \n",
      "0        HarperCollins Publishers      7000.0  \n",
      "1        HarperCollins Publishers      6250.0  \n",
      "2  Amazon Digital Services,  Inc.      5500.0  \n",
      "3             Hachette Book Group      5500.0  \n",
      "4         Penguin Group (USA) LLC      4750.0  \n"
     ]
    }
   ],
   "source": [
    "# see the first 5 values of each variable\n",
    "print(data.head(5))"
   ]
  },
  {
   "cell_type": "code",
   "execution_count": 36,
   "metadata": {},
   "outputs": [
    {
     "name": "stdout",
     "output_type": "stream",
     "text": [
      "             index  Publishing Year  Book_average_rating  Book_ratings_count  \\\n",
      "count  1070.000000      1069.000000          1070.000000         1070.000000   \n",
      "mean    534.500000      1971.377923             4.007000        94909.913084   \n",
      "std     309.026698       185.080257             0.247244        31513.242518   \n",
      "min       0.000000      -560.000000             2.970000        27308.000000   \n",
      "25%     267.250000      1985.000000             3.850000        70398.000000   \n",
      "50%     534.500000      2003.000000             4.015000        89309.000000   \n",
      "75%     801.750000      2010.000000             4.170000       113906.500000   \n",
      "max    1069.000000      2016.000000             4.770000       206792.000000   \n",
      "\n",
      "        gross sales  publisher revenue   sale price   sales rank    units sold  \n",
      "count   1070.000000        1070.000000  1070.000000  1070.000000   1070.000000  \n",
      "mean    1856.622944         843.281030     4.869561   611.652336   9676.980374  \n",
      "std     3936.924240        2257.596743     3.559919   369.849830  15370.571306  \n",
      "min      104.940000           0.000000     0.990000     1.000000    106.000000  \n",
      "25%      372.465000           0.000000     1.990000   287.500000    551.250000  \n",
      "50%      809.745000         273.078000     3.990000   595.500000   3924.000000  \n",
      "75%     1487.957500         721.180500     6.990000   932.500000   5312.250000  \n",
      "max    47795.000000       28677.000000    33.860000  1273.000000  61560.000000  \n"
     ]
    }
   ],
   "source": [
    "# print basic statistics of the variables\n",
    "print(data.describe())"
   ]
  },
  {
   "cell_type": "code",
   "execution_count": 37,
   "metadata": {},
   "outputs": [
    {
     "name": "stdout",
     "output_type": "stream",
     "text": [
      "index                   0\n",
      "Publishing Year         1\n",
      "Book Name              23\n",
      "Author                  0\n",
      "language_code          53\n",
      "Author_Rating           0\n",
      "Book_average_rating     0\n",
      "Book_ratings_count      0\n",
      "genre                   0\n",
      "gross sales             0\n",
      "publisher revenue       0\n",
      "sale price              0\n",
      "sales rank              0\n",
      "Publisher               0\n",
      "units sold              0\n",
      "dtype: int64\n"
     ]
    }
   ],
   "source": [
    "# see how many values are null\n",
    "print(data.isnull().sum())"
   ]
  },
  {
   "cell_type": "code",
   "execution_count": 38,
   "metadata": {},
   "outputs": [],
   "source": [
    "# drop the missing values\n",
    "data.dropna(inplace=True)"
   ]
  },
  {
   "cell_type": "code",
   "execution_count": 39,
   "metadata": {},
   "outputs": [
    {
     "name": "stdout",
     "output_type": "stream",
     "text": [
      "index                  0\n",
      "Publishing Year        0\n",
      "Book Name              0\n",
      "Author                 0\n",
      "language_code          0\n",
      "Author_Rating          0\n",
      "Book_average_rating    0\n",
      "Book_ratings_count     0\n",
      "genre                  0\n",
      "gross sales            0\n",
      "publisher revenue      0\n",
      "sale price             0\n",
      "sales rank             0\n",
      "Publisher              0\n",
      "units sold             0\n",
      "dtype: int64\n"
     ]
    }
   ],
   "source": [
    "# check to make sure they were dropped\n",
    "print(data.isnull().sum())"
   ]
  },
  {
   "cell_type": "code",
   "execution_count": 40,
   "metadata": {},
   "outputs": [],
   "source": [
    "# drop a the language code variable, all books ar in english\n",
    "\n",
    "data.drop(columns=['language_code'], inplace=True)\n"
   ]
  },
  {
   "cell_type": "code",
   "execution_count": 41,
   "metadata": {},
   "outputs": [],
   "source": [
    "# change year into object\n",
    "data['Publishing Year'] = data['Publishing Year'].astype(str)\n"
   ]
  },
  {
   "cell_type": "code",
   "execution_count": 42,
   "metadata": {},
   "outputs": [
    {
     "name": "stdout",
     "output_type": "stream",
     "text": [
      "<class 'pandas.core.frame.DataFrame'>\n",
      "Index: 998 entries, 0 to 1069\n",
      "Data columns (total 14 columns):\n",
      " #   Column               Non-Null Count  Dtype  \n",
      "---  ------               --------------  -----  \n",
      " 0   index                998 non-null    float64\n",
      " 1   Publishing Year      998 non-null    object \n",
      " 2   Book Name            998 non-null    object \n",
      " 3   Author               998 non-null    object \n",
      " 4   Author_Rating        998 non-null    object \n",
      " 5   Book_average_rating  998 non-null    float64\n",
      " 6   Book_ratings_count   998 non-null    float64\n",
      " 7   genre                998 non-null    object \n",
      " 8   gross sales          998 non-null    float64\n",
      " 9   publisher revenue    998 non-null    float64\n",
      " 10  sale price           998 non-null    float64\n",
      " 11  sales rank           998 non-null    float64\n",
      " 12  Publisher            998 non-null    object \n",
      " 13  units sold           998 non-null    float64\n",
      "dtypes: float64(8), object(6)\n",
      "memory usage: 117.0+ KB\n",
      "None\n"
     ]
    }
   ],
   "source": [
    "# check to make sure the changes werre made\n",
    "print(data.info())"
   ]
  },
  {
   "cell_type": "markdown",
   "metadata": {},
   "source": [
    "### Exploratory Data Analysis"
   ]
  },
  {
   "cell_type": "code",
   "execution_count": 43,
   "metadata": {},
   "outputs": [
    {
     "name": "stdout",
     "output_type": "stream",
     "text": [
      "998\n"
     ]
    }
   ],
   "source": [
    "# Number of observations\n",
    "num_observations = len(data)\n",
    "print(num_observations)"
   ]
  },
  {
   "cell_type": "code",
   "execution_count": 44,
   "metadata": {},
   "outputs": [
    {
     "name": "stdout",
     "output_type": "stream",
     "text": [
      "Publishing Year    147\n",
      "Book Name          996\n",
      "Author             698\n",
      "Author_Rating        4\n",
      "genre                4\n",
      "Publisher            9\n",
      "dtype: int64\n"
     ]
    }
   ],
   "source": [
    "# the amount of uniique characterisics for categorical variables\n",
    "num_unique_categories = data.select_dtypes(include=['object', 'category']).apply(lambda x: x.value_counts().count())\n",
    "\n",
    "print(num_unique_categories)"
   ]
  },
  {
   "cell_type": "code",
   "execution_count": 45,
   "metadata": {},
   "outputs": [
    {
     "name": "stdout",
     "output_type": "stream",
     "text": [
      "   index Publishing Year                        Book Name  \\\n",
      "0    0.0          1975.0                          Beowulf   \n",
      "1    1.0          1987.0                 Batman: Year One   \n",
      "2    2.0          2015.0                Go Set a Watchman   \n",
      "3    3.0          2008.0  When You Are Engulfed in Flames   \n",
      "4    4.0          2011.0         Daughter of Smoke & Bone   \n",
      "\n",
      "                                              Author Author_Rating  \\\n",
      "0                             Unknown, Seamus Heaney        Novice   \n",
      "1  Frank Miller, David Mazzucchelli, Richmond Lew...  Intermediate   \n",
      "2                                         Harper Lee        Novice   \n",
      "3                                      David Sedaris  Intermediate   \n",
      "4                                       Laini Taylor  Intermediate   \n",
      "\n",
      "   Book_average_rating  Book_ratings_count          genre  gross sales  \\\n",
      "0                 3.42            155903.0  genre fiction      34160.0   \n",
      "1                 4.23            145267.0  genre fiction      12437.5   \n",
      "2                 3.31            138669.0  genre fiction      47795.0   \n",
      "3                 4.04            150898.0        fiction      41250.0   \n",
      "4                 4.04            198283.0  genre fiction      37952.5   \n",
      "\n",
      "   publisher revenue  sale price  sales rank                      Publisher   \\\n",
      "0            20496.0        4.88         1.0        HarperCollins Publishers   \n",
      "1             7462.5        1.99         2.0        HarperCollins Publishers   \n",
      "2            28677.0        8.69         3.0  Amazon Digital Services,  Inc.   \n",
      "3            24750.0        7.50         3.0             Hachette Book Group   \n",
      "4            22771.5        7.99         4.0         Penguin Group (USA) LLC   \n",
      "\n",
      "   units sold  \n",
      "0      7000.0  \n",
      "1      6250.0  \n",
      "2      5500.0  \n",
      "3      5500.0  \n",
      "4      4750.0  \n"
     ]
    }
   ],
   "source": [
    "# describe the data \n",
    "print(data.head())"
   ]
  },
  {
   "cell_type": "code",
   "execution_count": 46,
   "metadata": {},
   "outputs": [
    {
     "name": "stdout",
     "output_type": "stream",
     "text": [
      "<class 'pandas.core.frame.DataFrame'>\n",
      "Index: 998 entries, 0 to 1069\n",
      "Data columns (total 14 columns):\n",
      " #   Column               Non-Null Count  Dtype  \n",
      "---  ------               --------------  -----  \n",
      " 0   index                998 non-null    float64\n",
      " 1   Publishing Year      998 non-null    object \n",
      " 2   Book Name            998 non-null    object \n",
      " 3   Author               998 non-null    object \n",
      " 4   Author_Rating        998 non-null    object \n",
      " 5   Book_average_rating  998 non-null    float64\n",
      " 6   Book_ratings_count   998 non-null    float64\n",
      " 7   genre                998 non-null    object \n",
      " 8   gross sales          998 non-null    float64\n",
      " 9   publisher revenue    998 non-null    float64\n",
      " 10  sale price           998 non-null    float64\n",
      " 11  sales rank           998 non-null    float64\n",
      " 12  Publisher            998 non-null    object \n",
      " 13  units sold           998 non-null    float64\n",
      "dtypes: float64(8), object(6)\n",
      "memory usage: 117.0+ KB\n",
      "None\n"
     ]
    }
   ],
   "source": [
    "# check to make sure the changes were made\n",
    "print(data.info())"
   ]
  },
  {
   "cell_type": "code",
   "execution_count": 47,
   "metadata": {},
   "outputs": [
    {
     "name": "stdout",
     "output_type": "stream",
     "text": [
      "             index  Book_average_rating  Book_ratings_count  gross sales  \\\n",
      "count   998.000000           998.000000          998.000000    998.00000   \n",
      "mean    529.619238             4.003056        95500.622244   1885.08515   \n",
      "std     308.616860             0.247360        31650.845116   4023.26877   \n",
      "min       0.000000             2.970000        27308.000000    104.94000   \n",
      "25%     263.250000             3.850000        70946.500000    370.88250   \n",
      "50%     530.500000             4.010000        89901.000000    806.25000   \n",
      "75%     793.750000             4.170000       115596.000000   1492.96500   \n",
      "max    1069.000000             4.770000       206792.000000  47795.00000   \n",
      "\n",
      "       publisher revenue  sale price   sales rank    units sold  \n",
      "count         998.000000  998.000000   998.000000    998.000000  \n",
      "mean          848.897952    4.839649   605.750501   9802.312625  \n",
      "std          2303.504061    3.585046   369.174705  15503.088302  \n",
      "min             0.000000    0.990000     1.000000    106.000000  \n",
      "25%             0.000000    1.990000   283.000000    555.000000  \n",
      "50%           260.619000    3.990000   591.500000   3915.000000  \n",
      "75%           721.180500    6.990000   919.500000   5420.250000  \n",
      "max         28677.000000   33.860000  1273.000000  61560.000000  \n"
     ]
    }
   ],
   "source": [
    "# Get summary statistics for numerical columns\n",
    "print(data.describe())"
   ]
  },
  {
   "cell_type": "code",
   "execution_count": 48,
   "metadata": {},
   "outputs": [
    {
     "name": "stdout",
     "output_type": "stream",
     "text": [
      "(998, 14)\n"
     ]
    }
   ],
   "source": [
    "# number of rows and columns\n",
    "print(data.shape)"
   ]
  },
  {
   "cell_type": "markdown",
   "metadata": {},
   "source": [
    "Checking distributions and outliers for continous variables"
   ]
  },
  {
   "cell_type": "code",
   "execution_count": 53,
   "metadata": {},
   "outputs": [
    {
     "data": {
      "application/vnd.plotly.v1+json": {
       "config": {
        "plotlyServerURL": "https://plot.ly"
       },
       "data": [
        {
         "alignmentgroup": "True",
         "bingroup": "x",
         "hovertemplate": "Book_average_rating=%{x}<br>count=%{y}<extra></extra>",
         "legendgroup": "",
         "marker": {
          "color": "#636efa",
          "pattern": {
           "shape": ""
          }
         },
         "name": "",
         "offsetgroup": "",
         "orientation": "v",
         "showlegend": false,
         "type": "histogram",
         "x": [
          3.42,
          4.23,
          3.31,
          4.04,
          4.04,
          4.08,
          4.03,
          3.9,
          4.34,
          4.2,
          4.13,
          3.9,
          4.42,
          4.18,
          4.29,
          3.76,
          3.8,
          3.9,
          4.28,
          4.17,
          3.74,
          4.1,
          4.38,
          3.65,
          3.83,
          4.13,
          3.77,
          3.64,
          4.22,
          4.64,
          4.03,
          4.14,
          3.7,
          4.07,
          4.25,
          4.08,
          3.94,
          4.14,
          4,
          3.52,
          4,
          3.83,
          3.76,
          3.85,
          3.72,
          4.16,
          3.83,
          4.3,
          3.95,
          4.16,
          3.47,
          4.42,
          3.79,
          3.9,
          4.09,
          4.11,
          3.96,
          4.11,
          4.32,
          3.99,
          4,
          3.56,
          3.91,
          3.85,
          4.14,
          4.22,
          3.89,
          4.17,
          3.95,
          4.46,
          3.9,
          3.8,
          4.48,
          4.34,
          3.64,
          4.32,
          3.87,
          4.23,
          4.12,
          3.98,
          4.03,
          3.97,
          3.7,
          4.09,
          4.08,
          4.12,
          3.89,
          3.82,
          3.92,
          4.05,
          3.97,
          4.29,
          4.29,
          4.11,
          3.69,
          3.94,
          4.01,
          4.01,
          3.99,
          3.93,
          3.88,
          4.12,
          3.64,
          3.97,
          4.02,
          4.23,
          3.9,
          4.29,
          3.84,
          3.48,
          3.71,
          4.08,
          3.89,
          3.83,
          3.97,
          4.02,
          4.08,
          3.73,
          3.52,
          3.82,
          3.71,
          3.78,
          3.81,
          3.55,
          4.22,
          4.12,
          4.07,
          3.89,
          4.04,
          4,
          4.08,
          3.78,
          4.2,
          3.9,
          3.98,
          4.16,
          4.26,
          4.16,
          3.85,
          4.19,
          4.27,
          3.98,
          4.22,
          4.17,
          4.16,
          3.8,
          4.02,
          4.54,
          3.85,
          3.98,
          4.06,
          3.98,
          3.67,
          3.69,
          4.31,
          4.04,
          3.77,
          3.7,
          4.03,
          4.05,
          3.85,
          4,
          3.86,
          3.88,
          3.78,
          3.81,
          3.87,
          4.1,
          3.66,
          3.9,
          3.95,
          3.69,
          4.19,
          3.67,
          4.18,
          4.34,
          4.29,
          3.89,
          3.49,
          3.99,
          3.86,
          4.02,
          4.21,
          4.21,
          4.26,
          4.01,
          4.24,
          4.18,
          3.73,
          4.19,
          4.21,
          3.41,
          4.14,
          3.51,
          3.8,
          4.42,
          4.36,
          3.84,
          4.14,
          4.34,
          4.24,
          4.26,
          4.1,
          3.9,
          4.3,
          4.17,
          4.01,
          4.26,
          4.23,
          4.19,
          4.49,
          4.18,
          4.05,
          4.22,
          3.92,
          4.47,
          4.05,
          4.22,
          4.3,
          3.82,
          4.34,
          3.99,
          3.9,
          4.29,
          4.3,
          4.2,
          4.07,
          4.5,
          3.65,
          3.81,
          3.9,
          3.81,
          4.46,
          4.14,
          3.62,
          3.97,
          4.34,
          4.61,
          3.77,
          3.63,
          3.93,
          4.09,
          4.08,
          4.33,
          4.07,
          4.2,
          4.01,
          4.31,
          4.15,
          4.1,
          3.79,
          4.24,
          4.15,
          4.07,
          3.88,
          3.7,
          4.23,
          3.8,
          3.98,
          4.24,
          3.46,
          4.23,
          4.16,
          4.36,
          3.81,
          4.21,
          3.55,
          3.96,
          4.12,
          3.85,
          4.3,
          3.59,
          3.79,
          4.1,
          3.91,
          3.7,
          3.82,
          3.67,
          3.87,
          3.98,
          4.11,
          4.23,
          3.91,
          3.86,
          4.01,
          4.13,
          3.76,
          4.03,
          4.35,
          3.89,
          3.99,
          3.77,
          3.78,
          4.37,
          4.45,
          4.29,
          4.21,
          4.19,
          4.26,
          3.84,
          3.98,
          3.74,
          3.75,
          3.79,
          4.32,
          3.86,
          4,
          3.97,
          3.8,
          4.03,
          4.26,
          4.15,
          3.94,
          4.23,
          4.77,
          4.36,
          4.26,
          3.96,
          3.96,
          3.91,
          4.11,
          3.73,
          4.3,
          3.88,
          3.97,
          3.95,
          4,
          3.69,
          4.13,
          4.17,
          4.12,
          3.72,
          4.03,
          4.04,
          4.16,
          3.95,
          4.07,
          3.83,
          3.93,
          3.72,
          4.24,
          4.35,
          4.04,
          3.9,
          4.49,
          4.32,
          3.86,
          4.07,
          4.06,
          3.86,
          3.93,
          4.11,
          4,
          4.08,
          3.62,
          4.02,
          4.15,
          3.87,
          4.1,
          3.48,
          4.2,
          4.23,
          3.47,
          4.11,
          4.15,
          3.79,
          3.57,
          4.14,
          3.94,
          3.83,
          3.77,
          4.19,
          3.86,
          3.84,
          3.42,
          3.89,
          3.48,
          4.16,
          4.05,
          3.99,
          3.78,
          3.33,
          4.04,
          4.12,
          3.81,
          3.94,
          4.17,
          4.25,
          4.26,
          3.82,
          3.94,
          3.91,
          4.1,
          3.95,
          3.8,
          3.89,
          3.69,
          4.19,
          3.91,
          4.13,
          4.14,
          3.93,
          3.77,
          4.27,
          4.2,
          3.75,
          4.29,
          3.91,
          3.6,
          4.34,
          3.93,
          4.3,
          4.59,
          4.12,
          3.74,
          3.62,
          3.66,
          4.16,
          3.84,
          3.57,
          3.66,
          4,
          4.04,
          3.94,
          4.18,
          3.68,
          4.05,
          4.4,
          3.8,
          4.26,
          4.36,
          4.42,
          4.25,
          3.93,
          3.95,
          4.04,
          4.31,
          4.09,
          4.14,
          4.06,
          4.45,
          4.09,
          4.05,
          3.22,
          4.37,
          4.11,
          4,
          3.75,
          3.97,
          3.79,
          4.17,
          3.54,
          4.65,
          4,
          4.08,
          4.11,
          4.1,
          3.95,
          4.21,
          4.09,
          4,
          4.03,
          4.53,
          3.81,
          3.92,
          4.43,
          4.41,
          3.55,
          4.25,
          3.99,
          4.04,
          4.08,
          3.91,
          4.18,
          4.08,
          4.37,
          3.81,
          3.79,
          3.28,
          3.8,
          4.18,
          3.97,
          4.1,
          3.89,
          4.1,
          3.85,
          4.24,
          4.07,
          4.17,
          3.96,
          3.88,
          3.96,
          3.98,
          3.99,
          3.86,
          4.03,
          3.97,
          4.07,
          3.97,
          3.85,
          3.77,
          3.98,
          4.21,
          3.96,
          4.17,
          4.06,
          3.95,
          4.14,
          4.1,
          3.73,
          3.76,
          4.16,
          3.81,
          3.45,
          3.99,
          3.98,
          3.6,
          4.02,
          4.29,
          3.82,
          3.77,
          3.76,
          3.43,
          4.02,
          4.09,
          3.92,
          4,
          4.13,
          4.11,
          3.98,
          4.02,
          3.76,
          3.89,
          4.02,
          4.14,
          4.31,
          4.27,
          3.91,
          4.01,
          3.76,
          3.86,
          4.28,
          4.28,
          4.34,
          4.33,
          3.41,
          4.21,
          4.05,
          4.13,
          3.89,
          4,
          3.72,
          3.74,
          4,
          4.05,
          4.18,
          4.22,
          3.93,
          3.42,
          4.1,
          4.3,
          4.1,
          3.81,
          4.3,
          3.95,
          3.82,
          4.22,
          3.85,
          3.93,
          4.04,
          4.11,
          3.48,
          3.96,
          3.86,
          4.25,
          4.05,
          3.98,
          3.7,
          3.98,
          3.84,
          3.91,
          3.68,
          4.15,
          4.18,
          3.85,
          4.08,
          4.24,
          3.99,
          3.91,
          3.85,
          4.33,
          4.07,
          4.04,
          4.02,
          3.72,
          3.83,
          3.95,
          4.19,
          4.11,
          4.06,
          4.01,
          4.33,
          4.28,
          3.79,
          4.04,
          3.73,
          3.49,
          4.18,
          4.19,
          3.84,
          4.17,
          4.17,
          4.17,
          3.9,
          4.42,
          3.83,
          3.67,
          3.88,
          3.84,
          3.77,
          3.99,
          3.96,
          4.36,
          3.79,
          4.14,
          3.91,
          4.07,
          4.18,
          4.27,
          4.12,
          4.2,
          3.77,
          3.9,
          3.62,
          4.15,
          3.57,
          3.92,
          3.9,
          3.81,
          4.21,
          4.15,
          3.71,
          3.74,
          3.74,
          3.94,
          4.15,
          4.1,
          4.24,
          4.21,
          3.56,
          3.88,
          4.39,
          4.06,
          3.97,
          4.15,
          4.16,
          4.32,
          4.22,
          4.27,
          3.73,
          4.17,
          3.94,
          3.99,
          4.35,
          3.59,
          4.13,
          4.16,
          3.95,
          4.02,
          3.82,
          4.2,
          3.98,
          4.18,
          3.96,
          4.12,
          3.9,
          3.94,
          4.21,
          3.97,
          4.05,
          4.23,
          3.57,
          4.28,
          4.18,
          3.94,
          4.29,
          3.82,
          3.92,
          3.9,
          4.2,
          4.6,
          4.41,
          4.13,
          4.16,
          3.86,
          4.1,
          3.82,
          3.81,
          3.86,
          4.04,
          4.42,
          4.06,
          4.12,
          3.81,
          3.81,
          3.75,
          3.68,
          3.97,
          4.14,
          4.08,
          3.85,
          4.26,
          4.11,
          4.01,
          3.9,
          4.3,
          4.25,
          4.14,
          3.96,
          4.21,
          3.69,
          3.8,
          4.09,
          4.04,
          4.12,
          3.77,
          3.78,
          4.03,
          4.33,
          4.09,
          3.3,
          3.73,
          4.72,
          3.84,
          4.11,
          3.5,
          3.86,
          4.42,
          3.97,
          4.06,
          3.6,
          3.73,
          4.01,
          3.97,
          4.42,
          4.18,
          3.8,
          3.89,
          4.05,
          4.07,
          3.94,
          4.23,
          4.14,
          3.95,
          4.26,
          3.96,
          3.96,
          3.37,
          4.16,
          4.33,
          4.36,
          4.37,
          3.92,
          4.43,
          4.46,
          4.47,
          3.94,
          3.82,
          3.95,
          4.26,
          3.75,
          4.16,
          4.16,
          4.29,
          4.16,
          4.37,
          4.49,
          3.94,
          4.27,
          4.2,
          4.28,
          3.93,
          3.93,
          4.41,
          4.17,
          3.97,
          3.94,
          4.08,
          4.27,
          3.89,
          4.1,
          3.8,
          3.89,
          4.5,
          3.58,
          4.16,
          3.84,
          4.01,
          4.53,
          3.92,
          4.17,
          4.14,
          3.81,
          3.86,
          3.85,
          3.6,
          4.15,
          3.91,
          3.75,
          3.99,
          4.41,
          3.58,
          4.03,
          4.01,
          3.59,
          4.28,
          4.15,
          3.89,
          4.2,
          3.92,
          3.91,
          4.05,
          4.13,
          3.67,
          4.34,
          2.97,
          4.2,
          3.96,
          4.27,
          4.01,
          3.8,
          4.04,
          4.36,
          3.32,
          4.15,
          3.41,
          4.16,
          3.66,
          4,
          3.95,
          3.82,
          4.21,
          3.39,
          4.11,
          3.51,
          3.67,
          3.69,
          4.18,
          3.64,
          4.13,
          3.92,
          3.64,
          4.16,
          4.16,
          3.56,
          3.98,
          3.94,
          4.01,
          3.91,
          4.43,
          4.43,
          4.01,
          4.11,
          3.9,
          3.75,
          4.26,
          3.53,
          3.95,
          3.81,
          4.05,
          4.32,
          4.06,
          4.17,
          4.36,
          4.03,
          4.09,
          3.86,
          3.95,
          4.15,
          4.13,
          4.35,
          4.32,
          4.12,
          4.1,
          3.72,
          4,
          4,
          4.12,
          4.12,
          4.27,
          3.23,
          3.79,
          4.38,
          4.18,
          3.75,
          4.06,
          4.23,
          4.08,
          4.03,
          3.77,
          4.21,
          4.06,
          3.87,
          4.56,
          3.8,
          3.94,
          3.83,
          4.21,
          4.24,
          4.32,
          4.26,
          3.56,
          4.08,
          3.65,
          3.94,
          4.4,
          3.92,
          4.15,
          4.41,
          4.16,
          4.2,
          3.88,
          3.98,
          3.94,
          4.19,
          3.97,
          3.6,
          3.63,
          3.81,
          3.99,
          3.82,
          3.21,
          4.17,
          3.85,
          3.51,
          4.13,
          3.99,
          3.76,
          3.7,
          4.02,
          4.16,
          3.98,
          3.84,
          3.4,
          4.04,
          3.91,
          4.24,
          3.77,
          3.83,
          4.36,
          4.24,
          3.1,
          4.18,
          3.97,
          3.91,
          3.93,
          4.3,
          4.16,
          4.24,
          3.72,
          4.37,
          4.03,
          3.89,
          4.03,
          3.21,
          3.35,
          3.78,
          4.44,
          4.07,
          3.92,
          3.46,
          4.28,
          3.67,
          4.05,
          3.84,
          4.03,
          4.4,
          4.04,
          3.81,
          3.69,
          4.18,
          3.89,
          3.73,
          4.06,
          3.91,
          3.91,
          3.92,
          3.65,
          3.94,
          3.66,
          4.17,
          3.95,
          4.31,
          3.52,
          4.34,
          3.92,
          4.17,
          4.07
         ],
         "xaxis": "x",
         "yaxis": "y"
        }
       ],
       "layout": {
        "barmode": "relative",
        "legend": {
         "tracegroupgap": 0
        },
        "template": {
         "data": {
          "bar": [
           {
            "error_x": {
             "color": "#2a3f5f"
            },
            "error_y": {
             "color": "#2a3f5f"
            },
            "marker": {
             "line": {
              "color": "#E5ECF6",
              "width": 0.5
             },
             "pattern": {
              "fillmode": "overlay",
              "size": 10,
              "solidity": 0.2
             }
            },
            "type": "bar"
           }
          ],
          "barpolar": [
           {
            "marker": {
             "line": {
              "color": "#E5ECF6",
              "width": 0.5
             },
             "pattern": {
              "fillmode": "overlay",
              "size": 10,
              "solidity": 0.2
             }
            },
            "type": "barpolar"
           }
          ],
          "carpet": [
           {
            "aaxis": {
             "endlinecolor": "#2a3f5f",
             "gridcolor": "white",
             "linecolor": "white",
             "minorgridcolor": "white",
             "startlinecolor": "#2a3f5f"
            },
            "baxis": {
             "endlinecolor": "#2a3f5f",
             "gridcolor": "white",
             "linecolor": "white",
             "minorgridcolor": "white",
             "startlinecolor": "#2a3f5f"
            },
            "type": "carpet"
           }
          ],
          "choropleth": [
           {
            "colorbar": {
             "outlinewidth": 0,
             "ticks": ""
            },
            "type": "choropleth"
           }
          ],
          "contour": [
           {
            "colorbar": {
             "outlinewidth": 0,
             "ticks": ""
            },
            "colorscale": [
             [
              0,
              "#0d0887"
             ],
             [
              0.1111111111111111,
              "#46039f"
             ],
             [
              0.2222222222222222,
              "#7201a8"
             ],
             [
              0.3333333333333333,
              "#9c179e"
             ],
             [
              0.4444444444444444,
              "#bd3786"
             ],
             [
              0.5555555555555556,
              "#d8576b"
             ],
             [
              0.6666666666666666,
              "#ed7953"
             ],
             [
              0.7777777777777778,
              "#fb9f3a"
             ],
             [
              0.8888888888888888,
              "#fdca26"
             ],
             [
              1,
              "#f0f921"
             ]
            ],
            "type": "contour"
           }
          ],
          "contourcarpet": [
           {
            "colorbar": {
             "outlinewidth": 0,
             "ticks": ""
            },
            "type": "contourcarpet"
           }
          ],
          "heatmap": [
           {
            "colorbar": {
             "outlinewidth": 0,
             "ticks": ""
            },
            "colorscale": [
             [
              0,
              "#0d0887"
             ],
             [
              0.1111111111111111,
              "#46039f"
             ],
             [
              0.2222222222222222,
              "#7201a8"
             ],
             [
              0.3333333333333333,
              "#9c179e"
             ],
             [
              0.4444444444444444,
              "#bd3786"
             ],
             [
              0.5555555555555556,
              "#d8576b"
             ],
             [
              0.6666666666666666,
              "#ed7953"
             ],
             [
              0.7777777777777778,
              "#fb9f3a"
             ],
             [
              0.8888888888888888,
              "#fdca26"
             ],
             [
              1,
              "#f0f921"
             ]
            ],
            "type": "heatmap"
           }
          ],
          "heatmapgl": [
           {
            "colorbar": {
             "outlinewidth": 0,
             "ticks": ""
            },
            "colorscale": [
             [
              0,
              "#0d0887"
             ],
             [
              0.1111111111111111,
              "#46039f"
             ],
             [
              0.2222222222222222,
              "#7201a8"
             ],
             [
              0.3333333333333333,
              "#9c179e"
             ],
             [
              0.4444444444444444,
              "#bd3786"
             ],
             [
              0.5555555555555556,
              "#d8576b"
             ],
             [
              0.6666666666666666,
              "#ed7953"
             ],
             [
              0.7777777777777778,
              "#fb9f3a"
             ],
             [
              0.8888888888888888,
              "#fdca26"
             ],
             [
              1,
              "#f0f921"
             ]
            ],
            "type": "heatmapgl"
           }
          ],
          "histogram": [
           {
            "marker": {
             "pattern": {
              "fillmode": "overlay",
              "size": 10,
              "solidity": 0.2
             }
            },
            "type": "histogram"
           }
          ],
          "histogram2d": [
           {
            "colorbar": {
             "outlinewidth": 0,
             "ticks": ""
            },
            "colorscale": [
             [
              0,
              "#0d0887"
             ],
             [
              0.1111111111111111,
              "#46039f"
             ],
             [
              0.2222222222222222,
              "#7201a8"
             ],
             [
              0.3333333333333333,
              "#9c179e"
             ],
             [
              0.4444444444444444,
              "#bd3786"
             ],
             [
              0.5555555555555556,
              "#d8576b"
             ],
             [
              0.6666666666666666,
              "#ed7953"
             ],
             [
              0.7777777777777778,
              "#fb9f3a"
             ],
             [
              0.8888888888888888,
              "#fdca26"
             ],
             [
              1,
              "#f0f921"
             ]
            ],
            "type": "histogram2d"
           }
          ],
          "histogram2dcontour": [
           {
            "colorbar": {
             "outlinewidth": 0,
             "ticks": ""
            },
            "colorscale": [
             [
              0,
              "#0d0887"
             ],
             [
              0.1111111111111111,
              "#46039f"
             ],
             [
              0.2222222222222222,
              "#7201a8"
             ],
             [
              0.3333333333333333,
              "#9c179e"
             ],
             [
              0.4444444444444444,
              "#bd3786"
             ],
             [
              0.5555555555555556,
              "#d8576b"
             ],
             [
              0.6666666666666666,
              "#ed7953"
             ],
             [
              0.7777777777777778,
              "#fb9f3a"
             ],
             [
              0.8888888888888888,
              "#fdca26"
             ],
             [
              1,
              "#f0f921"
             ]
            ],
            "type": "histogram2dcontour"
           }
          ],
          "mesh3d": [
           {
            "colorbar": {
             "outlinewidth": 0,
             "ticks": ""
            },
            "type": "mesh3d"
           }
          ],
          "parcoords": [
           {
            "line": {
             "colorbar": {
              "outlinewidth": 0,
              "ticks": ""
             }
            },
            "type": "parcoords"
           }
          ],
          "pie": [
           {
            "automargin": true,
            "type": "pie"
           }
          ],
          "scatter": [
           {
            "fillpattern": {
             "fillmode": "overlay",
             "size": 10,
             "solidity": 0.2
            },
            "type": "scatter"
           }
          ],
          "scatter3d": [
           {
            "line": {
             "colorbar": {
              "outlinewidth": 0,
              "ticks": ""
             }
            },
            "marker": {
             "colorbar": {
              "outlinewidth": 0,
              "ticks": ""
             }
            },
            "type": "scatter3d"
           }
          ],
          "scattercarpet": [
           {
            "marker": {
             "colorbar": {
              "outlinewidth": 0,
              "ticks": ""
             }
            },
            "type": "scattercarpet"
           }
          ],
          "scattergeo": [
           {
            "marker": {
             "colorbar": {
              "outlinewidth": 0,
              "ticks": ""
             }
            },
            "type": "scattergeo"
           }
          ],
          "scattergl": [
           {
            "marker": {
             "colorbar": {
              "outlinewidth": 0,
              "ticks": ""
             }
            },
            "type": "scattergl"
           }
          ],
          "scattermapbox": [
           {
            "marker": {
             "colorbar": {
              "outlinewidth": 0,
              "ticks": ""
             }
            },
            "type": "scattermapbox"
           }
          ],
          "scatterpolar": [
           {
            "marker": {
             "colorbar": {
              "outlinewidth": 0,
              "ticks": ""
             }
            },
            "type": "scatterpolar"
           }
          ],
          "scatterpolargl": [
           {
            "marker": {
             "colorbar": {
              "outlinewidth": 0,
              "ticks": ""
             }
            },
            "type": "scatterpolargl"
           }
          ],
          "scatterternary": [
           {
            "marker": {
             "colorbar": {
              "outlinewidth": 0,
              "ticks": ""
             }
            },
            "type": "scatterternary"
           }
          ],
          "surface": [
           {
            "colorbar": {
             "outlinewidth": 0,
             "ticks": ""
            },
            "colorscale": [
             [
              0,
              "#0d0887"
             ],
             [
              0.1111111111111111,
              "#46039f"
             ],
             [
              0.2222222222222222,
              "#7201a8"
             ],
             [
              0.3333333333333333,
              "#9c179e"
             ],
             [
              0.4444444444444444,
              "#bd3786"
             ],
             [
              0.5555555555555556,
              "#d8576b"
             ],
             [
              0.6666666666666666,
              "#ed7953"
             ],
             [
              0.7777777777777778,
              "#fb9f3a"
             ],
             [
              0.8888888888888888,
              "#fdca26"
             ],
             [
              1,
              "#f0f921"
             ]
            ],
            "type": "surface"
           }
          ],
          "table": [
           {
            "cells": {
             "fill": {
              "color": "#EBF0F8"
             },
             "line": {
              "color": "white"
             }
            },
            "header": {
             "fill": {
              "color": "#C8D4E3"
             },
             "line": {
              "color": "white"
             }
            },
            "type": "table"
           }
          ]
         },
         "layout": {
          "annotationdefaults": {
           "arrowcolor": "#2a3f5f",
           "arrowhead": 0,
           "arrowwidth": 1
          },
          "autotypenumbers": "strict",
          "coloraxis": {
           "colorbar": {
            "outlinewidth": 0,
            "ticks": ""
           }
          },
          "colorscale": {
           "diverging": [
            [
             0,
             "#8e0152"
            ],
            [
             0.1,
             "#c51b7d"
            ],
            [
             0.2,
             "#de77ae"
            ],
            [
             0.3,
             "#f1b6da"
            ],
            [
             0.4,
             "#fde0ef"
            ],
            [
             0.5,
             "#f7f7f7"
            ],
            [
             0.6,
             "#e6f5d0"
            ],
            [
             0.7,
             "#b8e186"
            ],
            [
             0.8,
             "#7fbc41"
            ],
            [
             0.9,
             "#4d9221"
            ],
            [
             1,
             "#276419"
            ]
           ],
           "sequential": [
            [
             0,
             "#0d0887"
            ],
            [
             0.1111111111111111,
             "#46039f"
            ],
            [
             0.2222222222222222,
             "#7201a8"
            ],
            [
             0.3333333333333333,
             "#9c179e"
            ],
            [
             0.4444444444444444,
             "#bd3786"
            ],
            [
             0.5555555555555556,
             "#d8576b"
            ],
            [
             0.6666666666666666,
             "#ed7953"
            ],
            [
             0.7777777777777778,
             "#fb9f3a"
            ],
            [
             0.8888888888888888,
             "#fdca26"
            ],
            [
             1,
             "#f0f921"
            ]
           ],
           "sequentialminus": [
            [
             0,
             "#0d0887"
            ],
            [
             0.1111111111111111,
             "#46039f"
            ],
            [
             0.2222222222222222,
             "#7201a8"
            ],
            [
             0.3333333333333333,
             "#9c179e"
            ],
            [
             0.4444444444444444,
             "#bd3786"
            ],
            [
             0.5555555555555556,
             "#d8576b"
            ],
            [
             0.6666666666666666,
             "#ed7953"
            ],
            [
             0.7777777777777778,
             "#fb9f3a"
            ],
            [
             0.8888888888888888,
             "#fdca26"
            ],
            [
             1,
             "#f0f921"
            ]
           ]
          },
          "colorway": [
           "#636efa",
           "#EF553B",
           "#00cc96",
           "#ab63fa",
           "#FFA15A",
           "#19d3f3",
           "#FF6692",
           "#B6E880",
           "#FF97FF",
           "#FECB52"
          ],
          "font": {
           "color": "#2a3f5f"
          },
          "geo": {
           "bgcolor": "white",
           "lakecolor": "white",
           "landcolor": "#E5ECF6",
           "showlakes": true,
           "showland": true,
           "subunitcolor": "white"
          },
          "hoverlabel": {
           "align": "left"
          },
          "hovermode": "closest",
          "mapbox": {
           "style": "light"
          },
          "paper_bgcolor": "white",
          "plot_bgcolor": "#E5ECF6",
          "polar": {
           "angularaxis": {
            "gridcolor": "white",
            "linecolor": "white",
            "ticks": ""
           },
           "bgcolor": "#E5ECF6",
           "radialaxis": {
            "gridcolor": "white",
            "linecolor": "white",
            "ticks": ""
           }
          },
          "scene": {
           "xaxis": {
            "backgroundcolor": "#E5ECF6",
            "gridcolor": "white",
            "gridwidth": 2,
            "linecolor": "white",
            "showbackground": true,
            "ticks": "",
            "zerolinecolor": "white"
           },
           "yaxis": {
            "backgroundcolor": "#E5ECF6",
            "gridcolor": "white",
            "gridwidth": 2,
            "linecolor": "white",
            "showbackground": true,
            "ticks": "",
            "zerolinecolor": "white"
           },
           "zaxis": {
            "backgroundcolor": "#E5ECF6",
            "gridcolor": "white",
            "gridwidth": 2,
            "linecolor": "white",
            "showbackground": true,
            "ticks": "",
            "zerolinecolor": "white"
           }
          },
          "shapedefaults": {
           "line": {
            "color": "#2a3f5f"
           }
          },
          "ternary": {
           "aaxis": {
            "gridcolor": "white",
            "linecolor": "white",
            "ticks": ""
           },
           "baxis": {
            "gridcolor": "white",
            "linecolor": "white",
            "ticks": ""
           },
           "bgcolor": "#E5ECF6",
           "caxis": {
            "gridcolor": "white",
            "linecolor": "white",
            "ticks": ""
           }
          },
          "title": {
           "x": 0.05
          },
          "xaxis": {
           "automargin": true,
           "gridcolor": "white",
           "linecolor": "white",
           "ticks": "",
           "title": {
            "standoff": 15
           },
           "zerolinecolor": "white",
           "zerolinewidth": 2
          },
          "yaxis": {
           "automargin": true,
           "gridcolor": "white",
           "linecolor": "white",
           "ticks": "",
           "title": {
            "standoff": 15
           },
           "zerolinecolor": "white",
           "zerolinewidth": 2
          }
         }
        },
        "title": {
         "text": "Histogram Book Avg Rating"
        },
        "xaxis": {
         "anchor": "y",
         "domain": [
          0,
          1
         ],
         "title": {
          "text": "Book_average_rating"
         }
        },
        "yaxis": {
         "anchor": "x",
         "domain": [
          0,
          1
         ],
         "title": {
          "text": "count"
         }
        }
       }
      }
     },
     "metadata": {},
     "output_type": "display_data"
    }
   ],
   "source": [
    "# Book Average Rating historgram to check normality\n",
    "fig = px.histogram(data, x='Book_average_rating', title='Histogram Book Avg Rating')\n",
    "fig.show()\n",
    "# looks pretty normal"
   ]
  },
  {
   "cell_type": "code",
   "execution_count": 56,
   "metadata": {},
   "outputs": [
    {
     "data": {
      "application/vnd.plotly.v1+json": {
       "config": {
        "plotlyServerURL": "https://plot.ly"
       },
       "data": [
        {
         "alignmentgroup": "True",
         "hovertemplate": "Book_average_rating=%{x}<extra></extra>",
         "legendgroup": "",
         "marker": {
          "color": "#636efa"
         },
         "name": "",
         "notched": false,
         "offsetgroup": "",
         "orientation": "h",
         "showlegend": false,
         "type": "box",
         "x": [
          3.42,
          4.23,
          3.31,
          4.04,
          4.04,
          4.08,
          4.03,
          3.9,
          4.34,
          4.2,
          4.13,
          3.9,
          4.42,
          4.18,
          4.29,
          3.76,
          3.8,
          3.9,
          4.28,
          4.17,
          3.74,
          4.1,
          4.38,
          3.65,
          3.83,
          4.13,
          3.77,
          3.64,
          4.22,
          4.64,
          4.03,
          4.14,
          3.7,
          4.07,
          4.25,
          4.08,
          3.94,
          4.14,
          4,
          3.52,
          4,
          3.83,
          3.76,
          3.85,
          3.72,
          4.16,
          3.83,
          4.3,
          3.95,
          4.16,
          3.47,
          4.42,
          3.79,
          3.9,
          4.09,
          4.11,
          3.96,
          4.11,
          4.32,
          3.99,
          4,
          3.56,
          3.91,
          3.85,
          4.14,
          4.22,
          3.89,
          4.17,
          3.95,
          4.46,
          3.9,
          3.8,
          4.48,
          4.34,
          3.64,
          4.32,
          3.87,
          4.23,
          4.12,
          3.98,
          4.03,
          3.97,
          3.7,
          4.09,
          4.08,
          4.12,
          3.89,
          3.82,
          3.92,
          4.05,
          3.97,
          4.29,
          4.29,
          4.11,
          3.69,
          3.94,
          4.01,
          4.01,
          3.99,
          3.93,
          3.88,
          4.12,
          3.64,
          3.97,
          4.02,
          4.23,
          3.9,
          4.29,
          3.84,
          3.48,
          3.71,
          4.08,
          3.89,
          3.83,
          3.97,
          4.02,
          4.08,
          3.73,
          3.52,
          3.82,
          3.71,
          3.78,
          3.81,
          3.55,
          4.22,
          4.12,
          4.07,
          3.89,
          4.04,
          4,
          4.08,
          3.78,
          4.2,
          3.9,
          3.98,
          4.16,
          4.26,
          4.16,
          3.85,
          4.19,
          4.27,
          3.98,
          4.22,
          4.17,
          4.16,
          3.8,
          4.02,
          4.54,
          3.85,
          3.98,
          4.06,
          3.98,
          3.67,
          3.69,
          4.31,
          4.04,
          3.77,
          3.7,
          4.03,
          4.05,
          3.85,
          4,
          3.86,
          3.88,
          3.78,
          3.81,
          3.87,
          4.1,
          3.66,
          3.9,
          3.95,
          3.69,
          4.19,
          3.67,
          4.18,
          4.34,
          4.29,
          3.89,
          3.49,
          3.99,
          3.86,
          4.02,
          4.21,
          4.21,
          4.26,
          4.01,
          4.24,
          4.18,
          3.73,
          4.19,
          4.21,
          3.41,
          4.14,
          3.51,
          3.8,
          4.42,
          4.36,
          3.84,
          4.14,
          4.34,
          4.24,
          4.26,
          4.1,
          3.9,
          4.3,
          4.17,
          4.01,
          4.26,
          4.23,
          4.19,
          4.49,
          4.18,
          4.05,
          4.22,
          3.92,
          4.47,
          4.05,
          4.22,
          4.3,
          3.82,
          4.34,
          3.99,
          3.9,
          4.29,
          4.3,
          4.2,
          4.07,
          4.5,
          3.65,
          3.81,
          3.9,
          3.81,
          4.46,
          4.14,
          3.62,
          3.97,
          4.34,
          4.61,
          3.77,
          3.63,
          3.93,
          4.09,
          4.08,
          4.33,
          4.07,
          4.2,
          4.01,
          4.31,
          4.15,
          4.1,
          3.79,
          4.24,
          4.15,
          4.07,
          3.88,
          3.7,
          4.23,
          3.8,
          3.98,
          4.24,
          3.46,
          4.23,
          4.16,
          4.36,
          3.81,
          4.21,
          3.55,
          3.96,
          4.12,
          3.85,
          4.3,
          3.59,
          3.79,
          4.1,
          3.91,
          3.7,
          3.82,
          3.67,
          3.87,
          3.98,
          4.11,
          4.23,
          3.91,
          3.86,
          4.01,
          4.13,
          3.76,
          4.03,
          4.35,
          3.89,
          3.99,
          3.77,
          3.78,
          4.37,
          4.45,
          4.29,
          4.21,
          4.19,
          4.26,
          3.84,
          3.98,
          3.74,
          3.75,
          3.79,
          4.32,
          3.86,
          4,
          3.97,
          3.8,
          4.03,
          4.26,
          4.15,
          3.94,
          4.23,
          4.77,
          4.36,
          4.26,
          3.96,
          3.96,
          3.91,
          4.11,
          3.73,
          4.3,
          3.88,
          3.97,
          3.95,
          4,
          3.69,
          4.13,
          4.17,
          4.12,
          3.72,
          4.03,
          4.04,
          4.16,
          3.95,
          4.07,
          3.83,
          3.93,
          3.72,
          4.24,
          4.35,
          4.04,
          3.9,
          4.49,
          4.32,
          3.86,
          4.07,
          4.06,
          3.86,
          3.93,
          4.11,
          4,
          4.08,
          3.62,
          4.02,
          4.15,
          3.87,
          4.1,
          3.48,
          4.2,
          4.23,
          3.47,
          4.11,
          4.15,
          3.79,
          3.57,
          4.14,
          3.94,
          3.83,
          3.77,
          4.19,
          3.86,
          3.84,
          3.42,
          3.89,
          3.48,
          4.16,
          4.05,
          3.99,
          3.78,
          3.33,
          4.04,
          4.12,
          3.81,
          3.94,
          4.17,
          4.25,
          4.26,
          3.82,
          3.94,
          3.91,
          4.1,
          3.95,
          3.8,
          3.89,
          3.69,
          4.19,
          3.91,
          4.13,
          4.14,
          3.93,
          3.77,
          4.27,
          4.2,
          3.75,
          4.29,
          3.91,
          3.6,
          4.34,
          3.93,
          4.3,
          4.59,
          4.12,
          3.74,
          3.62,
          3.66,
          4.16,
          3.84,
          3.57,
          3.66,
          4,
          4.04,
          3.94,
          4.18,
          3.68,
          4.05,
          4.4,
          3.8,
          4.26,
          4.36,
          4.42,
          4.25,
          3.93,
          3.95,
          4.04,
          4.31,
          4.09,
          4.14,
          4.06,
          4.45,
          4.09,
          4.05,
          3.22,
          4.37,
          4.11,
          4,
          3.75,
          3.97,
          3.79,
          4.17,
          3.54,
          4.65,
          4,
          4.08,
          4.11,
          4.1,
          3.95,
          4.21,
          4.09,
          4,
          4.03,
          4.53,
          3.81,
          3.92,
          4.43,
          4.41,
          3.55,
          4.25,
          3.99,
          4.04,
          4.08,
          3.91,
          4.18,
          4.08,
          4.37,
          3.81,
          3.79,
          3.28,
          3.8,
          4.18,
          3.97,
          4.1,
          3.89,
          4.1,
          3.85,
          4.24,
          4.07,
          4.17,
          3.96,
          3.88,
          3.96,
          3.98,
          3.99,
          3.86,
          4.03,
          3.97,
          4.07,
          3.97,
          3.85,
          3.77,
          3.98,
          4.21,
          3.96,
          4.17,
          4.06,
          3.95,
          4.14,
          4.1,
          3.73,
          3.76,
          4.16,
          3.81,
          3.45,
          3.99,
          3.98,
          3.6,
          4.02,
          4.29,
          3.82,
          3.77,
          3.76,
          3.43,
          4.02,
          4.09,
          3.92,
          4,
          4.13,
          4.11,
          3.98,
          4.02,
          3.76,
          3.89,
          4.02,
          4.14,
          4.31,
          4.27,
          3.91,
          4.01,
          3.76,
          3.86,
          4.28,
          4.28,
          4.34,
          4.33,
          3.41,
          4.21,
          4.05,
          4.13,
          3.89,
          4,
          3.72,
          3.74,
          4,
          4.05,
          4.18,
          4.22,
          3.93,
          3.42,
          4.1,
          4.3,
          4.1,
          3.81,
          4.3,
          3.95,
          3.82,
          4.22,
          3.85,
          3.93,
          4.04,
          4.11,
          3.48,
          3.96,
          3.86,
          4.25,
          4.05,
          3.98,
          3.7,
          3.98,
          3.84,
          3.91,
          3.68,
          4.15,
          4.18,
          3.85,
          4.08,
          4.24,
          3.99,
          3.91,
          3.85,
          4.33,
          4.07,
          4.04,
          4.02,
          3.72,
          3.83,
          3.95,
          4.19,
          4.11,
          4.06,
          4.01,
          4.33,
          4.28,
          3.79,
          4.04,
          3.73,
          3.49,
          4.18,
          4.19,
          3.84,
          4.17,
          4.17,
          4.17,
          3.9,
          4.42,
          3.83,
          3.67,
          3.88,
          3.84,
          3.77,
          3.99,
          3.96,
          4.36,
          3.79,
          4.14,
          3.91,
          4.07,
          4.18,
          4.27,
          4.12,
          4.2,
          3.77,
          3.9,
          3.62,
          4.15,
          3.57,
          3.92,
          3.9,
          3.81,
          4.21,
          4.15,
          3.71,
          3.74,
          3.74,
          3.94,
          4.15,
          4.1,
          4.24,
          4.21,
          3.56,
          3.88,
          4.39,
          4.06,
          3.97,
          4.15,
          4.16,
          4.32,
          4.22,
          4.27,
          3.73,
          4.17,
          3.94,
          3.99,
          4.35,
          3.59,
          4.13,
          4.16,
          3.95,
          4.02,
          3.82,
          4.2,
          3.98,
          4.18,
          3.96,
          4.12,
          3.9,
          3.94,
          4.21,
          3.97,
          4.05,
          4.23,
          3.57,
          4.28,
          4.18,
          3.94,
          4.29,
          3.82,
          3.92,
          3.9,
          4.2,
          4.6,
          4.41,
          4.13,
          4.16,
          3.86,
          4.1,
          3.82,
          3.81,
          3.86,
          4.04,
          4.42,
          4.06,
          4.12,
          3.81,
          3.81,
          3.75,
          3.68,
          3.97,
          4.14,
          4.08,
          3.85,
          4.26,
          4.11,
          4.01,
          3.9,
          4.3,
          4.25,
          4.14,
          3.96,
          4.21,
          3.69,
          3.8,
          4.09,
          4.04,
          4.12,
          3.77,
          3.78,
          4.03,
          4.33,
          4.09,
          3.3,
          3.73,
          4.72,
          3.84,
          4.11,
          3.5,
          3.86,
          4.42,
          3.97,
          4.06,
          3.6,
          3.73,
          4.01,
          3.97,
          4.42,
          4.18,
          3.8,
          3.89,
          4.05,
          4.07,
          3.94,
          4.23,
          4.14,
          3.95,
          4.26,
          3.96,
          3.96,
          3.37,
          4.16,
          4.33,
          4.36,
          4.37,
          3.92,
          4.43,
          4.46,
          4.47,
          3.94,
          3.82,
          3.95,
          4.26,
          3.75,
          4.16,
          4.16,
          4.29,
          4.16,
          4.37,
          4.49,
          3.94,
          4.27,
          4.2,
          4.28,
          3.93,
          3.93,
          4.41,
          4.17,
          3.97,
          3.94,
          4.08,
          4.27,
          3.89,
          4.1,
          3.8,
          3.89,
          4.5,
          3.58,
          4.16,
          3.84,
          4.01,
          4.53,
          3.92,
          4.17,
          4.14,
          3.81,
          3.86,
          3.85,
          3.6,
          4.15,
          3.91,
          3.75,
          3.99,
          4.41,
          3.58,
          4.03,
          4.01,
          3.59,
          4.28,
          4.15,
          3.89,
          4.2,
          3.92,
          3.91,
          4.05,
          4.13,
          3.67,
          4.34,
          2.97,
          4.2,
          3.96,
          4.27,
          4.01,
          3.8,
          4.04,
          4.36,
          3.32,
          4.15,
          3.41,
          4.16,
          3.66,
          4,
          3.95,
          3.82,
          4.21,
          3.39,
          4.11,
          3.51,
          3.67,
          3.69,
          4.18,
          3.64,
          4.13,
          3.92,
          3.64,
          4.16,
          4.16,
          3.56,
          3.98,
          3.94,
          4.01,
          3.91,
          4.43,
          4.43,
          4.01,
          4.11,
          3.9,
          3.75,
          4.26,
          3.53,
          3.95,
          3.81,
          4.05,
          4.32,
          4.06,
          4.17,
          4.36,
          4.03,
          4.09,
          3.86,
          3.95,
          4.15,
          4.13,
          4.35,
          4.32,
          4.12,
          4.1,
          3.72,
          4,
          4,
          4.12,
          4.12,
          4.27,
          3.23,
          3.79,
          4.38,
          4.18,
          3.75,
          4.06,
          4.23,
          4.08,
          4.03,
          3.77,
          4.21,
          4.06,
          3.87,
          4.56,
          3.8,
          3.94,
          3.83,
          4.21,
          4.24,
          4.32,
          4.26,
          3.56,
          4.08,
          3.65,
          3.94,
          4.4,
          3.92,
          4.15,
          4.41,
          4.16,
          4.2,
          3.88,
          3.98,
          3.94,
          4.19,
          3.97,
          3.6,
          3.63,
          3.81,
          3.99,
          3.82,
          3.21,
          4.17,
          3.85,
          3.51,
          4.13,
          3.99,
          3.76,
          3.7,
          4.02,
          4.16,
          3.98,
          3.84,
          3.4,
          4.04,
          3.91,
          4.24,
          3.77,
          3.83,
          4.36,
          4.24,
          3.1,
          4.18,
          3.97,
          3.91,
          3.93,
          4.3,
          4.16,
          4.24,
          3.72,
          4.37,
          4.03,
          3.89,
          4.03,
          3.21,
          3.35,
          3.78,
          4.44,
          4.07,
          3.92,
          3.46,
          4.28,
          3.67,
          4.05,
          3.84,
          4.03,
          4.4,
          4.04,
          3.81,
          3.69,
          4.18,
          3.89,
          3.73,
          4.06,
          3.91,
          3.91,
          3.92,
          3.65,
          3.94,
          3.66,
          4.17,
          3.95,
          4.31,
          3.52,
          4.34,
          3.92,
          4.17,
          4.07
         ],
         "x0": " ",
         "xaxis": "x",
         "y0": " ",
         "yaxis": "y"
        }
       ],
       "layout": {
        "boxmode": "group",
        "legend": {
         "tracegroupgap": 0
        },
        "template": {
         "data": {
          "bar": [
           {
            "error_x": {
             "color": "#2a3f5f"
            },
            "error_y": {
             "color": "#2a3f5f"
            },
            "marker": {
             "line": {
              "color": "#E5ECF6",
              "width": 0.5
             },
             "pattern": {
              "fillmode": "overlay",
              "size": 10,
              "solidity": 0.2
             }
            },
            "type": "bar"
           }
          ],
          "barpolar": [
           {
            "marker": {
             "line": {
              "color": "#E5ECF6",
              "width": 0.5
             },
             "pattern": {
              "fillmode": "overlay",
              "size": 10,
              "solidity": 0.2
             }
            },
            "type": "barpolar"
           }
          ],
          "carpet": [
           {
            "aaxis": {
             "endlinecolor": "#2a3f5f",
             "gridcolor": "white",
             "linecolor": "white",
             "minorgridcolor": "white",
             "startlinecolor": "#2a3f5f"
            },
            "baxis": {
             "endlinecolor": "#2a3f5f",
             "gridcolor": "white",
             "linecolor": "white",
             "minorgridcolor": "white",
             "startlinecolor": "#2a3f5f"
            },
            "type": "carpet"
           }
          ],
          "choropleth": [
           {
            "colorbar": {
             "outlinewidth": 0,
             "ticks": ""
            },
            "type": "choropleth"
           }
          ],
          "contour": [
           {
            "colorbar": {
             "outlinewidth": 0,
             "ticks": ""
            },
            "colorscale": [
             [
              0,
              "#0d0887"
             ],
             [
              0.1111111111111111,
              "#46039f"
             ],
             [
              0.2222222222222222,
              "#7201a8"
             ],
             [
              0.3333333333333333,
              "#9c179e"
             ],
             [
              0.4444444444444444,
              "#bd3786"
             ],
             [
              0.5555555555555556,
              "#d8576b"
             ],
             [
              0.6666666666666666,
              "#ed7953"
             ],
             [
              0.7777777777777778,
              "#fb9f3a"
             ],
             [
              0.8888888888888888,
              "#fdca26"
             ],
             [
              1,
              "#f0f921"
             ]
            ],
            "type": "contour"
           }
          ],
          "contourcarpet": [
           {
            "colorbar": {
             "outlinewidth": 0,
             "ticks": ""
            },
            "type": "contourcarpet"
           }
          ],
          "heatmap": [
           {
            "colorbar": {
             "outlinewidth": 0,
             "ticks": ""
            },
            "colorscale": [
             [
              0,
              "#0d0887"
             ],
             [
              0.1111111111111111,
              "#46039f"
             ],
             [
              0.2222222222222222,
              "#7201a8"
             ],
             [
              0.3333333333333333,
              "#9c179e"
             ],
             [
              0.4444444444444444,
              "#bd3786"
             ],
             [
              0.5555555555555556,
              "#d8576b"
             ],
             [
              0.6666666666666666,
              "#ed7953"
             ],
             [
              0.7777777777777778,
              "#fb9f3a"
             ],
             [
              0.8888888888888888,
              "#fdca26"
             ],
             [
              1,
              "#f0f921"
             ]
            ],
            "type": "heatmap"
           }
          ],
          "heatmapgl": [
           {
            "colorbar": {
             "outlinewidth": 0,
             "ticks": ""
            },
            "colorscale": [
             [
              0,
              "#0d0887"
             ],
             [
              0.1111111111111111,
              "#46039f"
             ],
             [
              0.2222222222222222,
              "#7201a8"
             ],
             [
              0.3333333333333333,
              "#9c179e"
             ],
             [
              0.4444444444444444,
              "#bd3786"
             ],
             [
              0.5555555555555556,
              "#d8576b"
             ],
             [
              0.6666666666666666,
              "#ed7953"
             ],
             [
              0.7777777777777778,
              "#fb9f3a"
             ],
             [
              0.8888888888888888,
              "#fdca26"
             ],
             [
              1,
              "#f0f921"
             ]
            ],
            "type": "heatmapgl"
           }
          ],
          "histogram": [
           {
            "marker": {
             "pattern": {
              "fillmode": "overlay",
              "size": 10,
              "solidity": 0.2
             }
            },
            "type": "histogram"
           }
          ],
          "histogram2d": [
           {
            "colorbar": {
             "outlinewidth": 0,
             "ticks": ""
            },
            "colorscale": [
             [
              0,
              "#0d0887"
             ],
             [
              0.1111111111111111,
              "#46039f"
             ],
             [
              0.2222222222222222,
              "#7201a8"
             ],
             [
              0.3333333333333333,
              "#9c179e"
             ],
             [
              0.4444444444444444,
              "#bd3786"
             ],
             [
              0.5555555555555556,
              "#d8576b"
             ],
             [
              0.6666666666666666,
              "#ed7953"
             ],
             [
              0.7777777777777778,
              "#fb9f3a"
             ],
             [
              0.8888888888888888,
              "#fdca26"
             ],
             [
              1,
              "#f0f921"
             ]
            ],
            "type": "histogram2d"
           }
          ],
          "histogram2dcontour": [
           {
            "colorbar": {
             "outlinewidth": 0,
             "ticks": ""
            },
            "colorscale": [
             [
              0,
              "#0d0887"
             ],
             [
              0.1111111111111111,
              "#46039f"
             ],
             [
              0.2222222222222222,
              "#7201a8"
             ],
             [
              0.3333333333333333,
              "#9c179e"
             ],
             [
              0.4444444444444444,
              "#bd3786"
             ],
             [
              0.5555555555555556,
              "#d8576b"
             ],
             [
              0.6666666666666666,
              "#ed7953"
             ],
             [
              0.7777777777777778,
              "#fb9f3a"
             ],
             [
              0.8888888888888888,
              "#fdca26"
             ],
             [
              1,
              "#f0f921"
             ]
            ],
            "type": "histogram2dcontour"
           }
          ],
          "mesh3d": [
           {
            "colorbar": {
             "outlinewidth": 0,
             "ticks": ""
            },
            "type": "mesh3d"
           }
          ],
          "parcoords": [
           {
            "line": {
             "colorbar": {
              "outlinewidth": 0,
              "ticks": ""
             }
            },
            "type": "parcoords"
           }
          ],
          "pie": [
           {
            "automargin": true,
            "type": "pie"
           }
          ],
          "scatter": [
           {
            "fillpattern": {
             "fillmode": "overlay",
             "size": 10,
             "solidity": 0.2
            },
            "type": "scatter"
           }
          ],
          "scatter3d": [
           {
            "line": {
             "colorbar": {
              "outlinewidth": 0,
              "ticks": ""
             }
            },
            "marker": {
             "colorbar": {
              "outlinewidth": 0,
              "ticks": ""
             }
            },
            "type": "scatter3d"
           }
          ],
          "scattercarpet": [
           {
            "marker": {
             "colorbar": {
              "outlinewidth": 0,
              "ticks": ""
             }
            },
            "type": "scattercarpet"
           }
          ],
          "scattergeo": [
           {
            "marker": {
             "colorbar": {
              "outlinewidth": 0,
              "ticks": ""
             }
            },
            "type": "scattergeo"
           }
          ],
          "scattergl": [
           {
            "marker": {
             "colorbar": {
              "outlinewidth": 0,
              "ticks": ""
             }
            },
            "type": "scattergl"
           }
          ],
          "scattermapbox": [
           {
            "marker": {
             "colorbar": {
              "outlinewidth": 0,
              "ticks": ""
             }
            },
            "type": "scattermapbox"
           }
          ],
          "scatterpolar": [
           {
            "marker": {
             "colorbar": {
              "outlinewidth": 0,
              "ticks": ""
             }
            },
            "type": "scatterpolar"
           }
          ],
          "scatterpolargl": [
           {
            "marker": {
             "colorbar": {
              "outlinewidth": 0,
              "ticks": ""
             }
            },
            "type": "scatterpolargl"
           }
          ],
          "scatterternary": [
           {
            "marker": {
             "colorbar": {
              "outlinewidth": 0,
              "ticks": ""
             }
            },
            "type": "scatterternary"
           }
          ],
          "surface": [
           {
            "colorbar": {
             "outlinewidth": 0,
             "ticks": ""
            },
            "colorscale": [
             [
              0,
              "#0d0887"
             ],
             [
              0.1111111111111111,
              "#46039f"
             ],
             [
              0.2222222222222222,
              "#7201a8"
             ],
             [
              0.3333333333333333,
              "#9c179e"
             ],
             [
              0.4444444444444444,
              "#bd3786"
             ],
             [
              0.5555555555555556,
              "#d8576b"
             ],
             [
              0.6666666666666666,
              "#ed7953"
             ],
             [
              0.7777777777777778,
              "#fb9f3a"
             ],
             [
              0.8888888888888888,
              "#fdca26"
             ],
             [
              1,
              "#f0f921"
             ]
            ],
            "type": "surface"
           }
          ],
          "table": [
           {
            "cells": {
             "fill": {
              "color": "#EBF0F8"
             },
             "line": {
              "color": "white"
             }
            },
            "header": {
             "fill": {
              "color": "#C8D4E3"
             },
             "line": {
              "color": "white"
             }
            },
            "type": "table"
           }
          ]
         },
         "layout": {
          "annotationdefaults": {
           "arrowcolor": "#2a3f5f",
           "arrowhead": 0,
           "arrowwidth": 1
          },
          "autotypenumbers": "strict",
          "coloraxis": {
           "colorbar": {
            "outlinewidth": 0,
            "ticks": ""
           }
          },
          "colorscale": {
           "diverging": [
            [
             0,
             "#8e0152"
            ],
            [
             0.1,
             "#c51b7d"
            ],
            [
             0.2,
             "#de77ae"
            ],
            [
             0.3,
             "#f1b6da"
            ],
            [
             0.4,
             "#fde0ef"
            ],
            [
             0.5,
             "#f7f7f7"
            ],
            [
             0.6,
             "#e6f5d0"
            ],
            [
             0.7,
             "#b8e186"
            ],
            [
             0.8,
             "#7fbc41"
            ],
            [
             0.9,
             "#4d9221"
            ],
            [
             1,
             "#276419"
            ]
           ],
           "sequential": [
            [
             0,
             "#0d0887"
            ],
            [
             0.1111111111111111,
             "#46039f"
            ],
            [
             0.2222222222222222,
             "#7201a8"
            ],
            [
             0.3333333333333333,
             "#9c179e"
            ],
            [
             0.4444444444444444,
             "#bd3786"
            ],
            [
             0.5555555555555556,
             "#d8576b"
            ],
            [
             0.6666666666666666,
             "#ed7953"
            ],
            [
             0.7777777777777778,
             "#fb9f3a"
            ],
            [
             0.8888888888888888,
             "#fdca26"
            ],
            [
             1,
             "#f0f921"
            ]
           ],
           "sequentialminus": [
            [
             0,
             "#0d0887"
            ],
            [
             0.1111111111111111,
             "#46039f"
            ],
            [
             0.2222222222222222,
             "#7201a8"
            ],
            [
             0.3333333333333333,
             "#9c179e"
            ],
            [
             0.4444444444444444,
             "#bd3786"
            ],
            [
             0.5555555555555556,
             "#d8576b"
            ],
            [
             0.6666666666666666,
             "#ed7953"
            ],
            [
             0.7777777777777778,
             "#fb9f3a"
            ],
            [
             0.8888888888888888,
             "#fdca26"
            ],
            [
             1,
             "#f0f921"
            ]
           ]
          },
          "colorway": [
           "#636efa",
           "#EF553B",
           "#00cc96",
           "#ab63fa",
           "#FFA15A",
           "#19d3f3",
           "#FF6692",
           "#B6E880",
           "#FF97FF",
           "#FECB52"
          ],
          "font": {
           "color": "#2a3f5f"
          },
          "geo": {
           "bgcolor": "white",
           "lakecolor": "white",
           "landcolor": "#E5ECF6",
           "showlakes": true,
           "showland": true,
           "subunitcolor": "white"
          },
          "hoverlabel": {
           "align": "left"
          },
          "hovermode": "closest",
          "mapbox": {
           "style": "light"
          },
          "paper_bgcolor": "white",
          "plot_bgcolor": "#E5ECF6",
          "polar": {
           "angularaxis": {
            "gridcolor": "white",
            "linecolor": "white",
            "ticks": ""
           },
           "bgcolor": "#E5ECF6",
           "radialaxis": {
            "gridcolor": "white",
            "linecolor": "white",
            "ticks": ""
           }
          },
          "scene": {
           "xaxis": {
            "backgroundcolor": "#E5ECF6",
            "gridcolor": "white",
            "gridwidth": 2,
            "linecolor": "white",
            "showbackground": true,
            "ticks": "",
            "zerolinecolor": "white"
           },
           "yaxis": {
            "backgroundcolor": "#E5ECF6",
            "gridcolor": "white",
            "gridwidth": 2,
            "linecolor": "white",
            "showbackground": true,
            "ticks": "",
            "zerolinecolor": "white"
           },
           "zaxis": {
            "backgroundcolor": "#E5ECF6",
            "gridcolor": "white",
            "gridwidth": 2,
            "linecolor": "white",
            "showbackground": true,
            "ticks": "",
            "zerolinecolor": "white"
           }
          },
          "shapedefaults": {
           "line": {
            "color": "#2a3f5f"
           }
          },
          "ternary": {
           "aaxis": {
            "gridcolor": "white",
            "linecolor": "white",
            "ticks": ""
           },
           "baxis": {
            "gridcolor": "white",
            "linecolor": "white",
            "ticks": ""
           },
           "bgcolor": "#E5ECF6",
           "caxis": {
            "gridcolor": "white",
            "linecolor": "white",
            "ticks": ""
           }
          },
          "title": {
           "x": 0.05
          },
          "xaxis": {
           "automargin": true,
           "gridcolor": "white",
           "linecolor": "white",
           "ticks": "",
           "title": {
            "standoff": 15
           },
           "zerolinecolor": "white",
           "zerolinewidth": 2
          },
          "yaxis": {
           "automargin": true,
           "gridcolor": "white",
           "linecolor": "white",
           "ticks": "",
           "title": {
            "standoff": 15
           },
           "zerolinecolor": "white",
           "zerolinewidth": 2
          }
         }
        },
        "title": {
         "text": "Boxplot of Book Avg. Rating"
        },
        "xaxis": {
         "anchor": "y",
         "domain": [
          0,
          1
         ],
         "title": {
          "text": "Book_average_rating"
         }
        },
        "yaxis": {
         "anchor": "x",
         "domain": [
          0,
          1
         ]
        }
       }
      }
     },
     "metadata": {},
     "output_type": "display_data"
    }
   ],
   "source": [
    "# box plot to check for outliers\n",
    "fig = px.box(data, x='Book_average_rating', title='Boxplot of Book Avg. Rating')\n",
    "fig.show()"
   ]
  },
  {
   "cell_type": "code",
   "execution_count": 57,
   "metadata": {},
   "outputs": [
    {
     "data": {
      "application/vnd.plotly.v1+json": {
       "config": {
        "plotlyServerURL": "https://plot.ly"
       },
       "data": [
        {
         "alignmentgroup": "True",
         "bingroup": "x",
         "hovertemplate": "gross sales=%{x}<br>count=%{y}<extra></extra>",
         "legendgroup": "",
         "marker": {
          "color": "#636efa",
          "pattern": {
           "shape": ""
          }
         },
         "name": "",
         "offsetgroup": "",
         "orientation": "v",
         "showlegend": false,
         "type": "histogram",
         "x": [
          34160,
          12437.5,
          47795,
          41250,
          37952.5,
          19960,
          27491.67,
          26182,
          26093.67,
          23792.34,
          17964,
          21564,
          3431.34,
          6897.34,
          21797.82,
          16297.34,
          15968,
          15968,
          6234.67,
          3035.34,
          11702.67,
          8569.34,
          8171.67,
          7774,
          26904.06,
          2376,
          9576,
          9308.67,
          4509.34,
          2178,
          13178,
          2045.34,
          1964.16,
          1964.16,
          1949.31,
          1949.31,
          20309.55,
          1873.08,
          7485.24,
          3703.39,
          11057.54,
          12791.7,
          8982,
          3582,
          1766.16,
          10596.31,
          15058.27,
          1720.62,
          1705.77,
          8517.93,
          1675.08,
          6687.24,
          4966.39,
          1629.54,
          17783.3,
          1613.7,
          18394.85,
          10384,
          6320.16,
          4707,
          1522.62,
          5924.47,
          12040.93,
          13413.08,
          2907.39,
          11553.54,
          5705.7,
          9890.85,
          5245.36,
          5826.64,
          2724.31,
          6751.47,
          6676.62,
          1309.77,
          5933.78,
          8482.43,
          6447.08,
          2539.24,
          4907.7,
          1202.85,
          2417.85,
          1188,
          2388,
          2356.16,
          1157.31,
          1157.31,
          1111.77,
          5603.77,
          2202.93,
          6983.24,
          6885.89,
          1035.54,
          1019.7,
          6079.85,
          6932.45,
          985.05,
          5068.8,
          2195.2,
          7312.5,
          960.3,
          10224,
          1880.55,
          4690.6,
          3730.65,
          5980,
          905.85,
          7759.2,
          900.9,
          895.95,
          891,
          5841,
          10731.05,
          2661.1,
          1771.1,
          3531.15,
          6525,
          3451.35,
          6871.4,
          841.5,
          10131.55,
          6711.6,
          816.75,
          1641.75,
          5696.85,
          2421.9,
          8573.25,
          3192,
          792,
          3172.05,
          1572.1,
          9412.15,
          3112.2,
          8269.25,
          1512.4,
          3012.45,
          3742.5,
          2992.5,
          3717.55,
          2952.6,
          727.65,
          3642.7,
          5444.75,
          712.8,
          702.9,
          697.95,
          5593,
          1353.2,
          668.25,
          3678.3,
          658.35,
          7814.4,
          648.45,
          9818.45,
          3243.5,
          1943.5,
          3218.55,
          4473.6,
          5663.7,
          608.85,
          603.9,
          1210,
          594,
          3540.25,
          3564.05,
          1174.1,
          5200.65,
          569.25,
          1134.3,
          1659.45,
          4434.45,
          544.5,
          534.6,
          2154.6,
          1599.65,
          524.7,
          1024.85,
          1524.9,
          2014.95,
          5433.18,
          1483.04,
          2445.1,
          483.12,
          2605.92,
          2057.58,
          476.19,
          475.2,
          1429.22,
          5253.22,
          1423.24,
          2375.24,
          470.25,
          470.25,
          1399.32,
          461.34,
          1393.34,
          460.35,
          455.4,
          455.4,
          3643.44,
          5000.45,
          2250.49,
          4792.5,
          4771.2,
          443.52,
          1324.57,
          8811.18,
          2175.64,
          430.65,
          5191.67,
          2593.67,
          426.69,
          425.7,
          5107.74,
          3821.22,
          420.75,
          1687.77,
          4473,
          413.82,
          411.84,
          2070.85,
          2537.9,
          1219.92,
          1685.04,
          2025.94,
          2251.8,
          1007.5,
          4270.65,
          3180.02,
          392.04,
          392.04,
          387.09,
          2726.1,
          1154.14,
          766.15,
          758.19,
          3013.71,
          1136.2,
          1886.22,
          1124.24,
          371.25,
          1871.25,
          1488.27,
          1115.27,
          366.3,
          1100.32,
          1094.34,
          4084.35,
          1811.37,
          1085.37,
          357.39,
          1079.39,
          3905.78,
          1064.44,
          347.49,
          346.5,
          344.52,
          1031.55,
          1025.57,
          1019.59,
          1019.59,
          3872.6,
          1686.62,
          1676.64,
          666.65,
          2620.72,
          2875.32,
          1300.74,
          2759.25,
          1611.77,
          2468.49,
          950.82,
          1576.84,
          2044.35,
          1874.87,
          307.89,
          306.9,
          616.9,
          2460.92,
          2152.92,
          10327.3,
          598.99,
          1487.02,
          891.02,
          1181.04,
          885.04,
          1772.95,
          292.05,
          290.07,
          288.09,
          3694.6,
          1149.12,
          1707.15,
          427.5,
          2071.56,
          1412.17,
          3650.19,
          1097.25,
          2618.07,
          267.3,
          267.3,
          263.34,
          997.5,
          1719.85,
          1877.82,
          1041.39,
          777.4,
          771.42,
          1527.45,
          997.5,
          997.5,
          246.51,
          744.51,
          1635.93,
          3221.52,
          741.52,
          738.53,
          1141.14,
          244.53,
          1227.54,
          977.55,
          977.55,
          1698.57,
          726.57,
          1494.45,
          965.58,
          1202.59,
          2566.65,
          1197.6,
          236.61,
          953.61,
          1544.62,
          1419.63,
          471.63,
          1182.63,
          708.63,
          1885.64,
          1642.65,
          933.66,
          463.67,
          461.68,
          925.68,
          2460.15,
          687.7,
          2509.3,
          226.71,
          1142.71,
          909.72,
          5902.92,
          1468.69,
          223.74,
          1188.76,
          897.75,
          221.76,
          1274.56,
          1112.77,
          1781.77,
          1662.78,
          660.79,
          437.8,
          3955.6,
          2067.36,
          1311.81,
          433.82,
          2177.82,
          214.83,
          2311.05,
          1072.85,
          1717.85,
          642.85,
          1281.86,
          849.87,
          423.87,
          1062.87,
          1693.88,
          1080.32,
          630.89,
          2007.6,
          833.91,
          206.91,
          621.92,
          205.92,
          1245.92,
          1032.93,
          2457.95,
          1621.97,
          1703.17,
          603.98,
          603.98,
          600.99,
          198.99,
          399.99,
          500,
          1898,
          595.01,
          196.02,
          790.02,
          1059.86,
          194.04,
          586.04,
          1480.05,
          583.05,
          192.06,
          191.07,
          770.07,
          1726.08,
          1468.79,
          948.1,
          376.11,
          565.11,
          750.12,
          186.12,
          185.13,
          184.14,
          1114.14,
          550.16,
          181.17,
          544.18,
          1243.06,
          1726.2,
          177.21,
          2280.46,
          176.22,
          1242.44,
          175.23,
          350.24,
          702.24,
          1230.24,
          523.25,
          868.26,
          1216.26,
          1842.45,
          344.27,
          171.27,
          517.27,
          170.28,
          340.29,
          1024.29,
          1879.29,
          1109.79,
          648.09,
          340.29,
          508.3,
          678.3,
          848.3,
          1688.31,
          1350.31,
          674.31,
          167.31,
          2153.06,
          1294.54,
          1843.79,
          1342.32,
          166.32,
          1291.92,
          1985.63,
          833.33,
          1835.33,
          1152.04,
          164.34,
          1226.74,
          1153.35,
          823.35,
          163.35,
          1757.25,
          162.36,
          1746.6,
          162.36,
          162.36,
          162.36,
          324.37,
          813.37,
          1470.26,
          161.37,
          322.38,
          322.38,
          160.38,
          320.39,
          642.39,
          615.02,
          478.4,
          1438.4,
          478.4,
          478.4,
          1598.4,
          475.41,
          157.41,
          475.41,
          634.41,
          314.42,
          1136.02,
          472.42,
          1420.42,
          469.43,
          1474.23,
          154.44,
          669.24,
          2106.45,
          618.45,
          1230.46,
          614.46,
          460.46,
          768.46,
          1167.32,
          610.47,
          151.47,
          151.47,
          1176.57,
          1618.8,
          1111.12,
          910.48,
          149.49,
          151,
          661.38,
          1508.49,
          1125,
          598.5,
          594.51,
          594.51,
          1488.51,
          594.51,
          1427.42,
          1144.04,
          146.52,
          442.52,
          145.53,
          1997.73,
          145.53,
          439.53,
          439.53,
          1074.57,
          675.98,
          582.54,
          1097.92,
          1166.54,
          144.54,
          665.55,
          723.55,
          990.35,
          1448.55,
          1134.72,
          570.57,
          1428.57,
          708.58,
          1560.58,
          969.86,
          562.59,
          139.59,
          1030.71,
          562.59,
          558.6,
          418.6,
          1398.6,
          698.6,
          137.61,
          693.61,
          725.88,
          1516.62,
          957.72,
          836.4,
          1225.36,
          542.64,
          133.65,
          538.65,
          808.65,
          873.68,
          1191.26,
          530.67,
          397.67,
          394.68,
          394.68,
          394.68,
          790.68,
          526.68,
          130.68,
          327.36,
          394.68,
          260.69,
          1395.15,
          129.69,
          260.69,
          492.7,
          258.7,
          1656.2,
          514.71,
          127.71,
          127.71,
          127.71,
          127.71,
          885.76,
          888.32,
          1470.72,
          787.2,
          126.72,
          1153.28,
          843.28,
          1395.73,
          125.73,
          506.73,
          502.74,
          124.74,
          1198.75,
          1127.5,
          122.76,
          370.76,
          121.77,
          121.77,
          974.78,
          120.78,
          1096.78,
          966.79,
          930.49,
          119.79,
          671.55,
          118.8,
          118.8,
          118.8,
          117.81,
          912.73,
          355.81,
          117.81,
          712.81,
          117.81,
          236.81,
          712.81,
          474.81,
          355.81,
          355.81,
          1188.81,
          355.81,
          117.81,
          593.81,
          117.81,
          784.21,
          117.81,
          117.81,
          915.11,
          355.81,
          640.22,
          1307.81,
          117.81,
          593.81,
          355.81,
          1022.21,
          117.81,
          355.81,
          950.81,
          357.54,
          352.82,
          116.82,
          862.58,
          352.82,
          1060.82,
          352.82,
          116.82,
          1320.42,
          761.1,
          654.9,
          116.82,
          116.82,
          824.82,
          1060.82,
          706.82,
          502.68,
          1131.62,
          234.82,
          588.82,
          1680.32,
          1128.08,
          872.02,
          470.82,
          824.82,
          352.82,
          470.82,
          588.82,
          234.82,
          234.82,
          725.7,
          466.83,
          934.83,
          349.83,
          349.83,
          115.83,
          232.83,
          232.83,
          855.27,
          1519.83,
          466.83,
          700.83,
          115.83,
          1689.48,
          349.83,
          583.83,
          1170,
          1402.83,
          115.83,
          349.83,
          1084.59,
          232.83,
          466.83,
          349.83,
          1391.13,
          232.83,
          349.83,
          583.83,
          114.84,
          624.08,
          694.84,
          892.04,
          346.84,
          462.84,
          114.84,
          1158.84,
          462.84,
          230.84,
          462.84,
          694.84,
          770.24,
          114.84,
          694.84,
          114.84,
          114.84,
          114.84,
          810.84,
          346.84,
          114.84,
          114.84,
          462.84,
          1042.84,
          1041.68,
          1506.84,
          784.16,
          346.84,
          1158.84,
          926.84,
          458.85,
          1367.35,
          573.85,
          343.85,
          1033.85,
          343.85,
          343.85,
          573.85,
          343.85,
          458.85,
          458.85,
          343.85,
          343.85,
          458.85,
          803.85,
          930.35,
          113.85,
          573.85,
          1269.6,
          884.35,
          113.85,
          573.85,
          573.85,
          113.85,
          343.85,
          910.86,
          1366.86,
          1366.86,
          340.86,
          568.86,
          112.86,
          910.86,
          112.86,
          876.66,
          226.86,
          568.86,
          568.86,
          112.86,
          226.86,
          876.66,
          340.86,
          1366.86,
          397.86,
          568.86,
          454.86,
          340.86,
          345.42,
          844.74,
          228,
          778.62,
          910.86,
          454.86,
          454.86,
          746.7,
          1220.4,
          431.66,
          563.87,
          1128.87,
          450.87,
          450.87,
          1241.87,
          111.87,
          450.87,
          1388.77,
          111.87,
          111.87,
          111.87,
          1327.75,
          781.96,
          450.87,
          970.67,
          1015.87,
          846.37,
          789.87,
          111.87,
          224.87,
          111.87,
          224.87,
          992.14,
          282.5,
          110.88,
          838.88,
          334.88,
          670.88,
          334.88,
          334.88,
          110.88,
          894.88,
          334.88,
          670.88,
          446.88,
          894.88,
          842.24,
          334.88,
          1326.08,
          446.88,
          558.88,
          110.88,
          1230.88,
          558.88,
          334.88,
          446.88,
          670.88,
          222.88,
          334.88,
          222.88,
          331.89,
          1330.89,
          109.89,
          331.89,
          331.89,
          109.89,
          109.89,
          220.89,
          331.89,
          331.89,
          899.1,
          1314.24,
          220.89,
          1330.89,
          1225.44,
          109.89,
          109.89,
          858.03,
          442.89,
          1219.89,
          331.89,
          1414.14,
          331.89,
          331.89,
          109.89,
          548.9,
          1098.9,
          108.9,
          108.9,
          438.9,
          1230.9,
          108.9,
          438.9,
          108.9,
          218.9,
          438.9,
          1351.9,
          1208.9,
          878.9,
          108.9,
          328.9,
          603.9,
          988.9,
          438.9,
          1200.1,
          988.9,
          988.9,
          548.9,
          108.9,
          1867.8,
          416.9,
          548.9,
          493.9,
          641.3,
          1088.91,
          216.91,
          434.91,
          1160.85,
          107.91,
          107.91,
          543.91,
          1502.02,
          107.91,
          325.91,
          216.91,
          960.29,
          598.41,
          325.91,
          325.91,
          325.91,
          620.21,
          434.91,
          325.91,
          107.91,
          325.91,
          434.91,
          434.91,
          543.91,
          543.91,
          107.91,
          107.91,
          761.91,
          538.92,
          646.92,
          970.92,
          106.92,
          106.92,
          1659.96,
          412.56,
          430.92,
          430.92,
          1186.92,
          1150.2,
          430.92,
          1327.32,
          322.92,
          322.92,
          516.24,
          214.92,
          139.32,
          748.44,
          106.92,
          646.92,
          1186.92,
          538.92,
          106.92,
          430.92,
          538.92,
          1078.92,
          214.92,
          430.92,
          322.92,
          322.92,
          105.93,
          854.93,
          919.13,
          105.93,
          426.93,
          1272.23,
          640.93,
          319.93,
          1282.93,
          640.93,
          854.93,
          426.93,
          405.53,
          324.21,
          747.93,
          951.23,
          319.93,
          529.65,
          426.93,
          105.93,
          822.83,
          1149.18,
          640.93,
          319.93,
          104.94,
          477,
          1588.94,
          212,
          735.64,
          846.94,
          1334.54,
          827.86,
          589.36,
          316.94,
          1058.94,
          316.94,
          104.94,
          815.14,
          846.94,
          316.94,
          104.94,
          846.94,
          846.94,
          104.94,
          316.94
         ],
         "xaxis": "x",
         "yaxis": "y"
        }
       ],
       "layout": {
        "barmode": "relative",
        "legend": {
         "tracegroupgap": 0
        },
        "template": {
         "data": {
          "bar": [
           {
            "error_x": {
             "color": "#2a3f5f"
            },
            "error_y": {
             "color": "#2a3f5f"
            },
            "marker": {
             "line": {
              "color": "#E5ECF6",
              "width": 0.5
             },
             "pattern": {
              "fillmode": "overlay",
              "size": 10,
              "solidity": 0.2
             }
            },
            "type": "bar"
           }
          ],
          "barpolar": [
           {
            "marker": {
             "line": {
              "color": "#E5ECF6",
              "width": 0.5
             },
             "pattern": {
              "fillmode": "overlay",
              "size": 10,
              "solidity": 0.2
             }
            },
            "type": "barpolar"
           }
          ],
          "carpet": [
           {
            "aaxis": {
             "endlinecolor": "#2a3f5f",
             "gridcolor": "white",
             "linecolor": "white",
             "minorgridcolor": "white",
             "startlinecolor": "#2a3f5f"
            },
            "baxis": {
             "endlinecolor": "#2a3f5f",
             "gridcolor": "white",
             "linecolor": "white",
             "minorgridcolor": "white",
             "startlinecolor": "#2a3f5f"
            },
            "type": "carpet"
           }
          ],
          "choropleth": [
           {
            "colorbar": {
             "outlinewidth": 0,
             "ticks": ""
            },
            "type": "choropleth"
           }
          ],
          "contour": [
           {
            "colorbar": {
             "outlinewidth": 0,
             "ticks": ""
            },
            "colorscale": [
             [
              0,
              "#0d0887"
             ],
             [
              0.1111111111111111,
              "#46039f"
             ],
             [
              0.2222222222222222,
              "#7201a8"
             ],
             [
              0.3333333333333333,
              "#9c179e"
             ],
             [
              0.4444444444444444,
              "#bd3786"
             ],
             [
              0.5555555555555556,
              "#d8576b"
             ],
             [
              0.6666666666666666,
              "#ed7953"
             ],
             [
              0.7777777777777778,
              "#fb9f3a"
             ],
             [
              0.8888888888888888,
              "#fdca26"
             ],
             [
              1,
              "#f0f921"
             ]
            ],
            "type": "contour"
           }
          ],
          "contourcarpet": [
           {
            "colorbar": {
             "outlinewidth": 0,
             "ticks": ""
            },
            "type": "contourcarpet"
           }
          ],
          "heatmap": [
           {
            "colorbar": {
             "outlinewidth": 0,
             "ticks": ""
            },
            "colorscale": [
             [
              0,
              "#0d0887"
             ],
             [
              0.1111111111111111,
              "#46039f"
             ],
             [
              0.2222222222222222,
              "#7201a8"
             ],
             [
              0.3333333333333333,
              "#9c179e"
             ],
             [
              0.4444444444444444,
              "#bd3786"
             ],
             [
              0.5555555555555556,
              "#d8576b"
             ],
             [
              0.6666666666666666,
              "#ed7953"
             ],
             [
              0.7777777777777778,
              "#fb9f3a"
             ],
             [
              0.8888888888888888,
              "#fdca26"
             ],
             [
              1,
              "#f0f921"
             ]
            ],
            "type": "heatmap"
           }
          ],
          "heatmapgl": [
           {
            "colorbar": {
             "outlinewidth": 0,
             "ticks": ""
            },
            "colorscale": [
             [
              0,
              "#0d0887"
             ],
             [
              0.1111111111111111,
              "#46039f"
             ],
             [
              0.2222222222222222,
              "#7201a8"
             ],
             [
              0.3333333333333333,
              "#9c179e"
             ],
             [
              0.4444444444444444,
              "#bd3786"
             ],
             [
              0.5555555555555556,
              "#d8576b"
             ],
             [
              0.6666666666666666,
              "#ed7953"
             ],
             [
              0.7777777777777778,
              "#fb9f3a"
             ],
             [
              0.8888888888888888,
              "#fdca26"
             ],
             [
              1,
              "#f0f921"
             ]
            ],
            "type": "heatmapgl"
           }
          ],
          "histogram": [
           {
            "marker": {
             "pattern": {
              "fillmode": "overlay",
              "size": 10,
              "solidity": 0.2
             }
            },
            "type": "histogram"
           }
          ],
          "histogram2d": [
           {
            "colorbar": {
             "outlinewidth": 0,
             "ticks": ""
            },
            "colorscale": [
             [
              0,
              "#0d0887"
             ],
             [
              0.1111111111111111,
              "#46039f"
             ],
             [
              0.2222222222222222,
              "#7201a8"
             ],
             [
              0.3333333333333333,
              "#9c179e"
             ],
             [
              0.4444444444444444,
              "#bd3786"
             ],
             [
              0.5555555555555556,
              "#d8576b"
             ],
             [
              0.6666666666666666,
              "#ed7953"
             ],
             [
              0.7777777777777778,
              "#fb9f3a"
             ],
             [
              0.8888888888888888,
              "#fdca26"
             ],
             [
              1,
              "#f0f921"
             ]
            ],
            "type": "histogram2d"
           }
          ],
          "histogram2dcontour": [
           {
            "colorbar": {
             "outlinewidth": 0,
             "ticks": ""
            },
            "colorscale": [
             [
              0,
              "#0d0887"
             ],
             [
              0.1111111111111111,
              "#46039f"
             ],
             [
              0.2222222222222222,
              "#7201a8"
             ],
             [
              0.3333333333333333,
              "#9c179e"
             ],
             [
              0.4444444444444444,
              "#bd3786"
             ],
             [
              0.5555555555555556,
              "#d8576b"
             ],
             [
              0.6666666666666666,
              "#ed7953"
             ],
             [
              0.7777777777777778,
              "#fb9f3a"
             ],
             [
              0.8888888888888888,
              "#fdca26"
             ],
             [
              1,
              "#f0f921"
             ]
            ],
            "type": "histogram2dcontour"
           }
          ],
          "mesh3d": [
           {
            "colorbar": {
             "outlinewidth": 0,
             "ticks": ""
            },
            "type": "mesh3d"
           }
          ],
          "parcoords": [
           {
            "line": {
             "colorbar": {
              "outlinewidth": 0,
              "ticks": ""
             }
            },
            "type": "parcoords"
           }
          ],
          "pie": [
           {
            "automargin": true,
            "type": "pie"
           }
          ],
          "scatter": [
           {
            "fillpattern": {
             "fillmode": "overlay",
             "size": 10,
             "solidity": 0.2
            },
            "type": "scatter"
           }
          ],
          "scatter3d": [
           {
            "line": {
             "colorbar": {
              "outlinewidth": 0,
              "ticks": ""
             }
            },
            "marker": {
             "colorbar": {
              "outlinewidth": 0,
              "ticks": ""
             }
            },
            "type": "scatter3d"
           }
          ],
          "scattercarpet": [
           {
            "marker": {
             "colorbar": {
              "outlinewidth": 0,
              "ticks": ""
             }
            },
            "type": "scattercarpet"
           }
          ],
          "scattergeo": [
           {
            "marker": {
             "colorbar": {
              "outlinewidth": 0,
              "ticks": ""
             }
            },
            "type": "scattergeo"
           }
          ],
          "scattergl": [
           {
            "marker": {
             "colorbar": {
              "outlinewidth": 0,
              "ticks": ""
             }
            },
            "type": "scattergl"
           }
          ],
          "scattermapbox": [
           {
            "marker": {
             "colorbar": {
              "outlinewidth": 0,
              "ticks": ""
             }
            },
            "type": "scattermapbox"
           }
          ],
          "scatterpolar": [
           {
            "marker": {
             "colorbar": {
              "outlinewidth": 0,
              "ticks": ""
             }
            },
            "type": "scatterpolar"
           }
          ],
          "scatterpolargl": [
           {
            "marker": {
             "colorbar": {
              "outlinewidth": 0,
              "ticks": ""
             }
            },
            "type": "scatterpolargl"
           }
          ],
          "scatterternary": [
           {
            "marker": {
             "colorbar": {
              "outlinewidth": 0,
              "ticks": ""
             }
            },
            "type": "scatterternary"
           }
          ],
          "surface": [
           {
            "colorbar": {
             "outlinewidth": 0,
             "ticks": ""
            },
            "colorscale": [
             [
              0,
              "#0d0887"
             ],
             [
              0.1111111111111111,
              "#46039f"
             ],
             [
              0.2222222222222222,
              "#7201a8"
             ],
             [
              0.3333333333333333,
              "#9c179e"
             ],
             [
              0.4444444444444444,
              "#bd3786"
             ],
             [
              0.5555555555555556,
              "#d8576b"
             ],
             [
              0.6666666666666666,
              "#ed7953"
             ],
             [
              0.7777777777777778,
              "#fb9f3a"
             ],
             [
              0.8888888888888888,
              "#fdca26"
             ],
             [
              1,
              "#f0f921"
             ]
            ],
            "type": "surface"
           }
          ],
          "table": [
           {
            "cells": {
             "fill": {
              "color": "#EBF0F8"
             },
             "line": {
              "color": "white"
             }
            },
            "header": {
             "fill": {
              "color": "#C8D4E3"
             },
             "line": {
              "color": "white"
             }
            },
            "type": "table"
           }
          ]
         },
         "layout": {
          "annotationdefaults": {
           "arrowcolor": "#2a3f5f",
           "arrowhead": 0,
           "arrowwidth": 1
          },
          "autotypenumbers": "strict",
          "coloraxis": {
           "colorbar": {
            "outlinewidth": 0,
            "ticks": ""
           }
          },
          "colorscale": {
           "diverging": [
            [
             0,
             "#8e0152"
            ],
            [
             0.1,
             "#c51b7d"
            ],
            [
             0.2,
             "#de77ae"
            ],
            [
             0.3,
             "#f1b6da"
            ],
            [
             0.4,
             "#fde0ef"
            ],
            [
             0.5,
             "#f7f7f7"
            ],
            [
             0.6,
             "#e6f5d0"
            ],
            [
             0.7,
             "#b8e186"
            ],
            [
             0.8,
             "#7fbc41"
            ],
            [
             0.9,
             "#4d9221"
            ],
            [
             1,
             "#276419"
            ]
           ],
           "sequential": [
            [
             0,
             "#0d0887"
            ],
            [
             0.1111111111111111,
             "#46039f"
            ],
            [
             0.2222222222222222,
             "#7201a8"
            ],
            [
             0.3333333333333333,
             "#9c179e"
            ],
            [
             0.4444444444444444,
             "#bd3786"
            ],
            [
             0.5555555555555556,
             "#d8576b"
            ],
            [
             0.6666666666666666,
             "#ed7953"
            ],
            [
             0.7777777777777778,
             "#fb9f3a"
            ],
            [
             0.8888888888888888,
             "#fdca26"
            ],
            [
             1,
             "#f0f921"
            ]
           ],
           "sequentialminus": [
            [
             0,
             "#0d0887"
            ],
            [
             0.1111111111111111,
             "#46039f"
            ],
            [
             0.2222222222222222,
             "#7201a8"
            ],
            [
             0.3333333333333333,
             "#9c179e"
            ],
            [
             0.4444444444444444,
             "#bd3786"
            ],
            [
             0.5555555555555556,
             "#d8576b"
            ],
            [
             0.6666666666666666,
             "#ed7953"
            ],
            [
             0.7777777777777778,
             "#fb9f3a"
            ],
            [
             0.8888888888888888,
             "#fdca26"
            ],
            [
             1,
             "#f0f921"
            ]
           ]
          },
          "colorway": [
           "#636efa",
           "#EF553B",
           "#00cc96",
           "#ab63fa",
           "#FFA15A",
           "#19d3f3",
           "#FF6692",
           "#B6E880",
           "#FF97FF",
           "#FECB52"
          ],
          "font": {
           "color": "#2a3f5f"
          },
          "geo": {
           "bgcolor": "white",
           "lakecolor": "white",
           "landcolor": "#E5ECF6",
           "showlakes": true,
           "showland": true,
           "subunitcolor": "white"
          },
          "hoverlabel": {
           "align": "left"
          },
          "hovermode": "closest",
          "mapbox": {
           "style": "light"
          },
          "paper_bgcolor": "white",
          "plot_bgcolor": "#E5ECF6",
          "polar": {
           "angularaxis": {
            "gridcolor": "white",
            "linecolor": "white",
            "ticks": ""
           },
           "bgcolor": "#E5ECF6",
           "radialaxis": {
            "gridcolor": "white",
            "linecolor": "white",
            "ticks": ""
           }
          },
          "scene": {
           "xaxis": {
            "backgroundcolor": "#E5ECF6",
            "gridcolor": "white",
            "gridwidth": 2,
            "linecolor": "white",
            "showbackground": true,
            "ticks": "",
            "zerolinecolor": "white"
           },
           "yaxis": {
            "backgroundcolor": "#E5ECF6",
            "gridcolor": "white",
            "gridwidth": 2,
            "linecolor": "white",
            "showbackground": true,
            "ticks": "",
            "zerolinecolor": "white"
           },
           "zaxis": {
            "backgroundcolor": "#E5ECF6",
            "gridcolor": "white",
            "gridwidth": 2,
            "linecolor": "white",
            "showbackground": true,
            "ticks": "",
            "zerolinecolor": "white"
           }
          },
          "shapedefaults": {
           "line": {
            "color": "#2a3f5f"
           }
          },
          "ternary": {
           "aaxis": {
            "gridcolor": "white",
            "linecolor": "white",
            "ticks": ""
           },
           "baxis": {
            "gridcolor": "white",
            "linecolor": "white",
            "ticks": ""
           },
           "bgcolor": "#E5ECF6",
           "caxis": {
            "gridcolor": "white",
            "linecolor": "white",
            "ticks": ""
           }
          },
          "title": {
           "x": 0.05
          },
          "xaxis": {
           "automargin": true,
           "gridcolor": "white",
           "linecolor": "white",
           "ticks": "",
           "title": {
            "standoff": 15
           },
           "zerolinecolor": "white",
           "zerolinewidth": 2
          },
          "yaxis": {
           "automargin": true,
           "gridcolor": "white",
           "linecolor": "white",
           "ticks": "",
           "title": {
            "standoff": 15
           },
           "zerolinecolor": "white",
           "zerolinewidth": 2
          }
         }
        },
        "title": {
         "text": "Histogram of Gross sales"
        },
        "xaxis": {
         "anchor": "y",
         "domain": [
          0,
          1
         ],
         "title": {
          "text": "gross sales"
         }
        },
        "yaxis": {
         "anchor": "x",
         "domain": [
          0,
          1
         ],
         "title": {
          "text": "count"
         }
        }
       }
      }
     },
     "metadata": {},
     "output_type": "display_data"
    },
    {
     "data": {
      "application/vnd.plotly.v1+json": {
       "config": {
        "plotlyServerURL": "https://plot.ly"
       },
       "data": [
        {
         "alignmentgroup": "True",
         "hovertemplate": "gross sales=%{x}<extra></extra>",
         "legendgroup": "",
         "marker": {
          "color": "#636efa"
         },
         "name": "",
         "notched": false,
         "offsetgroup": "",
         "orientation": "h",
         "showlegend": false,
         "type": "box",
         "x": [
          34160,
          12437.5,
          47795,
          41250,
          37952.5,
          19960,
          27491.67,
          26182,
          26093.67,
          23792.34,
          17964,
          21564,
          3431.34,
          6897.34,
          21797.82,
          16297.34,
          15968,
          15968,
          6234.67,
          3035.34,
          11702.67,
          8569.34,
          8171.67,
          7774,
          26904.06,
          2376,
          9576,
          9308.67,
          4509.34,
          2178,
          13178,
          2045.34,
          1964.16,
          1964.16,
          1949.31,
          1949.31,
          20309.55,
          1873.08,
          7485.24,
          3703.39,
          11057.54,
          12791.7,
          8982,
          3582,
          1766.16,
          10596.31,
          15058.27,
          1720.62,
          1705.77,
          8517.93,
          1675.08,
          6687.24,
          4966.39,
          1629.54,
          17783.3,
          1613.7,
          18394.85,
          10384,
          6320.16,
          4707,
          1522.62,
          5924.47,
          12040.93,
          13413.08,
          2907.39,
          11553.54,
          5705.7,
          9890.85,
          5245.36,
          5826.64,
          2724.31,
          6751.47,
          6676.62,
          1309.77,
          5933.78,
          8482.43,
          6447.08,
          2539.24,
          4907.7,
          1202.85,
          2417.85,
          1188,
          2388,
          2356.16,
          1157.31,
          1157.31,
          1111.77,
          5603.77,
          2202.93,
          6983.24,
          6885.89,
          1035.54,
          1019.7,
          6079.85,
          6932.45,
          985.05,
          5068.8,
          2195.2,
          7312.5,
          960.3,
          10224,
          1880.55,
          4690.6,
          3730.65,
          5980,
          905.85,
          7759.2,
          900.9,
          895.95,
          891,
          5841,
          10731.05,
          2661.1,
          1771.1,
          3531.15,
          6525,
          3451.35,
          6871.4,
          841.5,
          10131.55,
          6711.6,
          816.75,
          1641.75,
          5696.85,
          2421.9,
          8573.25,
          3192,
          792,
          3172.05,
          1572.1,
          9412.15,
          3112.2,
          8269.25,
          1512.4,
          3012.45,
          3742.5,
          2992.5,
          3717.55,
          2952.6,
          727.65,
          3642.7,
          5444.75,
          712.8,
          702.9,
          697.95,
          5593,
          1353.2,
          668.25,
          3678.3,
          658.35,
          7814.4,
          648.45,
          9818.45,
          3243.5,
          1943.5,
          3218.55,
          4473.6,
          5663.7,
          608.85,
          603.9,
          1210,
          594,
          3540.25,
          3564.05,
          1174.1,
          5200.65,
          569.25,
          1134.3,
          1659.45,
          4434.45,
          544.5,
          534.6,
          2154.6,
          1599.65,
          524.7,
          1024.85,
          1524.9,
          2014.95,
          5433.18,
          1483.04,
          2445.1,
          483.12,
          2605.92,
          2057.58,
          476.19,
          475.2,
          1429.22,
          5253.22,
          1423.24,
          2375.24,
          470.25,
          470.25,
          1399.32,
          461.34,
          1393.34,
          460.35,
          455.4,
          455.4,
          3643.44,
          5000.45,
          2250.49,
          4792.5,
          4771.2,
          443.52,
          1324.57,
          8811.18,
          2175.64,
          430.65,
          5191.67,
          2593.67,
          426.69,
          425.7,
          5107.74,
          3821.22,
          420.75,
          1687.77,
          4473,
          413.82,
          411.84,
          2070.85,
          2537.9,
          1219.92,
          1685.04,
          2025.94,
          2251.8,
          1007.5,
          4270.65,
          3180.02,
          392.04,
          392.04,
          387.09,
          2726.1,
          1154.14,
          766.15,
          758.19,
          3013.71,
          1136.2,
          1886.22,
          1124.24,
          371.25,
          1871.25,
          1488.27,
          1115.27,
          366.3,
          1100.32,
          1094.34,
          4084.35,
          1811.37,
          1085.37,
          357.39,
          1079.39,
          3905.78,
          1064.44,
          347.49,
          346.5,
          344.52,
          1031.55,
          1025.57,
          1019.59,
          1019.59,
          3872.6,
          1686.62,
          1676.64,
          666.65,
          2620.72,
          2875.32,
          1300.74,
          2759.25,
          1611.77,
          2468.49,
          950.82,
          1576.84,
          2044.35,
          1874.87,
          307.89,
          306.9,
          616.9,
          2460.92,
          2152.92,
          10327.3,
          598.99,
          1487.02,
          891.02,
          1181.04,
          885.04,
          1772.95,
          292.05,
          290.07,
          288.09,
          3694.6,
          1149.12,
          1707.15,
          427.5,
          2071.56,
          1412.17,
          3650.19,
          1097.25,
          2618.07,
          267.3,
          267.3,
          263.34,
          997.5,
          1719.85,
          1877.82,
          1041.39,
          777.4,
          771.42,
          1527.45,
          997.5,
          997.5,
          246.51,
          744.51,
          1635.93,
          3221.52,
          741.52,
          738.53,
          1141.14,
          244.53,
          1227.54,
          977.55,
          977.55,
          1698.57,
          726.57,
          1494.45,
          965.58,
          1202.59,
          2566.65,
          1197.6,
          236.61,
          953.61,
          1544.62,
          1419.63,
          471.63,
          1182.63,
          708.63,
          1885.64,
          1642.65,
          933.66,
          463.67,
          461.68,
          925.68,
          2460.15,
          687.7,
          2509.3,
          226.71,
          1142.71,
          909.72,
          5902.92,
          1468.69,
          223.74,
          1188.76,
          897.75,
          221.76,
          1274.56,
          1112.77,
          1781.77,
          1662.78,
          660.79,
          437.8,
          3955.6,
          2067.36,
          1311.81,
          433.82,
          2177.82,
          214.83,
          2311.05,
          1072.85,
          1717.85,
          642.85,
          1281.86,
          849.87,
          423.87,
          1062.87,
          1693.88,
          1080.32,
          630.89,
          2007.6,
          833.91,
          206.91,
          621.92,
          205.92,
          1245.92,
          1032.93,
          2457.95,
          1621.97,
          1703.17,
          603.98,
          603.98,
          600.99,
          198.99,
          399.99,
          500,
          1898,
          595.01,
          196.02,
          790.02,
          1059.86,
          194.04,
          586.04,
          1480.05,
          583.05,
          192.06,
          191.07,
          770.07,
          1726.08,
          1468.79,
          948.1,
          376.11,
          565.11,
          750.12,
          186.12,
          185.13,
          184.14,
          1114.14,
          550.16,
          181.17,
          544.18,
          1243.06,
          1726.2,
          177.21,
          2280.46,
          176.22,
          1242.44,
          175.23,
          350.24,
          702.24,
          1230.24,
          523.25,
          868.26,
          1216.26,
          1842.45,
          344.27,
          171.27,
          517.27,
          170.28,
          340.29,
          1024.29,
          1879.29,
          1109.79,
          648.09,
          340.29,
          508.3,
          678.3,
          848.3,
          1688.31,
          1350.31,
          674.31,
          167.31,
          2153.06,
          1294.54,
          1843.79,
          1342.32,
          166.32,
          1291.92,
          1985.63,
          833.33,
          1835.33,
          1152.04,
          164.34,
          1226.74,
          1153.35,
          823.35,
          163.35,
          1757.25,
          162.36,
          1746.6,
          162.36,
          162.36,
          162.36,
          324.37,
          813.37,
          1470.26,
          161.37,
          322.38,
          322.38,
          160.38,
          320.39,
          642.39,
          615.02,
          478.4,
          1438.4,
          478.4,
          478.4,
          1598.4,
          475.41,
          157.41,
          475.41,
          634.41,
          314.42,
          1136.02,
          472.42,
          1420.42,
          469.43,
          1474.23,
          154.44,
          669.24,
          2106.45,
          618.45,
          1230.46,
          614.46,
          460.46,
          768.46,
          1167.32,
          610.47,
          151.47,
          151.47,
          1176.57,
          1618.8,
          1111.12,
          910.48,
          149.49,
          151,
          661.38,
          1508.49,
          1125,
          598.5,
          594.51,
          594.51,
          1488.51,
          594.51,
          1427.42,
          1144.04,
          146.52,
          442.52,
          145.53,
          1997.73,
          145.53,
          439.53,
          439.53,
          1074.57,
          675.98,
          582.54,
          1097.92,
          1166.54,
          144.54,
          665.55,
          723.55,
          990.35,
          1448.55,
          1134.72,
          570.57,
          1428.57,
          708.58,
          1560.58,
          969.86,
          562.59,
          139.59,
          1030.71,
          562.59,
          558.6,
          418.6,
          1398.6,
          698.6,
          137.61,
          693.61,
          725.88,
          1516.62,
          957.72,
          836.4,
          1225.36,
          542.64,
          133.65,
          538.65,
          808.65,
          873.68,
          1191.26,
          530.67,
          397.67,
          394.68,
          394.68,
          394.68,
          790.68,
          526.68,
          130.68,
          327.36,
          394.68,
          260.69,
          1395.15,
          129.69,
          260.69,
          492.7,
          258.7,
          1656.2,
          514.71,
          127.71,
          127.71,
          127.71,
          127.71,
          885.76,
          888.32,
          1470.72,
          787.2,
          126.72,
          1153.28,
          843.28,
          1395.73,
          125.73,
          506.73,
          502.74,
          124.74,
          1198.75,
          1127.5,
          122.76,
          370.76,
          121.77,
          121.77,
          974.78,
          120.78,
          1096.78,
          966.79,
          930.49,
          119.79,
          671.55,
          118.8,
          118.8,
          118.8,
          117.81,
          912.73,
          355.81,
          117.81,
          712.81,
          117.81,
          236.81,
          712.81,
          474.81,
          355.81,
          355.81,
          1188.81,
          355.81,
          117.81,
          593.81,
          117.81,
          784.21,
          117.81,
          117.81,
          915.11,
          355.81,
          640.22,
          1307.81,
          117.81,
          593.81,
          355.81,
          1022.21,
          117.81,
          355.81,
          950.81,
          357.54,
          352.82,
          116.82,
          862.58,
          352.82,
          1060.82,
          352.82,
          116.82,
          1320.42,
          761.1,
          654.9,
          116.82,
          116.82,
          824.82,
          1060.82,
          706.82,
          502.68,
          1131.62,
          234.82,
          588.82,
          1680.32,
          1128.08,
          872.02,
          470.82,
          824.82,
          352.82,
          470.82,
          588.82,
          234.82,
          234.82,
          725.7,
          466.83,
          934.83,
          349.83,
          349.83,
          115.83,
          232.83,
          232.83,
          855.27,
          1519.83,
          466.83,
          700.83,
          115.83,
          1689.48,
          349.83,
          583.83,
          1170,
          1402.83,
          115.83,
          349.83,
          1084.59,
          232.83,
          466.83,
          349.83,
          1391.13,
          232.83,
          349.83,
          583.83,
          114.84,
          624.08,
          694.84,
          892.04,
          346.84,
          462.84,
          114.84,
          1158.84,
          462.84,
          230.84,
          462.84,
          694.84,
          770.24,
          114.84,
          694.84,
          114.84,
          114.84,
          114.84,
          810.84,
          346.84,
          114.84,
          114.84,
          462.84,
          1042.84,
          1041.68,
          1506.84,
          784.16,
          346.84,
          1158.84,
          926.84,
          458.85,
          1367.35,
          573.85,
          343.85,
          1033.85,
          343.85,
          343.85,
          573.85,
          343.85,
          458.85,
          458.85,
          343.85,
          343.85,
          458.85,
          803.85,
          930.35,
          113.85,
          573.85,
          1269.6,
          884.35,
          113.85,
          573.85,
          573.85,
          113.85,
          343.85,
          910.86,
          1366.86,
          1366.86,
          340.86,
          568.86,
          112.86,
          910.86,
          112.86,
          876.66,
          226.86,
          568.86,
          568.86,
          112.86,
          226.86,
          876.66,
          340.86,
          1366.86,
          397.86,
          568.86,
          454.86,
          340.86,
          345.42,
          844.74,
          228,
          778.62,
          910.86,
          454.86,
          454.86,
          746.7,
          1220.4,
          431.66,
          563.87,
          1128.87,
          450.87,
          450.87,
          1241.87,
          111.87,
          450.87,
          1388.77,
          111.87,
          111.87,
          111.87,
          1327.75,
          781.96,
          450.87,
          970.67,
          1015.87,
          846.37,
          789.87,
          111.87,
          224.87,
          111.87,
          224.87,
          992.14,
          282.5,
          110.88,
          838.88,
          334.88,
          670.88,
          334.88,
          334.88,
          110.88,
          894.88,
          334.88,
          670.88,
          446.88,
          894.88,
          842.24,
          334.88,
          1326.08,
          446.88,
          558.88,
          110.88,
          1230.88,
          558.88,
          334.88,
          446.88,
          670.88,
          222.88,
          334.88,
          222.88,
          331.89,
          1330.89,
          109.89,
          331.89,
          331.89,
          109.89,
          109.89,
          220.89,
          331.89,
          331.89,
          899.1,
          1314.24,
          220.89,
          1330.89,
          1225.44,
          109.89,
          109.89,
          858.03,
          442.89,
          1219.89,
          331.89,
          1414.14,
          331.89,
          331.89,
          109.89,
          548.9,
          1098.9,
          108.9,
          108.9,
          438.9,
          1230.9,
          108.9,
          438.9,
          108.9,
          218.9,
          438.9,
          1351.9,
          1208.9,
          878.9,
          108.9,
          328.9,
          603.9,
          988.9,
          438.9,
          1200.1,
          988.9,
          988.9,
          548.9,
          108.9,
          1867.8,
          416.9,
          548.9,
          493.9,
          641.3,
          1088.91,
          216.91,
          434.91,
          1160.85,
          107.91,
          107.91,
          543.91,
          1502.02,
          107.91,
          325.91,
          216.91,
          960.29,
          598.41,
          325.91,
          325.91,
          325.91,
          620.21,
          434.91,
          325.91,
          107.91,
          325.91,
          434.91,
          434.91,
          543.91,
          543.91,
          107.91,
          107.91,
          761.91,
          538.92,
          646.92,
          970.92,
          106.92,
          106.92,
          1659.96,
          412.56,
          430.92,
          430.92,
          1186.92,
          1150.2,
          430.92,
          1327.32,
          322.92,
          322.92,
          516.24,
          214.92,
          139.32,
          748.44,
          106.92,
          646.92,
          1186.92,
          538.92,
          106.92,
          430.92,
          538.92,
          1078.92,
          214.92,
          430.92,
          322.92,
          322.92,
          105.93,
          854.93,
          919.13,
          105.93,
          426.93,
          1272.23,
          640.93,
          319.93,
          1282.93,
          640.93,
          854.93,
          426.93,
          405.53,
          324.21,
          747.93,
          951.23,
          319.93,
          529.65,
          426.93,
          105.93,
          822.83,
          1149.18,
          640.93,
          319.93,
          104.94,
          477,
          1588.94,
          212,
          735.64,
          846.94,
          1334.54,
          827.86,
          589.36,
          316.94,
          1058.94,
          316.94,
          104.94,
          815.14,
          846.94,
          316.94,
          104.94,
          846.94,
          846.94,
          104.94,
          316.94
         ],
         "x0": " ",
         "xaxis": "x",
         "y0": " ",
         "yaxis": "y"
        }
       ],
       "layout": {
        "boxmode": "group",
        "legend": {
         "tracegroupgap": 0
        },
        "template": {
         "data": {
          "bar": [
           {
            "error_x": {
             "color": "#2a3f5f"
            },
            "error_y": {
             "color": "#2a3f5f"
            },
            "marker": {
             "line": {
              "color": "#E5ECF6",
              "width": 0.5
             },
             "pattern": {
              "fillmode": "overlay",
              "size": 10,
              "solidity": 0.2
             }
            },
            "type": "bar"
           }
          ],
          "barpolar": [
           {
            "marker": {
             "line": {
              "color": "#E5ECF6",
              "width": 0.5
             },
             "pattern": {
              "fillmode": "overlay",
              "size": 10,
              "solidity": 0.2
             }
            },
            "type": "barpolar"
           }
          ],
          "carpet": [
           {
            "aaxis": {
             "endlinecolor": "#2a3f5f",
             "gridcolor": "white",
             "linecolor": "white",
             "minorgridcolor": "white",
             "startlinecolor": "#2a3f5f"
            },
            "baxis": {
             "endlinecolor": "#2a3f5f",
             "gridcolor": "white",
             "linecolor": "white",
             "minorgridcolor": "white",
             "startlinecolor": "#2a3f5f"
            },
            "type": "carpet"
           }
          ],
          "choropleth": [
           {
            "colorbar": {
             "outlinewidth": 0,
             "ticks": ""
            },
            "type": "choropleth"
           }
          ],
          "contour": [
           {
            "colorbar": {
             "outlinewidth": 0,
             "ticks": ""
            },
            "colorscale": [
             [
              0,
              "#0d0887"
             ],
             [
              0.1111111111111111,
              "#46039f"
             ],
             [
              0.2222222222222222,
              "#7201a8"
             ],
             [
              0.3333333333333333,
              "#9c179e"
             ],
             [
              0.4444444444444444,
              "#bd3786"
             ],
             [
              0.5555555555555556,
              "#d8576b"
             ],
             [
              0.6666666666666666,
              "#ed7953"
             ],
             [
              0.7777777777777778,
              "#fb9f3a"
             ],
             [
              0.8888888888888888,
              "#fdca26"
             ],
             [
              1,
              "#f0f921"
             ]
            ],
            "type": "contour"
           }
          ],
          "contourcarpet": [
           {
            "colorbar": {
             "outlinewidth": 0,
             "ticks": ""
            },
            "type": "contourcarpet"
           }
          ],
          "heatmap": [
           {
            "colorbar": {
             "outlinewidth": 0,
             "ticks": ""
            },
            "colorscale": [
             [
              0,
              "#0d0887"
             ],
             [
              0.1111111111111111,
              "#46039f"
             ],
             [
              0.2222222222222222,
              "#7201a8"
             ],
             [
              0.3333333333333333,
              "#9c179e"
             ],
             [
              0.4444444444444444,
              "#bd3786"
             ],
             [
              0.5555555555555556,
              "#d8576b"
             ],
             [
              0.6666666666666666,
              "#ed7953"
             ],
             [
              0.7777777777777778,
              "#fb9f3a"
             ],
             [
              0.8888888888888888,
              "#fdca26"
             ],
             [
              1,
              "#f0f921"
             ]
            ],
            "type": "heatmap"
           }
          ],
          "heatmapgl": [
           {
            "colorbar": {
             "outlinewidth": 0,
             "ticks": ""
            },
            "colorscale": [
             [
              0,
              "#0d0887"
             ],
             [
              0.1111111111111111,
              "#46039f"
             ],
             [
              0.2222222222222222,
              "#7201a8"
             ],
             [
              0.3333333333333333,
              "#9c179e"
             ],
             [
              0.4444444444444444,
              "#bd3786"
             ],
             [
              0.5555555555555556,
              "#d8576b"
             ],
             [
              0.6666666666666666,
              "#ed7953"
             ],
             [
              0.7777777777777778,
              "#fb9f3a"
             ],
             [
              0.8888888888888888,
              "#fdca26"
             ],
             [
              1,
              "#f0f921"
             ]
            ],
            "type": "heatmapgl"
           }
          ],
          "histogram": [
           {
            "marker": {
             "pattern": {
              "fillmode": "overlay",
              "size": 10,
              "solidity": 0.2
             }
            },
            "type": "histogram"
           }
          ],
          "histogram2d": [
           {
            "colorbar": {
             "outlinewidth": 0,
             "ticks": ""
            },
            "colorscale": [
             [
              0,
              "#0d0887"
             ],
             [
              0.1111111111111111,
              "#46039f"
             ],
             [
              0.2222222222222222,
              "#7201a8"
             ],
             [
              0.3333333333333333,
              "#9c179e"
             ],
             [
              0.4444444444444444,
              "#bd3786"
             ],
             [
              0.5555555555555556,
              "#d8576b"
             ],
             [
              0.6666666666666666,
              "#ed7953"
             ],
             [
              0.7777777777777778,
              "#fb9f3a"
             ],
             [
              0.8888888888888888,
              "#fdca26"
             ],
             [
              1,
              "#f0f921"
             ]
            ],
            "type": "histogram2d"
           }
          ],
          "histogram2dcontour": [
           {
            "colorbar": {
             "outlinewidth": 0,
             "ticks": ""
            },
            "colorscale": [
             [
              0,
              "#0d0887"
             ],
             [
              0.1111111111111111,
              "#46039f"
             ],
             [
              0.2222222222222222,
              "#7201a8"
             ],
             [
              0.3333333333333333,
              "#9c179e"
             ],
             [
              0.4444444444444444,
              "#bd3786"
             ],
             [
              0.5555555555555556,
              "#d8576b"
             ],
             [
              0.6666666666666666,
              "#ed7953"
             ],
             [
              0.7777777777777778,
              "#fb9f3a"
             ],
             [
              0.8888888888888888,
              "#fdca26"
             ],
             [
              1,
              "#f0f921"
             ]
            ],
            "type": "histogram2dcontour"
           }
          ],
          "mesh3d": [
           {
            "colorbar": {
             "outlinewidth": 0,
             "ticks": ""
            },
            "type": "mesh3d"
           }
          ],
          "parcoords": [
           {
            "line": {
             "colorbar": {
              "outlinewidth": 0,
              "ticks": ""
             }
            },
            "type": "parcoords"
           }
          ],
          "pie": [
           {
            "automargin": true,
            "type": "pie"
           }
          ],
          "scatter": [
           {
            "fillpattern": {
             "fillmode": "overlay",
             "size": 10,
             "solidity": 0.2
            },
            "type": "scatter"
           }
          ],
          "scatter3d": [
           {
            "line": {
             "colorbar": {
              "outlinewidth": 0,
              "ticks": ""
             }
            },
            "marker": {
             "colorbar": {
              "outlinewidth": 0,
              "ticks": ""
             }
            },
            "type": "scatter3d"
           }
          ],
          "scattercarpet": [
           {
            "marker": {
             "colorbar": {
              "outlinewidth": 0,
              "ticks": ""
             }
            },
            "type": "scattercarpet"
           }
          ],
          "scattergeo": [
           {
            "marker": {
             "colorbar": {
              "outlinewidth": 0,
              "ticks": ""
             }
            },
            "type": "scattergeo"
           }
          ],
          "scattergl": [
           {
            "marker": {
             "colorbar": {
              "outlinewidth": 0,
              "ticks": ""
             }
            },
            "type": "scattergl"
           }
          ],
          "scattermapbox": [
           {
            "marker": {
             "colorbar": {
              "outlinewidth": 0,
              "ticks": ""
             }
            },
            "type": "scattermapbox"
           }
          ],
          "scatterpolar": [
           {
            "marker": {
             "colorbar": {
              "outlinewidth": 0,
              "ticks": ""
             }
            },
            "type": "scatterpolar"
           }
          ],
          "scatterpolargl": [
           {
            "marker": {
             "colorbar": {
              "outlinewidth": 0,
              "ticks": ""
             }
            },
            "type": "scatterpolargl"
           }
          ],
          "scatterternary": [
           {
            "marker": {
             "colorbar": {
              "outlinewidth": 0,
              "ticks": ""
             }
            },
            "type": "scatterternary"
           }
          ],
          "surface": [
           {
            "colorbar": {
             "outlinewidth": 0,
             "ticks": ""
            },
            "colorscale": [
             [
              0,
              "#0d0887"
             ],
             [
              0.1111111111111111,
              "#46039f"
             ],
             [
              0.2222222222222222,
              "#7201a8"
             ],
             [
              0.3333333333333333,
              "#9c179e"
             ],
             [
              0.4444444444444444,
              "#bd3786"
             ],
             [
              0.5555555555555556,
              "#d8576b"
             ],
             [
              0.6666666666666666,
              "#ed7953"
             ],
             [
              0.7777777777777778,
              "#fb9f3a"
             ],
             [
              0.8888888888888888,
              "#fdca26"
             ],
             [
              1,
              "#f0f921"
             ]
            ],
            "type": "surface"
           }
          ],
          "table": [
           {
            "cells": {
             "fill": {
              "color": "#EBF0F8"
             },
             "line": {
              "color": "white"
             }
            },
            "header": {
             "fill": {
              "color": "#C8D4E3"
             },
             "line": {
              "color": "white"
             }
            },
            "type": "table"
           }
          ]
         },
         "layout": {
          "annotationdefaults": {
           "arrowcolor": "#2a3f5f",
           "arrowhead": 0,
           "arrowwidth": 1
          },
          "autotypenumbers": "strict",
          "coloraxis": {
           "colorbar": {
            "outlinewidth": 0,
            "ticks": ""
           }
          },
          "colorscale": {
           "diverging": [
            [
             0,
             "#8e0152"
            ],
            [
             0.1,
             "#c51b7d"
            ],
            [
             0.2,
             "#de77ae"
            ],
            [
             0.3,
             "#f1b6da"
            ],
            [
             0.4,
             "#fde0ef"
            ],
            [
             0.5,
             "#f7f7f7"
            ],
            [
             0.6,
             "#e6f5d0"
            ],
            [
             0.7,
             "#b8e186"
            ],
            [
             0.8,
             "#7fbc41"
            ],
            [
             0.9,
             "#4d9221"
            ],
            [
             1,
             "#276419"
            ]
           ],
           "sequential": [
            [
             0,
             "#0d0887"
            ],
            [
             0.1111111111111111,
             "#46039f"
            ],
            [
             0.2222222222222222,
             "#7201a8"
            ],
            [
             0.3333333333333333,
             "#9c179e"
            ],
            [
             0.4444444444444444,
             "#bd3786"
            ],
            [
             0.5555555555555556,
             "#d8576b"
            ],
            [
             0.6666666666666666,
             "#ed7953"
            ],
            [
             0.7777777777777778,
             "#fb9f3a"
            ],
            [
             0.8888888888888888,
             "#fdca26"
            ],
            [
             1,
             "#f0f921"
            ]
           ],
           "sequentialminus": [
            [
             0,
             "#0d0887"
            ],
            [
             0.1111111111111111,
             "#46039f"
            ],
            [
             0.2222222222222222,
             "#7201a8"
            ],
            [
             0.3333333333333333,
             "#9c179e"
            ],
            [
             0.4444444444444444,
             "#bd3786"
            ],
            [
             0.5555555555555556,
             "#d8576b"
            ],
            [
             0.6666666666666666,
             "#ed7953"
            ],
            [
             0.7777777777777778,
             "#fb9f3a"
            ],
            [
             0.8888888888888888,
             "#fdca26"
            ],
            [
             1,
             "#f0f921"
            ]
           ]
          },
          "colorway": [
           "#636efa",
           "#EF553B",
           "#00cc96",
           "#ab63fa",
           "#FFA15A",
           "#19d3f3",
           "#FF6692",
           "#B6E880",
           "#FF97FF",
           "#FECB52"
          ],
          "font": {
           "color": "#2a3f5f"
          },
          "geo": {
           "bgcolor": "white",
           "lakecolor": "white",
           "landcolor": "#E5ECF6",
           "showlakes": true,
           "showland": true,
           "subunitcolor": "white"
          },
          "hoverlabel": {
           "align": "left"
          },
          "hovermode": "closest",
          "mapbox": {
           "style": "light"
          },
          "paper_bgcolor": "white",
          "plot_bgcolor": "#E5ECF6",
          "polar": {
           "angularaxis": {
            "gridcolor": "white",
            "linecolor": "white",
            "ticks": ""
           },
           "bgcolor": "#E5ECF6",
           "radialaxis": {
            "gridcolor": "white",
            "linecolor": "white",
            "ticks": ""
           }
          },
          "scene": {
           "xaxis": {
            "backgroundcolor": "#E5ECF6",
            "gridcolor": "white",
            "gridwidth": 2,
            "linecolor": "white",
            "showbackground": true,
            "ticks": "",
            "zerolinecolor": "white"
           },
           "yaxis": {
            "backgroundcolor": "#E5ECF6",
            "gridcolor": "white",
            "gridwidth": 2,
            "linecolor": "white",
            "showbackground": true,
            "ticks": "",
            "zerolinecolor": "white"
           },
           "zaxis": {
            "backgroundcolor": "#E5ECF6",
            "gridcolor": "white",
            "gridwidth": 2,
            "linecolor": "white",
            "showbackground": true,
            "ticks": "",
            "zerolinecolor": "white"
           }
          },
          "shapedefaults": {
           "line": {
            "color": "#2a3f5f"
           }
          },
          "ternary": {
           "aaxis": {
            "gridcolor": "white",
            "linecolor": "white",
            "ticks": ""
           },
           "baxis": {
            "gridcolor": "white",
            "linecolor": "white",
            "ticks": ""
           },
           "bgcolor": "#E5ECF6",
           "caxis": {
            "gridcolor": "white",
            "linecolor": "white",
            "ticks": ""
           }
          },
          "title": {
           "x": 0.05
          },
          "xaxis": {
           "automargin": true,
           "gridcolor": "white",
           "linecolor": "white",
           "ticks": "",
           "title": {
            "standoff": 15
           },
           "zerolinecolor": "white",
           "zerolinewidth": 2
          },
          "yaxis": {
           "automargin": true,
           "gridcolor": "white",
           "linecolor": "white",
           "ticks": "",
           "title": {
            "standoff": 15
           },
           "zerolinecolor": "white",
           "zerolinewidth": 2
          }
         }
        },
        "title": {
         "text": "Boxplot of Gross Sales"
        },
        "xaxis": {
         "anchor": "y",
         "domain": [
          0,
          1
         ],
         "title": {
          "text": "gross sales"
         }
        },
        "yaxis": {
         "anchor": "x",
         "domain": [
          0,
          1
         ]
        }
       }
      }
     },
     "metadata": {},
     "output_type": "display_data"
    }
   ],
   "source": [
    "# gross sales historogram\n",
    "\n",
    "fig = px.histogram(data, x='gross sales', title='Histogram of Gross sales')\n",
    "fig.show()\n",
    "\n",
    "fig = px.box(data, x='gross sales', title='Boxplot of Gross Sales')\n",
    "fig.show()\n",
    "\n",
    "#skewed to the right\n",
    "# some outliers, can be telling when making graphs"
   ]
  },
  {
   "cell_type": "code",
   "execution_count": 58,
   "metadata": {},
   "outputs": [
    {
     "data": {
      "application/vnd.plotly.v1+json": {
       "config": {
        "plotlyServerURL": "https://plot.ly"
       },
       "data": [
        {
         "alignmentgroup": "True",
         "bingroup": "x",
         "hovertemplate": "publisher revenue=%{x}<br>count=%{y}<extra></extra>",
         "legendgroup": "",
         "marker": {
          "color": "#636efa",
          "pattern": {
           "shape": ""
          }
         },
         "name": "",
         "offsetgroup": "",
         "orientation": "v",
         "showlegend": false,
         "type": "histogram",
         "x": [
          20496,
          7462.5,
          28677,
          24750,
          22771.5,
          0,
          16495.002,
          15709.2,
          15656.202,
          14275.404,
          0,
          12938.4,
          0,
          4138.404,
          13078.692,
          0,
          0,
          0,
          3740.802,
          0,
          0,
          0,
          0,
          0,
          16142.436,
          0,
          5745.6,
          0,
          0,
          0,
          7906.8,
          1227.204,
          0,
          1178.496,
          0,
          0,
          12185.73,
          0,
          0,
          2222.034,
          6634.524,
          7675.02,
          0,
          2149.2,
          1059.696,
          6357.786,
          9034.962,
          1032.372,
          1023.462,
          0,
          1005.048,
          0,
          2979.834,
          977.724,
          10669.98,
          0,
          11036.91,
          6230.4,
          0,
          0,
          0,
          0,
          0,
          8047.848,
          0,
          6932.124,
          0,
          5934.51,
          3147.216,
          3495.984,
          1634.586,
          0,
          0,
          785.862,
          3560.268,
          5089.458,
          3868.248,
          1523.544,
          0,
          0,
          1450.71,
          0,
          0,
          1413.696,
          694.386,
          694.386,
          0,
          3362.262,
          1321.758,
          4189.944,
          4131.534,
          621.324,
          0,
          0,
          4159.47,
          0,
          3041.28,
          1317.12,
          4387.5,
          0,
          6134.4,
          0,
          2814.36,
          2238.39,
          3588,
          543.51,
          4655.52,
          0,
          537.57,
          0,
          3504.6,
          6438.63,
          0,
          1062.66,
          0,
          3915,
          0,
          4122.84,
          504.9,
          6078.93,
          4026.96,
          0,
          985.05,
          3418.11,
          0,
          5143.95,
          0,
          475.2,
          0,
          943.26,
          5647.29,
          0,
          4961.55,
          907.44,
          0,
          0,
          0,
          2230.53,
          1771.56,
          0,
          0,
          3266.85,
          0,
          0,
          418.77,
          3355.8,
          811.92,
          400.95,
          2206.98,
          395.01,
          4688.64,
          0,
          5891.07,
          0,
          0,
          0,
          2684.16,
          3398.22,
          0,
          362.34,
          0,
          0,
          0,
          2138.43,
          704.46,
          3120.39,
          0,
          0,
          0,
          2660.67,
          326.7,
          0,
          0,
          959.79,
          314.82,
          614.91,
          0,
          1208.97,
          3259.908,
          0,
          1467.06,
          289.872,
          1563.552,
          1234.548,
          0,
          285.12,
          0,
          3151.932,
          0,
          1425.144,
          0,
          282.15,
          0,
          0,
          0,
          276.21,
          273.24,
          0,
          0,
          3000.27,
          1350.294,
          2875.5,
          2862.72,
          266.112,
          794.742,
          5286.708,
          1305.384,
          0,
          3115.002,
          1556.202,
          256.014,
          255.42,
          3064.644,
          2292.732,
          252.45,
          0,
          2683.8,
          248.292,
          0,
          1242.51,
          1522.74,
          0,
          1011.024,
          1215.564,
          1351.08,
          604.5,
          2562.39,
          1908.012,
          235.224,
          235.224,
          232.254,
          1635.66,
          692.484,
          459.69,
          0,
          1808.226,
          681.72,
          1131.732,
          674.544,
          0,
          1122.75,
          0,
          669.162,
          0,
          660.192,
          0,
          2450.61,
          0,
          651.222,
          214.434,
          647.634,
          2343.468,
          638.664,
          208.494,
          0,
          0,
          618.93,
          0,
          0,
          611.754,
          2323.56,
          0,
          0,
          399.99,
          1572.432,
          1725.192,
          0,
          1655.55,
          967.062,
          1481.094,
          0,
          0,
          1226.61,
          1124.922,
          184.734,
          0,
          370.14,
          1476.552,
          1291.752,
          6196.38,
          0,
          892.212,
          0,
          0,
          531.024,
          1063.77,
          0,
          0,
          172.854,
          2216.76,
          689.472,
          1024.29,
          0,
          1242.936,
          847.302,
          2190.114,
          658.35,
          1570.842,
          0,
          0,
          0,
          0,
          1031.91,
          1126.692,
          0,
          0,
          462.852,
          916.47,
          0,
          598.5,
          147.906,
          446.706,
          981.558,
          0,
          444.912,
          0,
          684.684,
          146.718,
          736.524,
          0,
          586.53,
          1019.142,
          435.942,
          896.67,
          0,
          721.554,
          1539.99,
          718.56,
          141.966,
          0,
          926.772,
          851.778,
          0,
          709.578,
          0,
          1131.384,
          985.59,
          560.196,
          278.202,
          277.008,
          0,
          1476.09,
          412.62,
          1505.58,
          0,
          0,
          0,
          3541.752,
          881.214,
          134.244,
          713.256,
          538.65,
          0,
          764.736,
          0,
          1069.062,
          997.668,
          396.474,
          262.68,
          2373.36,
          1240.416,
          787.086,
          260.292,
          1306.692,
          128.898,
          1386.63,
          0,
          1030.71,
          385.71,
          0,
          509.922,
          254.322,
          637.722,
          1016.328,
          648.192,
          0,
          1204.56,
          0,
          124.146,
          0,
          0,
          747.552,
          0,
          1474.77,
          973.182,
          1021.902,
          0,
          0,
          360.594,
          119.394,
          239.994,
          300,
          0,
          0,
          117.612,
          0,
          635.916,
          0,
          0,
          888.03,
          349.83,
          115.236,
          0,
          0,
          1035.648,
          881.274,
          0,
          0,
          339.066,
          0,
          0,
          0,
          110.484,
          668.484,
          330.096,
          0,
          326.508,
          745.836,
          1035.72,
          106.326,
          1368.276,
          0,
          745.464,
          105.138,
          0,
          421.344,
          738.144,
          0,
          0,
          729.756,
          1105.47,
          206.562,
          0,
          310.362,
          102.168,
          0,
          0,
          1127.574,
          665.874,
          388.854,
          0,
          304.98,
          0,
          0,
          1012.986,
          810.186,
          404.586,
          100.386,
          1291.836,
          776.724,
          1106.274,
          805.392,
          0,
          775.152,
          1191.378,
          499.998,
          1101.198,
          691.224,
          0,
          0,
          692.01,
          494.01,
          98.01,
          1054.35,
          0,
          1047.96,
          97.416,
          0,
          97.416,
          194.622,
          488.022,
          882.156,
          96.822,
          193.428,
          193.428,
          96.228,
          192.234,
          385.434,
          369.012,
          287.04,
          863.04,
          0,
          0,
          959.04,
          0,
          0,
          0,
          380.646,
          188.652,
          681.612,
          283.452,
          852.252,
          0,
          884.538,
          0,
          401.544,
          1263.87,
          0,
          738.276,
          0,
          0,
          0,
          700.392,
          0,
          90.882,
          0,
          705.942,
          971.28,
          666.672,
          546.288,
          0,
          90.6,
          396.828,
          905.094,
          675,
          0,
          356.706,
          356.706,
          893.106,
          0,
          856.452,
          686.424,
          0,
          0,
          87.318,
          1198.638,
          0,
          0,
          263.718,
          644.742,
          405.588,
          0,
          658.752,
          699.924,
          0,
          399.33,
          0,
          594.21,
          869.13,
          680.832,
          0,
          857.142,
          0,
          936.348,
          581.916,
          0,
          83.754,
          618.426,
          0,
          0,
          251.16,
          839.16,
          0,
          0,
          0,
          435.528,
          909.972,
          574.632,
          501.84,
          0,
          0,
          0,
          0,
          485.19,
          524.208,
          714.756,
          0,
          238.602,
          0,
          0,
          236.808,
          0,
          0,
          78.408,
          196.416,
          0,
          156.414,
          837.09,
          77.814,
          156.414,
          295.62,
          155.22,
          993.72,
          0,
          0,
          76.626,
          0,
          0,
          531.456,
          532.992,
          882.432,
          472.32,
          76.032,
          691.968,
          505.968,
          837.438,
          75.438,
          0,
          0,
          0,
          719.25,
          676.5,
          73.656,
          0,
          73.062,
          73.062,
          584.868,
          72.468,
          658.068,
          580.074,
          558.294,
          71.874,
          402.93,
          0,
          71.28,
          71.28,
          70.686,
          547.638,
          0,
          0,
          427.686,
          70.686,
          142.086,
          427.686,
          0,
          0,
          0,
          713.286,
          213.486,
          0,
          0,
          70.686,
          470.526,
          70.686,
          70.686,
          549.066,
          0,
          384.132,
          784.686,
          70.686,
          0,
          0,
          613.326,
          0,
          213.486,
          570.486,
          214.524,
          0,
          70.092,
          517.548,
          211.692,
          636.492,
          0,
          0,
          792.252,
          456.66,
          392.94,
          70.092,
          70.092,
          494.892,
          636.492,
          424.092,
          301.608,
          678.972,
          140.892,
          0,
          1008.192,
          676.848,
          523.212,
          282.492,
          494.892,
          0,
          0,
          0,
          140.892,
          140.892,
          435.42,
          0,
          560.898,
          209.898,
          209.898,
          0,
          139.698,
          139.698,
          513.162,
          911.898,
          0,
          420.498,
          0,
          1013.688,
          209.898,
          350.298,
          702,
          841.698,
          0,
          0,
          650.754,
          139.698,
          0,
          0,
          834.678,
          139.698,
          0,
          350.298,
          0,
          374.448,
          0,
          535.224,
          0,
          0,
          68.904,
          695.304,
          277.704,
          138.504,
          277.704,
          0,
          462.144,
          68.904,
          416.904,
          68.904,
          68.904,
          0,
          486.504,
          0,
          0,
          68.904,
          0,
          625.704,
          625.008,
          904.104,
          470.496,
          0,
          695.304,
          556.104,
          0,
          820.41,
          0,
          0,
          620.31,
          0,
          0,
          0,
          206.31,
          0,
          0,
          0,
          206.31,
          0,
          482.31,
          558.21,
          68.31,
          344.31,
          761.76,
          530.61,
          68.31,
          344.31,
          344.31,
          0,
          0,
          546.516,
          820.116,
          820.116,
          204.516,
          0,
          0,
          546.516,
          67.716,
          525.996,
          0,
          341.316,
          0,
          67.716,
          136.116,
          525.996,
          204.516,
          820.116,
          0,
          341.316,
          272.916,
          204.516,
          0,
          506.844,
          0,
          467.172,
          546.516,
          0,
          0,
          448.02,
          732.24,
          258.996,
          0,
          677.322,
          0,
          0,
          745.122,
          67.122,
          270.522,
          833.262,
          67.122,
          67.122,
          0,
          796.65,
          469.176,
          270.522,
          582.402,
          609.522,
          507.822,
          473.922,
          67.122,
          134.922,
          67.122,
          134.922,
          595.284,
          169.5,
          66.528,
          503.328,
          0,
          0,
          200.928,
          200.928,
          0,
          536.928,
          0,
          402.528,
          0,
          536.928,
          505.344,
          0,
          795.648,
          0,
          0,
          66.528,
          738.528,
          335.328,
          200.928,
          268.128,
          0,
          133.728,
          200.928,
          133.728,
          0,
          798.534,
          0,
          0,
          0,
          65.934,
          0,
          132.534,
          0,
          0,
          539.46,
          788.544,
          132.534,
          798.534,
          735.264,
          65.934,
          0,
          514.818,
          0,
          731.934,
          0,
          848.484,
          0,
          0,
          65.934,
          0,
          659.34,
          65.34,
          65.34,
          0,
          738.54,
          65.34,
          0,
          0,
          131.34,
          0,
          811.14,
          725.34,
          527.34,
          65.34,
          0,
          362.34,
          593.34,
          0,
          720.06,
          593.34,
          593.34,
          329.34,
          0,
          1120.68,
          250.14,
          0,
          296.34,
          384.78,
          653.346,
          130.146,
          260.946,
          696.51,
          0,
          64.746,
          0,
          901.212,
          64.746,
          0,
          130.146,
          576.174,
          359.046,
          195.546,
          0,
          195.546,
          372.126,
          0,
          0,
          0,
          0,
          0,
          0,
          326.346,
          0,
          0,
          0,
          0,
          0,
          388.152,
          582.552,
          0,
          64.152,
          995.976,
          0,
          0,
          0,
          712.152,
          690.12,
          0,
          796.392,
          0,
          0,
          309.744,
          128.952,
          83.592,
          449.064,
          64.152,
          388.152,
          712.152,
          0,
          64.152,
          0,
          323.352,
          647.352,
          0,
          0,
          0,
          193.752,
          0,
          512.958,
          551.478,
          63.558,
          256.158,
          763.338,
          0,
          0,
          769.758,
          384.558,
          512.958,
          256.158,
          243.318,
          194.526,
          448.758,
          570.738,
          0,
          317.79,
          0,
          0,
          493.698,
          689.508,
          384.558,
          0,
          0,
          286.2,
          953.364,
          0,
          441.384,
          508.164,
          800.724,
          496.716,
          353.616,
          0,
          635.364,
          190.164,
          0,
          489.084,
          508.164,
          0,
          62.964,
          508.164,
          508.164,
          62.964,
          0
         ],
         "xaxis": "x",
         "yaxis": "y"
        }
       ],
       "layout": {
        "barmode": "relative",
        "legend": {
         "tracegroupgap": 0
        },
        "template": {
         "data": {
          "bar": [
           {
            "error_x": {
             "color": "#2a3f5f"
            },
            "error_y": {
             "color": "#2a3f5f"
            },
            "marker": {
             "line": {
              "color": "#E5ECF6",
              "width": 0.5
             },
             "pattern": {
              "fillmode": "overlay",
              "size": 10,
              "solidity": 0.2
             }
            },
            "type": "bar"
           }
          ],
          "barpolar": [
           {
            "marker": {
             "line": {
              "color": "#E5ECF6",
              "width": 0.5
             },
             "pattern": {
              "fillmode": "overlay",
              "size": 10,
              "solidity": 0.2
             }
            },
            "type": "barpolar"
           }
          ],
          "carpet": [
           {
            "aaxis": {
             "endlinecolor": "#2a3f5f",
             "gridcolor": "white",
             "linecolor": "white",
             "minorgridcolor": "white",
             "startlinecolor": "#2a3f5f"
            },
            "baxis": {
             "endlinecolor": "#2a3f5f",
             "gridcolor": "white",
             "linecolor": "white",
             "minorgridcolor": "white",
             "startlinecolor": "#2a3f5f"
            },
            "type": "carpet"
           }
          ],
          "choropleth": [
           {
            "colorbar": {
             "outlinewidth": 0,
             "ticks": ""
            },
            "type": "choropleth"
           }
          ],
          "contour": [
           {
            "colorbar": {
             "outlinewidth": 0,
             "ticks": ""
            },
            "colorscale": [
             [
              0,
              "#0d0887"
             ],
             [
              0.1111111111111111,
              "#46039f"
             ],
             [
              0.2222222222222222,
              "#7201a8"
             ],
             [
              0.3333333333333333,
              "#9c179e"
             ],
             [
              0.4444444444444444,
              "#bd3786"
             ],
             [
              0.5555555555555556,
              "#d8576b"
             ],
             [
              0.6666666666666666,
              "#ed7953"
             ],
             [
              0.7777777777777778,
              "#fb9f3a"
             ],
             [
              0.8888888888888888,
              "#fdca26"
             ],
             [
              1,
              "#f0f921"
             ]
            ],
            "type": "contour"
           }
          ],
          "contourcarpet": [
           {
            "colorbar": {
             "outlinewidth": 0,
             "ticks": ""
            },
            "type": "contourcarpet"
           }
          ],
          "heatmap": [
           {
            "colorbar": {
             "outlinewidth": 0,
             "ticks": ""
            },
            "colorscale": [
             [
              0,
              "#0d0887"
             ],
             [
              0.1111111111111111,
              "#46039f"
             ],
             [
              0.2222222222222222,
              "#7201a8"
             ],
             [
              0.3333333333333333,
              "#9c179e"
             ],
             [
              0.4444444444444444,
              "#bd3786"
             ],
             [
              0.5555555555555556,
              "#d8576b"
             ],
             [
              0.6666666666666666,
              "#ed7953"
             ],
             [
              0.7777777777777778,
              "#fb9f3a"
             ],
             [
              0.8888888888888888,
              "#fdca26"
             ],
             [
              1,
              "#f0f921"
             ]
            ],
            "type": "heatmap"
           }
          ],
          "heatmapgl": [
           {
            "colorbar": {
             "outlinewidth": 0,
             "ticks": ""
            },
            "colorscale": [
             [
              0,
              "#0d0887"
             ],
             [
              0.1111111111111111,
              "#46039f"
             ],
             [
              0.2222222222222222,
              "#7201a8"
             ],
             [
              0.3333333333333333,
              "#9c179e"
             ],
             [
              0.4444444444444444,
              "#bd3786"
             ],
             [
              0.5555555555555556,
              "#d8576b"
             ],
             [
              0.6666666666666666,
              "#ed7953"
             ],
             [
              0.7777777777777778,
              "#fb9f3a"
             ],
             [
              0.8888888888888888,
              "#fdca26"
             ],
             [
              1,
              "#f0f921"
             ]
            ],
            "type": "heatmapgl"
           }
          ],
          "histogram": [
           {
            "marker": {
             "pattern": {
              "fillmode": "overlay",
              "size": 10,
              "solidity": 0.2
             }
            },
            "type": "histogram"
           }
          ],
          "histogram2d": [
           {
            "colorbar": {
             "outlinewidth": 0,
             "ticks": ""
            },
            "colorscale": [
             [
              0,
              "#0d0887"
             ],
             [
              0.1111111111111111,
              "#46039f"
             ],
             [
              0.2222222222222222,
              "#7201a8"
             ],
             [
              0.3333333333333333,
              "#9c179e"
             ],
             [
              0.4444444444444444,
              "#bd3786"
             ],
             [
              0.5555555555555556,
              "#d8576b"
             ],
             [
              0.6666666666666666,
              "#ed7953"
             ],
             [
              0.7777777777777778,
              "#fb9f3a"
             ],
             [
              0.8888888888888888,
              "#fdca26"
             ],
             [
              1,
              "#f0f921"
             ]
            ],
            "type": "histogram2d"
           }
          ],
          "histogram2dcontour": [
           {
            "colorbar": {
             "outlinewidth": 0,
             "ticks": ""
            },
            "colorscale": [
             [
              0,
              "#0d0887"
             ],
             [
              0.1111111111111111,
              "#46039f"
             ],
             [
              0.2222222222222222,
              "#7201a8"
             ],
             [
              0.3333333333333333,
              "#9c179e"
             ],
             [
              0.4444444444444444,
              "#bd3786"
             ],
             [
              0.5555555555555556,
              "#d8576b"
             ],
             [
              0.6666666666666666,
              "#ed7953"
             ],
             [
              0.7777777777777778,
              "#fb9f3a"
             ],
             [
              0.8888888888888888,
              "#fdca26"
             ],
             [
              1,
              "#f0f921"
             ]
            ],
            "type": "histogram2dcontour"
           }
          ],
          "mesh3d": [
           {
            "colorbar": {
             "outlinewidth": 0,
             "ticks": ""
            },
            "type": "mesh3d"
           }
          ],
          "parcoords": [
           {
            "line": {
             "colorbar": {
              "outlinewidth": 0,
              "ticks": ""
             }
            },
            "type": "parcoords"
           }
          ],
          "pie": [
           {
            "automargin": true,
            "type": "pie"
           }
          ],
          "scatter": [
           {
            "fillpattern": {
             "fillmode": "overlay",
             "size": 10,
             "solidity": 0.2
            },
            "type": "scatter"
           }
          ],
          "scatter3d": [
           {
            "line": {
             "colorbar": {
              "outlinewidth": 0,
              "ticks": ""
             }
            },
            "marker": {
             "colorbar": {
              "outlinewidth": 0,
              "ticks": ""
             }
            },
            "type": "scatter3d"
           }
          ],
          "scattercarpet": [
           {
            "marker": {
             "colorbar": {
              "outlinewidth": 0,
              "ticks": ""
             }
            },
            "type": "scattercarpet"
           }
          ],
          "scattergeo": [
           {
            "marker": {
             "colorbar": {
              "outlinewidth": 0,
              "ticks": ""
             }
            },
            "type": "scattergeo"
           }
          ],
          "scattergl": [
           {
            "marker": {
             "colorbar": {
              "outlinewidth": 0,
              "ticks": ""
             }
            },
            "type": "scattergl"
           }
          ],
          "scattermapbox": [
           {
            "marker": {
             "colorbar": {
              "outlinewidth": 0,
              "ticks": ""
             }
            },
            "type": "scattermapbox"
           }
          ],
          "scatterpolar": [
           {
            "marker": {
             "colorbar": {
              "outlinewidth": 0,
              "ticks": ""
             }
            },
            "type": "scatterpolar"
           }
          ],
          "scatterpolargl": [
           {
            "marker": {
             "colorbar": {
              "outlinewidth": 0,
              "ticks": ""
             }
            },
            "type": "scatterpolargl"
           }
          ],
          "scatterternary": [
           {
            "marker": {
             "colorbar": {
              "outlinewidth": 0,
              "ticks": ""
             }
            },
            "type": "scatterternary"
           }
          ],
          "surface": [
           {
            "colorbar": {
             "outlinewidth": 0,
             "ticks": ""
            },
            "colorscale": [
             [
              0,
              "#0d0887"
             ],
             [
              0.1111111111111111,
              "#46039f"
             ],
             [
              0.2222222222222222,
              "#7201a8"
             ],
             [
              0.3333333333333333,
              "#9c179e"
             ],
             [
              0.4444444444444444,
              "#bd3786"
             ],
             [
              0.5555555555555556,
              "#d8576b"
             ],
             [
              0.6666666666666666,
              "#ed7953"
             ],
             [
              0.7777777777777778,
              "#fb9f3a"
             ],
             [
              0.8888888888888888,
              "#fdca26"
             ],
             [
              1,
              "#f0f921"
             ]
            ],
            "type": "surface"
           }
          ],
          "table": [
           {
            "cells": {
             "fill": {
              "color": "#EBF0F8"
             },
             "line": {
              "color": "white"
             }
            },
            "header": {
             "fill": {
              "color": "#C8D4E3"
             },
             "line": {
              "color": "white"
             }
            },
            "type": "table"
           }
          ]
         },
         "layout": {
          "annotationdefaults": {
           "arrowcolor": "#2a3f5f",
           "arrowhead": 0,
           "arrowwidth": 1
          },
          "autotypenumbers": "strict",
          "coloraxis": {
           "colorbar": {
            "outlinewidth": 0,
            "ticks": ""
           }
          },
          "colorscale": {
           "diverging": [
            [
             0,
             "#8e0152"
            ],
            [
             0.1,
             "#c51b7d"
            ],
            [
             0.2,
             "#de77ae"
            ],
            [
             0.3,
             "#f1b6da"
            ],
            [
             0.4,
             "#fde0ef"
            ],
            [
             0.5,
             "#f7f7f7"
            ],
            [
             0.6,
             "#e6f5d0"
            ],
            [
             0.7,
             "#b8e186"
            ],
            [
             0.8,
             "#7fbc41"
            ],
            [
             0.9,
             "#4d9221"
            ],
            [
             1,
             "#276419"
            ]
           ],
           "sequential": [
            [
             0,
             "#0d0887"
            ],
            [
             0.1111111111111111,
             "#46039f"
            ],
            [
             0.2222222222222222,
             "#7201a8"
            ],
            [
             0.3333333333333333,
             "#9c179e"
            ],
            [
             0.4444444444444444,
             "#bd3786"
            ],
            [
             0.5555555555555556,
             "#d8576b"
            ],
            [
             0.6666666666666666,
             "#ed7953"
            ],
            [
             0.7777777777777778,
             "#fb9f3a"
            ],
            [
             0.8888888888888888,
             "#fdca26"
            ],
            [
             1,
             "#f0f921"
            ]
           ],
           "sequentialminus": [
            [
             0,
             "#0d0887"
            ],
            [
             0.1111111111111111,
             "#46039f"
            ],
            [
             0.2222222222222222,
             "#7201a8"
            ],
            [
             0.3333333333333333,
             "#9c179e"
            ],
            [
             0.4444444444444444,
             "#bd3786"
            ],
            [
             0.5555555555555556,
             "#d8576b"
            ],
            [
             0.6666666666666666,
             "#ed7953"
            ],
            [
             0.7777777777777778,
             "#fb9f3a"
            ],
            [
             0.8888888888888888,
             "#fdca26"
            ],
            [
             1,
             "#f0f921"
            ]
           ]
          },
          "colorway": [
           "#636efa",
           "#EF553B",
           "#00cc96",
           "#ab63fa",
           "#FFA15A",
           "#19d3f3",
           "#FF6692",
           "#B6E880",
           "#FF97FF",
           "#FECB52"
          ],
          "font": {
           "color": "#2a3f5f"
          },
          "geo": {
           "bgcolor": "white",
           "lakecolor": "white",
           "landcolor": "#E5ECF6",
           "showlakes": true,
           "showland": true,
           "subunitcolor": "white"
          },
          "hoverlabel": {
           "align": "left"
          },
          "hovermode": "closest",
          "mapbox": {
           "style": "light"
          },
          "paper_bgcolor": "white",
          "plot_bgcolor": "#E5ECF6",
          "polar": {
           "angularaxis": {
            "gridcolor": "white",
            "linecolor": "white",
            "ticks": ""
           },
           "bgcolor": "#E5ECF6",
           "radialaxis": {
            "gridcolor": "white",
            "linecolor": "white",
            "ticks": ""
           }
          },
          "scene": {
           "xaxis": {
            "backgroundcolor": "#E5ECF6",
            "gridcolor": "white",
            "gridwidth": 2,
            "linecolor": "white",
            "showbackground": true,
            "ticks": "",
            "zerolinecolor": "white"
           },
           "yaxis": {
            "backgroundcolor": "#E5ECF6",
            "gridcolor": "white",
            "gridwidth": 2,
            "linecolor": "white",
            "showbackground": true,
            "ticks": "",
            "zerolinecolor": "white"
           },
           "zaxis": {
            "backgroundcolor": "#E5ECF6",
            "gridcolor": "white",
            "gridwidth": 2,
            "linecolor": "white",
            "showbackground": true,
            "ticks": "",
            "zerolinecolor": "white"
           }
          },
          "shapedefaults": {
           "line": {
            "color": "#2a3f5f"
           }
          },
          "ternary": {
           "aaxis": {
            "gridcolor": "white",
            "linecolor": "white",
            "ticks": ""
           },
           "baxis": {
            "gridcolor": "white",
            "linecolor": "white",
            "ticks": ""
           },
           "bgcolor": "#E5ECF6",
           "caxis": {
            "gridcolor": "white",
            "linecolor": "white",
            "ticks": ""
           }
          },
          "title": {
           "x": 0.05
          },
          "xaxis": {
           "automargin": true,
           "gridcolor": "white",
           "linecolor": "white",
           "ticks": "",
           "title": {
            "standoff": 15
           },
           "zerolinecolor": "white",
           "zerolinewidth": 2
          },
          "yaxis": {
           "automargin": true,
           "gridcolor": "white",
           "linecolor": "white",
           "ticks": "",
           "title": {
            "standoff": 15
           },
           "zerolinecolor": "white",
           "zerolinewidth": 2
          }
         }
        },
        "title": {
         "text": "Histogram of Publisher Revenue"
        },
        "xaxis": {
         "anchor": "y",
         "domain": [
          0,
          1
         ],
         "title": {
          "text": "publisher revenue"
         }
        },
        "yaxis": {
         "anchor": "x",
         "domain": [
          0,
          1
         ],
         "title": {
          "text": "count"
         }
        }
       }
      }
     },
     "metadata": {},
     "output_type": "display_data"
    },
    {
     "data": {
      "application/vnd.plotly.v1+json": {
       "config": {
        "plotlyServerURL": "https://plot.ly"
       },
       "data": [
        {
         "alignmentgroup": "True",
         "hovertemplate": "publisher revenue=%{x}<extra></extra>",
         "legendgroup": "",
         "marker": {
          "color": "#636efa"
         },
         "name": "",
         "notched": false,
         "offsetgroup": "",
         "orientation": "h",
         "showlegend": false,
         "type": "box",
         "x": [
          20496,
          7462.5,
          28677,
          24750,
          22771.5,
          0,
          16495.002,
          15709.2,
          15656.202,
          14275.404,
          0,
          12938.4,
          0,
          4138.404,
          13078.692,
          0,
          0,
          0,
          3740.802,
          0,
          0,
          0,
          0,
          0,
          16142.436,
          0,
          5745.6,
          0,
          0,
          0,
          7906.8,
          1227.204,
          0,
          1178.496,
          0,
          0,
          12185.73,
          0,
          0,
          2222.034,
          6634.524,
          7675.02,
          0,
          2149.2,
          1059.696,
          6357.786,
          9034.962,
          1032.372,
          1023.462,
          0,
          1005.048,
          0,
          2979.834,
          977.724,
          10669.98,
          0,
          11036.91,
          6230.4,
          0,
          0,
          0,
          0,
          0,
          8047.848,
          0,
          6932.124,
          0,
          5934.51,
          3147.216,
          3495.984,
          1634.586,
          0,
          0,
          785.862,
          3560.268,
          5089.458,
          3868.248,
          1523.544,
          0,
          0,
          1450.71,
          0,
          0,
          1413.696,
          694.386,
          694.386,
          0,
          3362.262,
          1321.758,
          4189.944,
          4131.534,
          621.324,
          0,
          0,
          4159.47,
          0,
          3041.28,
          1317.12,
          4387.5,
          0,
          6134.4,
          0,
          2814.36,
          2238.39,
          3588,
          543.51,
          4655.52,
          0,
          537.57,
          0,
          3504.6,
          6438.63,
          0,
          1062.66,
          0,
          3915,
          0,
          4122.84,
          504.9,
          6078.93,
          4026.96,
          0,
          985.05,
          3418.11,
          0,
          5143.95,
          0,
          475.2,
          0,
          943.26,
          5647.29,
          0,
          4961.55,
          907.44,
          0,
          0,
          0,
          2230.53,
          1771.56,
          0,
          0,
          3266.85,
          0,
          0,
          418.77,
          3355.8,
          811.92,
          400.95,
          2206.98,
          395.01,
          4688.64,
          0,
          5891.07,
          0,
          0,
          0,
          2684.16,
          3398.22,
          0,
          362.34,
          0,
          0,
          0,
          2138.43,
          704.46,
          3120.39,
          0,
          0,
          0,
          2660.67,
          326.7,
          0,
          0,
          959.79,
          314.82,
          614.91,
          0,
          1208.97,
          3259.908,
          0,
          1467.06,
          289.872,
          1563.552,
          1234.548,
          0,
          285.12,
          0,
          3151.932,
          0,
          1425.144,
          0,
          282.15,
          0,
          0,
          0,
          276.21,
          273.24,
          0,
          0,
          3000.27,
          1350.294,
          2875.5,
          2862.72,
          266.112,
          794.742,
          5286.708,
          1305.384,
          0,
          3115.002,
          1556.202,
          256.014,
          255.42,
          3064.644,
          2292.732,
          252.45,
          0,
          2683.8,
          248.292,
          0,
          1242.51,
          1522.74,
          0,
          1011.024,
          1215.564,
          1351.08,
          604.5,
          2562.39,
          1908.012,
          235.224,
          235.224,
          232.254,
          1635.66,
          692.484,
          459.69,
          0,
          1808.226,
          681.72,
          1131.732,
          674.544,
          0,
          1122.75,
          0,
          669.162,
          0,
          660.192,
          0,
          2450.61,
          0,
          651.222,
          214.434,
          647.634,
          2343.468,
          638.664,
          208.494,
          0,
          0,
          618.93,
          0,
          0,
          611.754,
          2323.56,
          0,
          0,
          399.99,
          1572.432,
          1725.192,
          0,
          1655.55,
          967.062,
          1481.094,
          0,
          0,
          1226.61,
          1124.922,
          184.734,
          0,
          370.14,
          1476.552,
          1291.752,
          6196.38,
          0,
          892.212,
          0,
          0,
          531.024,
          1063.77,
          0,
          0,
          172.854,
          2216.76,
          689.472,
          1024.29,
          0,
          1242.936,
          847.302,
          2190.114,
          658.35,
          1570.842,
          0,
          0,
          0,
          0,
          1031.91,
          1126.692,
          0,
          0,
          462.852,
          916.47,
          0,
          598.5,
          147.906,
          446.706,
          981.558,
          0,
          444.912,
          0,
          684.684,
          146.718,
          736.524,
          0,
          586.53,
          1019.142,
          435.942,
          896.67,
          0,
          721.554,
          1539.99,
          718.56,
          141.966,
          0,
          926.772,
          851.778,
          0,
          709.578,
          0,
          1131.384,
          985.59,
          560.196,
          278.202,
          277.008,
          0,
          1476.09,
          412.62,
          1505.58,
          0,
          0,
          0,
          3541.752,
          881.214,
          134.244,
          713.256,
          538.65,
          0,
          764.736,
          0,
          1069.062,
          997.668,
          396.474,
          262.68,
          2373.36,
          1240.416,
          787.086,
          260.292,
          1306.692,
          128.898,
          1386.63,
          0,
          1030.71,
          385.71,
          0,
          509.922,
          254.322,
          637.722,
          1016.328,
          648.192,
          0,
          1204.56,
          0,
          124.146,
          0,
          0,
          747.552,
          0,
          1474.77,
          973.182,
          1021.902,
          0,
          0,
          360.594,
          119.394,
          239.994,
          300,
          0,
          0,
          117.612,
          0,
          635.916,
          0,
          0,
          888.03,
          349.83,
          115.236,
          0,
          0,
          1035.648,
          881.274,
          0,
          0,
          339.066,
          0,
          0,
          0,
          110.484,
          668.484,
          330.096,
          0,
          326.508,
          745.836,
          1035.72,
          106.326,
          1368.276,
          0,
          745.464,
          105.138,
          0,
          421.344,
          738.144,
          0,
          0,
          729.756,
          1105.47,
          206.562,
          0,
          310.362,
          102.168,
          0,
          0,
          1127.574,
          665.874,
          388.854,
          0,
          304.98,
          0,
          0,
          1012.986,
          810.186,
          404.586,
          100.386,
          1291.836,
          776.724,
          1106.274,
          805.392,
          0,
          775.152,
          1191.378,
          499.998,
          1101.198,
          691.224,
          0,
          0,
          692.01,
          494.01,
          98.01,
          1054.35,
          0,
          1047.96,
          97.416,
          0,
          97.416,
          194.622,
          488.022,
          882.156,
          96.822,
          193.428,
          193.428,
          96.228,
          192.234,
          385.434,
          369.012,
          287.04,
          863.04,
          0,
          0,
          959.04,
          0,
          0,
          0,
          380.646,
          188.652,
          681.612,
          283.452,
          852.252,
          0,
          884.538,
          0,
          401.544,
          1263.87,
          0,
          738.276,
          0,
          0,
          0,
          700.392,
          0,
          90.882,
          0,
          705.942,
          971.28,
          666.672,
          546.288,
          0,
          90.6,
          396.828,
          905.094,
          675,
          0,
          356.706,
          356.706,
          893.106,
          0,
          856.452,
          686.424,
          0,
          0,
          87.318,
          1198.638,
          0,
          0,
          263.718,
          644.742,
          405.588,
          0,
          658.752,
          699.924,
          0,
          399.33,
          0,
          594.21,
          869.13,
          680.832,
          0,
          857.142,
          0,
          936.348,
          581.916,
          0,
          83.754,
          618.426,
          0,
          0,
          251.16,
          839.16,
          0,
          0,
          0,
          435.528,
          909.972,
          574.632,
          501.84,
          0,
          0,
          0,
          0,
          485.19,
          524.208,
          714.756,
          0,
          238.602,
          0,
          0,
          236.808,
          0,
          0,
          78.408,
          196.416,
          0,
          156.414,
          837.09,
          77.814,
          156.414,
          295.62,
          155.22,
          993.72,
          0,
          0,
          76.626,
          0,
          0,
          531.456,
          532.992,
          882.432,
          472.32,
          76.032,
          691.968,
          505.968,
          837.438,
          75.438,
          0,
          0,
          0,
          719.25,
          676.5,
          73.656,
          0,
          73.062,
          73.062,
          584.868,
          72.468,
          658.068,
          580.074,
          558.294,
          71.874,
          402.93,
          0,
          71.28,
          71.28,
          70.686,
          547.638,
          0,
          0,
          427.686,
          70.686,
          142.086,
          427.686,
          0,
          0,
          0,
          713.286,
          213.486,
          0,
          0,
          70.686,
          470.526,
          70.686,
          70.686,
          549.066,
          0,
          384.132,
          784.686,
          70.686,
          0,
          0,
          613.326,
          0,
          213.486,
          570.486,
          214.524,
          0,
          70.092,
          517.548,
          211.692,
          636.492,
          0,
          0,
          792.252,
          456.66,
          392.94,
          70.092,
          70.092,
          494.892,
          636.492,
          424.092,
          301.608,
          678.972,
          140.892,
          0,
          1008.192,
          676.848,
          523.212,
          282.492,
          494.892,
          0,
          0,
          0,
          140.892,
          140.892,
          435.42,
          0,
          560.898,
          209.898,
          209.898,
          0,
          139.698,
          139.698,
          513.162,
          911.898,
          0,
          420.498,
          0,
          1013.688,
          209.898,
          350.298,
          702,
          841.698,
          0,
          0,
          650.754,
          139.698,
          0,
          0,
          834.678,
          139.698,
          0,
          350.298,
          0,
          374.448,
          0,
          535.224,
          0,
          0,
          68.904,
          695.304,
          277.704,
          138.504,
          277.704,
          0,
          462.144,
          68.904,
          416.904,
          68.904,
          68.904,
          0,
          486.504,
          0,
          0,
          68.904,
          0,
          625.704,
          625.008,
          904.104,
          470.496,
          0,
          695.304,
          556.104,
          0,
          820.41,
          0,
          0,
          620.31,
          0,
          0,
          0,
          206.31,
          0,
          0,
          0,
          206.31,
          0,
          482.31,
          558.21,
          68.31,
          344.31,
          761.76,
          530.61,
          68.31,
          344.31,
          344.31,
          0,
          0,
          546.516,
          820.116,
          820.116,
          204.516,
          0,
          0,
          546.516,
          67.716,
          525.996,
          0,
          341.316,
          0,
          67.716,
          136.116,
          525.996,
          204.516,
          820.116,
          0,
          341.316,
          272.916,
          204.516,
          0,
          506.844,
          0,
          467.172,
          546.516,
          0,
          0,
          448.02,
          732.24,
          258.996,
          0,
          677.322,
          0,
          0,
          745.122,
          67.122,
          270.522,
          833.262,
          67.122,
          67.122,
          0,
          796.65,
          469.176,
          270.522,
          582.402,
          609.522,
          507.822,
          473.922,
          67.122,
          134.922,
          67.122,
          134.922,
          595.284,
          169.5,
          66.528,
          503.328,
          0,
          0,
          200.928,
          200.928,
          0,
          536.928,
          0,
          402.528,
          0,
          536.928,
          505.344,
          0,
          795.648,
          0,
          0,
          66.528,
          738.528,
          335.328,
          200.928,
          268.128,
          0,
          133.728,
          200.928,
          133.728,
          0,
          798.534,
          0,
          0,
          0,
          65.934,
          0,
          132.534,
          0,
          0,
          539.46,
          788.544,
          132.534,
          798.534,
          735.264,
          65.934,
          0,
          514.818,
          0,
          731.934,
          0,
          848.484,
          0,
          0,
          65.934,
          0,
          659.34,
          65.34,
          65.34,
          0,
          738.54,
          65.34,
          0,
          0,
          131.34,
          0,
          811.14,
          725.34,
          527.34,
          65.34,
          0,
          362.34,
          593.34,
          0,
          720.06,
          593.34,
          593.34,
          329.34,
          0,
          1120.68,
          250.14,
          0,
          296.34,
          384.78,
          653.346,
          130.146,
          260.946,
          696.51,
          0,
          64.746,
          0,
          901.212,
          64.746,
          0,
          130.146,
          576.174,
          359.046,
          195.546,
          0,
          195.546,
          372.126,
          0,
          0,
          0,
          0,
          0,
          0,
          326.346,
          0,
          0,
          0,
          0,
          0,
          388.152,
          582.552,
          0,
          64.152,
          995.976,
          0,
          0,
          0,
          712.152,
          690.12,
          0,
          796.392,
          0,
          0,
          309.744,
          128.952,
          83.592,
          449.064,
          64.152,
          388.152,
          712.152,
          0,
          64.152,
          0,
          323.352,
          647.352,
          0,
          0,
          0,
          193.752,
          0,
          512.958,
          551.478,
          63.558,
          256.158,
          763.338,
          0,
          0,
          769.758,
          384.558,
          512.958,
          256.158,
          243.318,
          194.526,
          448.758,
          570.738,
          0,
          317.79,
          0,
          0,
          493.698,
          689.508,
          384.558,
          0,
          0,
          286.2,
          953.364,
          0,
          441.384,
          508.164,
          800.724,
          496.716,
          353.616,
          0,
          635.364,
          190.164,
          0,
          489.084,
          508.164,
          0,
          62.964,
          508.164,
          508.164,
          62.964,
          0
         ],
         "x0": " ",
         "xaxis": "x",
         "y0": " ",
         "yaxis": "y"
        }
       ],
       "layout": {
        "boxmode": "group",
        "legend": {
         "tracegroupgap": 0
        },
        "template": {
         "data": {
          "bar": [
           {
            "error_x": {
             "color": "#2a3f5f"
            },
            "error_y": {
             "color": "#2a3f5f"
            },
            "marker": {
             "line": {
              "color": "#E5ECF6",
              "width": 0.5
             },
             "pattern": {
              "fillmode": "overlay",
              "size": 10,
              "solidity": 0.2
             }
            },
            "type": "bar"
           }
          ],
          "barpolar": [
           {
            "marker": {
             "line": {
              "color": "#E5ECF6",
              "width": 0.5
             },
             "pattern": {
              "fillmode": "overlay",
              "size": 10,
              "solidity": 0.2
             }
            },
            "type": "barpolar"
           }
          ],
          "carpet": [
           {
            "aaxis": {
             "endlinecolor": "#2a3f5f",
             "gridcolor": "white",
             "linecolor": "white",
             "minorgridcolor": "white",
             "startlinecolor": "#2a3f5f"
            },
            "baxis": {
             "endlinecolor": "#2a3f5f",
             "gridcolor": "white",
             "linecolor": "white",
             "minorgridcolor": "white",
             "startlinecolor": "#2a3f5f"
            },
            "type": "carpet"
           }
          ],
          "choropleth": [
           {
            "colorbar": {
             "outlinewidth": 0,
             "ticks": ""
            },
            "type": "choropleth"
           }
          ],
          "contour": [
           {
            "colorbar": {
             "outlinewidth": 0,
             "ticks": ""
            },
            "colorscale": [
             [
              0,
              "#0d0887"
             ],
             [
              0.1111111111111111,
              "#46039f"
             ],
             [
              0.2222222222222222,
              "#7201a8"
             ],
             [
              0.3333333333333333,
              "#9c179e"
             ],
             [
              0.4444444444444444,
              "#bd3786"
             ],
             [
              0.5555555555555556,
              "#d8576b"
             ],
             [
              0.6666666666666666,
              "#ed7953"
             ],
             [
              0.7777777777777778,
              "#fb9f3a"
             ],
             [
              0.8888888888888888,
              "#fdca26"
             ],
             [
              1,
              "#f0f921"
             ]
            ],
            "type": "contour"
           }
          ],
          "contourcarpet": [
           {
            "colorbar": {
             "outlinewidth": 0,
             "ticks": ""
            },
            "type": "contourcarpet"
           }
          ],
          "heatmap": [
           {
            "colorbar": {
             "outlinewidth": 0,
             "ticks": ""
            },
            "colorscale": [
             [
              0,
              "#0d0887"
             ],
             [
              0.1111111111111111,
              "#46039f"
             ],
             [
              0.2222222222222222,
              "#7201a8"
             ],
             [
              0.3333333333333333,
              "#9c179e"
             ],
             [
              0.4444444444444444,
              "#bd3786"
             ],
             [
              0.5555555555555556,
              "#d8576b"
             ],
             [
              0.6666666666666666,
              "#ed7953"
             ],
             [
              0.7777777777777778,
              "#fb9f3a"
             ],
             [
              0.8888888888888888,
              "#fdca26"
             ],
             [
              1,
              "#f0f921"
             ]
            ],
            "type": "heatmap"
           }
          ],
          "heatmapgl": [
           {
            "colorbar": {
             "outlinewidth": 0,
             "ticks": ""
            },
            "colorscale": [
             [
              0,
              "#0d0887"
             ],
             [
              0.1111111111111111,
              "#46039f"
             ],
             [
              0.2222222222222222,
              "#7201a8"
             ],
             [
              0.3333333333333333,
              "#9c179e"
             ],
             [
              0.4444444444444444,
              "#bd3786"
             ],
             [
              0.5555555555555556,
              "#d8576b"
             ],
             [
              0.6666666666666666,
              "#ed7953"
             ],
             [
              0.7777777777777778,
              "#fb9f3a"
             ],
             [
              0.8888888888888888,
              "#fdca26"
             ],
             [
              1,
              "#f0f921"
             ]
            ],
            "type": "heatmapgl"
           }
          ],
          "histogram": [
           {
            "marker": {
             "pattern": {
              "fillmode": "overlay",
              "size": 10,
              "solidity": 0.2
             }
            },
            "type": "histogram"
           }
          ],
          "histogram2d": [
           {
            "colorbar": {
             "outlinewidth": 0,
             "ticks": ""
            },
            "colorscale": [
             [
              0,
              "#0d0887"
             ],
             [
              0.1111111111111111,
              "#46039f"
             ],
             [
              0.2222222222222222,
              "#7201a8"
             ],
             [
              0.3333333333333333,
              "#9c179e"
             ],
             [
              0.4444444444444444,
              "#bd3786"
             ],
             [
              0.5555555555555556,
              "#d8576b"
             ],
             [
              0.6666666666666666,
              "#ed7953"
             ],
             [
              0.7777777777777778,
              "#fb9f3a"
             ],
             [
              0.8888888888888888,
              "#fdca26"
             ],
             [
              1,
              "#f0f921"
             ]
            ],
            "type": "histogram2d"
           }
          ],
          "histogram2dcontour": [
           {
            "colorbar": {
             "outlinewidth": 0,
             "ticks": ""
            },
            "colorscale": [
             [
              0,
              "#0d0887"
             ],
             [
              0.1111111111111111,
              "#46039f"
             ],
             [
              0.2222222222222222,
              "#7201a8"
             ],
             [
              0.3333333333333333,
              "#9c179e"
             ],
             [
              0.4444444444444444,
              "#bd3786"
             ],
             [
              0.5555555555555556,
              "#d8576b"
             ],
             [
              0.6666666666666666,
              "#ed7953"
             ],
             [
              0.7777777777777778,
              "#fb9f3a"
             ],
             [
              0.8888888888888888,
              "#fdca26"
             ],
             [
              1,
              "#f0f921"
             ]
            ],
            "type": "histogram2dcontour"
           }
          ],
          "mesh3d": [
           {
            "colorbar": {
             "outlinewidth": 0,
             "ticks": ""
            },
            "type": "mesh3d"
           }
          ],
          "parcoords": [
           {
            "line": {
             "colorbar": {
              "outlinewidth": 0,
              "ticks": ""
             }
            },
            "type": "parcoords"
           }
          ],
          "pie": [
           {
            "automargin": true,
            "type": "pie"
           }
          ],
          "scatter": [
           {
            "fillpattern": {
             "fillmode": "overlay",
             "size": 10,
             "solidity": 0.2
            },
            "type": "scatter"
           }
          ],
          "scatter3d": [
           {
            "line": {
             "colorbar": {
              "outlinewidth": 0,
              "ticks": ""
             }
            },
            "marker": {
             "colorbar": {
              "outlinewidth": 0,
              "ticks": ""
             }
            },
            "type": "scatter3d"
           }
          ],
          "scattercarpet": [
           {
            "marker": {
             "colorbar": {
              "outlinewidth": 0,
              "ticks": ""
             }
            },
            "type": "scattercarpet"
           }
          ],
          "scattergeo": [
           {
            "marker": {
             "colorbar": {
              "outlinewidth": 0,
              "ticks": ""
             }
            },
            "type": "scattergeo"
           }
          ],
          "scattergl": [
           {
            "marker": {
             "colorbar": {
              "outlinewidth": 0,
              "ticks": ""
             }
            },
            "type": "scattergl"
           }
          ],
          "scattermapbox": [
           {
            "marker": {
             "colorbar": {
              "outlinewidth": 0,
              "ticks": ""
             }
            },
            "type": "scattermapbox"
           }
          ],
          "scatterpolar": [
           {
            "marker": {
             "colorbar": {
              "outlinewidth": 0,
              "ticks": ""
             }
            },
            "type": "scatterpolar"
           }
          ],
          "scatterpolargl": [
           {
            "marker": {
             "colorbar": {
              "outlinewidth": 0,
              "ticks": ""
             }
            },
            "type": "scatterpolargl"
           }
          ],
          "scatterternary": [
           {
            "marker": {
             "colorbar": {
              "outlinewidth": 0,
              "ticks": ""
             }
            },
            "type": "scatterternary"
           }
          ],
          "surface": [
           {
            "colorbar": {
             "outlinewidth": 0,
             "ticks": ""
            },
            "colorscale": [
             [
              0,
              "#0d0887"
             ],
             [
              0.1111111111111111,
              "#46039f"
             ],
             [
              0.2222222222222222,
              "#7201a8"
             ],
             [
              0.3333333333333333,
              "#9c179e"
             ],
             [
              0.4444444444444444,
              "#bd3786"
             ],
             [
              0.5555555555555556,
              "#d8576b"
             ],
             [
              0.6666666666666666,
              "#ed7953"
             ],
             [
              0.7777777777777778,
              "#fb9f3a"
             ],
             [
              0.8888888888888888,
              "#fdca26"
             ],
             [
              1,
              "#f0f921"
             ]
            ],
            "type": "surface"
           }
          ],
          "table": [
           {
            "cells": {
             "fill": {
              "color": "#EBF0F8"
             },
             "line": {
              "color": "white"
             }
            },
            "header": {
             "fill": {
              "color": "#C8D4E3"
             },
             "line": {
              "color": "white"
             }
            },
            "type": "table"
           }
          ]
         },
         "layout": {
          "annotationdefaults": {
           "arrowcolor": "#2a3f5f",
           "arrowhead": 0,
           "arrowwidth": 1
          },
          "autotypenumbers": "strict",
          "coloraxis": {
           "colorbar": {
            "outlinewidth": 0,
            "ticks": ""
           }
          },
          "colorscale": {
           "diverging": [
            [
             0,
             "#8e0152"
            ],
            [
             0.1,
             "#c51b7d"
            ],
            [
             0.2,
             "#de77ae"
            ],
            [
             0.3,
             "#f1b6da"
            ],
            [
             0.4,
             "#fde0ef"
            ],
            [
             0.5,
             "#f7f7f7"
            ],
            [
             0.6,
             "#e6f5d0"
            ],
            [
             0.7,
             "#b8e186"
            ],
            [
             0.8,
             "#7fbc41"
            ],
            [
             0.9,
             "#4d9221"
            ],
            [
             1,
             "#276419"
            ]
           ],
           "sequential": [
            [
             0,
             "#0d0887"
            ],
            [
             0.1111111111111111,
             "#46039f"
            ],
            [
             0.2222222222222222,
             "#7201a8"
            ],
            [
             0.3333333333333333,
             "#9c179e"
            ],
            [
             0.4444444444444444,
             "#bd3786"
            ],
            [
             0.5555555555555556,
             "#d8576b"
            ],
            [
             0.6666666666666666,
             "#ed7953"
            ],
            [
             0.7777777777777778,
             "#fb9f3a"
            ],
            [
             0.8888888888888888,
             "#fdca26"
            ],
            [
             1,
             "#f0f921"
            ]
           ],
           "sequentialminus": [
            [
             0,
             "#0d0887"
            ],
            [
             0.1111111111111111,
             "#46039f"
            ],
            [
             0.2222222222222222,
             "#7201a8"
            ],
            [
             0.3333333333333333,
             "#9c179e"
            ],
            [
             0.4444444444444444,
             "#bd3786"
            ],
            [
             0.5555555555555556,
             "#d8576b"
            ],
            [
             0.6666666666666666,
             "#ed7953"
            ],
            [
             0.7777777777777778,
             "#fb9f3a"
            ],
            [
             0.8888888888888888,
             "#fdca26"
            ],
            [
             1,
             "#f0f921"
            ]
           ]
          },
          "colorway": [
           "#636efa",
           "#EF553B",
           "#00cc96",
           "#ab63fa",
           "#FFA15A",
           "#19d3f3",
           "#FF6692",
           "#B6E880",
           "#FF97FF",
           "#FECB52"
          ],
          "font": {
           "color": "#2a3f5f"
          },
          "geo": {
           "bgcolor": "white",
           "lakecolor": "white",
           "landcolor": "#E5ECF6",
           "showlakes": true,
           "showland": true,
           "subunitcolor": "white"
          },
          "hoverlabel": {
           "align": "left"
          },
          "hovermode": "closest",
          "mapbox": {
           "style": "light"
          },
          "paper_bgcolor": "white",
          "plot_bgcolor": "#E5ECF6",
          "polar": {
           "angularaxis": {
            "gridcolor": "white",
            "linecolor": "white",
            "ticks": ""
           },
           "bgcolor": "#E5ECF6",
           "radialaxis": {
            "gridcolor": "white",
            "linecolor": "white",
            "ticks": ""
           }
          },
          "scene": {
           "xaxis": {
            "backgroundcolor": "#E5ECF6",
            "gridcolor": "white",
            "gridwidth": 2,
            "linecolor": "white",
            "showbackground": true,
            "ticks": "",
            "zerolinecolor": "white"
           },
           "yaxis": {
            "backgroundcolor": "#E5ECF6",
            "gridcolor": "white",
            "gridwidth": 2,
            "linecolor": "white",
            "showbackground": true,
            "ticks": "",
            "zerolinecolor": "white"
           },
           "zaxis": {
            "backgroundcolor": "#E5ECF6",
            "gridcolor": "white",
            "gridwidth": 2,
            "linecolor": "white",
            "showbackground": true,
            "ticks": "",
            "zerolinecolor": "white"
           }
          },
          "shapedefaults": {
           "line": {
            "color": "#2a3f5f"
           }
          },
          "ternary": {
           "aaxis": {
            "gridcolor": "white",
            "linecolor": "white",
            "ticks": ""
           },
           "baxis": {
            "gridcolor": "white",
            "linecolor": "white",
            "ticks": ""
           },
           "bgcolor": "#E5ECF6",
           "caxis": {
            "gridcolor": "white",
            "linecolor": "white",
            "ticks": ""
           }
          },
          "title": {
           "x": 0.05
          },
          "xaxis": {
           "automargin": true,
           "gridcolor": "white",
           "linecolor": "white",
           "ticks": "",
           "title": {
            "standoff": 15
           },
           "zerolinecolor": "white",
           "zerolinewidth": 2
          },
          "yaxis": {
           "automargin": true,
           "gridcolor": "white",
           "linecolor": "white",
           "ticks": "",
           "title": {
            "standoff": 15
           },
           "zerolinecolor": "white",
           "zerolinewidth": 2
          }
         }
        },
        "title": {
         "text": "Boxplot of Publisher Revenue"
        },
        "xaxis": {
         "anchor": "y",
         "domain": [
          0,
          1
         ],
         "title": {
          "text": "publisher revenue"
         }
        },
        "yaxis": {
         "anchor": "x",
         "domain": [
          0,
          1
         ]
        }
       }
      }
     },
     "metadata": {},
     "output_type": "display_data"
    }
   ],
   "source": [
    "# publisher revenue \n",
    "# skewed to the right\n",
    "\n",
    "fig = px.histogram(data, x='publisher revenue', title='Histogram of Publisher Revenue')\n",
    "fig.show()\n",
    "\n",
    "fig = px.box(data, x='publisher revenue', title='Boxplot of Publisher Revenue')\n",
    "fig.show()"
   ]
  },
  {
   "cell_type": "code",
   "execution_count": 60,
   "metadata": {},
   "outputs": [
    {
     "data": {
      "application/vnd.plotly.v1+json": {
       "config": {
        "plotlyServerURL": "https://plot.ly"
       },
       "data": [
        {
         "alignmentgroup": "True",
         "bingroup": "x",
         "hovertemplate": "sale price=%{x}<br>count=%{y}<extra></extra>",
         "legendgroup": "",
         "marker": {
          "color": "#636efa",
          "pattern": {
           "shape": ""
          }
         },
         "name": "",
         "offsetgroup": "",
         "orientation": "v",
         "showlegend": false,
         "type": "histogram",
         "x": [
          4.88,
          1.99,
          8.69,
          7.5,
          7.99,
          4.99,
          6.99,
          6.89,
          6.99,
          6.49,
          4.99,
          5.99,
          0.99,
          1.99,
          6.54,
          4.99,
          4.99,
          4.99,
          1.99,
          0.99,
          3.99,
          2.99,
          2.99,
          2.99,
          10.91,
          0.99,
          3.99,
          3.99,
          1.99,
          0.99,
          5.99,
          0.99,
          0.99,
          0.99,
          0.99,
          0.99,
          10.65,
          0.99,
          3.99,
          1.99,
          5.99,
          6.99,
          4.99,
          1.99,
          0.99,
          5.99,
          8.59,
          0.99,
          0.99,
          4.99,
          0.99,
          3.99,
          2.99,
          0.99,
          10.91,
          0.99,
          11.39,
          6.49,
          3.99,
          3,
          0.99,
          3.89,
          7.99,
          8.99,
          1.99,
          7.99,
          3.99,
          6.99,
          3.79,
          4.21,
          1.99,
          4.99,
          4.99,
          0.99,
          4.54,
          6.49,
          4.99,
          1.99,
          3.99,
          0.99,
          1.99,
          0.99,
          1.99,
          1.99,
          0.99,
          0.99,
          0.99,
          4.99,
          1.99,
          6.49,
          6.49,
          0.99,
          0.99,
          5.99,
          6.83,
          0.99,
          5.12,
          2.24,
          7.5,
          0.99,
          10.65,
          1.99,
          4.99,
          3.99,
          6.5,
          0.99,
          8.48,
          0.99,
          0.99,
          0.99,
          6.49,
          11.99,
          2.99,
          1.99,
          3.99,
          7.5,
          3.99,
          7.99,
          0.99,
          11.99,
          7.99,
          0.99,
          1.99,
          6.99,
          2.99,
          10.65,
          3.99,
          0.99,
          3.99,
          1.99,
          11.99,
          3.99,
          10.67,
          1.99,
          3.99,
          4.99,
          3.99,
          4.99,
          3.99,
          0.99,
          4.99,
          7.51,
          0.99,
          0.99,
          0.99,
          7.99,
          1.99,
          0.99,
          5.49,
          0.99,
          11.84,
          0.99,
          14.99,
          4.99,
          2.99,
          4.99,
          6.99,
          8.99,
          0.99,
          0.99,
          2,
          0.99,
          5.95,
          5.99,
          1.99,
          8.89,
          0.99,
          1.99,
          2.99,
          7.99,
          0.99,
          0.99,
          3.99,
          2.99,
          0.99,
          1.99,
          2.99,
          3.99,
          10.91,
          2.99,
          4.99,
          0.99,
          5.34,
          4.26,
          0.99,
          0.99,
          2.99,
          10.99,
          2.99,
          4.99,
          0.99,
          0.99,
          2.99,
          0.99,
          2.99,
          0.99,
          0.99,
          0.99,
          7.99,
          10.99,
          4.99,
          10.65,
          10.65,
          0.99,
          2.99,
          19.98,
          4.99,
          0.99,
          11.99,
          5.99,
          0.99,
          0.99,
          11.99,
          8.97,
          0.99,
          3.99,
          10.65,
          0.99,
          0.99,
          4.99,
          6.19,
          2.99,
          4.13,
          4.99,
          5.56,
          2.5,
          10.65,
          7.99,
          0.99,
          0.99,
          0.99,
          6.99,
          2.99,
          1.99,
          1.99,
          7.91,
          2.99,
          4.99,
          2.99,
          0.99,
          4.99,
          3.99,
          2.99,
          0.99,
          2.99,
          2.99,
          11.19,
          4.99,
          2.99,
          0.99,
          2.99,
          10.91,
          2.99,
          0.99,
          0.99,
          0.99,
          2.99,
          2.99,
          2.99,
          2.99,
          11.39,
          4.99,
          4.99,
          1.99,
          7.99,
          8.82,
          3.99,
          8.49,
          4.99,
          7.69,
          2.99,
          4.99,
          6.49,
          5.99,
          0.99,
          0.99,
          1.99,
          7.99,
          6.99,
          33.86,
          1.99,
          4.99,
          2.99,
          3.99,
          2.99,
          6.01,
          0.99,
          0.99,
          0.99,
          12.74,
          3.99,
          5.99,
          1.5,
          7.32,
          4.99,
          12.99,
          3.99,
          9.59,
          0.99,
          0.99,
          0.99,
          3.75,
          6.49,
          7.14,
          3.99,
          2.99,
          2.99,
          5.99,
          3.99,
          3.99,
          0.99,
          2.99,
          6.57,
          12.99,
          2.99,
          2.99,
          4.62,
          0.99,
          4.99,
          3.99,
          3.99,
          6.99,
          2.99,
          6.15,
          3.99,
          4.99,
          10.65,
          4.99,
          0.99,
          3.99,
          6.49,
          5.99,
          1.99,
          4.99,
          2.99,
          7.99,
          6.99,
          3.99,
          1.99,
          1.99,
          3.99,
          10.65,
          2.99,
          10.91,
          0.99,
          4.99,
          3.99,
          25.89,
          6.47,
          0.99,
          5.26,
          3.99,
          0.99,
          5.69,
          4.99,
          7.99,
          7.49,
          2.99,
          1.99,
          17.98,
          9.44,
          5.99,
          1.99,
          9.99,
          0.99,
          10.65,
          4.99,
          7.99,
          2.99,
          5.99,
          3.99,
          1.99,
          4.99,
          7.99,
          5.12,
          2.99,
          9.56,
          3.99,
          0.99,
          2.99,
          0.99,
          5.99,
          4.99,
          11.99,
          7.99,
          8.39,
          2.99,
          2.99,
          2.99,
          0.99,
          1.99,
          2.5,
          9.49,
          2.99,
          0.99,
          3.99,
          5.38,
          0.99,
          2.99,
          7.59,
          2.99,
          0.99,
          0.99,
          3.99,
          8.99,
          7.69,
          4.99,
          1.99,
          2.99,
          3.99,
          0.99,
          0.99,
          0.99,
          5.99,
          2.99,
          0.99,
          2.99,
          6.83,
          9.59,
          0.99,
          12.74,
          0.99,
          6.98,
          0.99,
          1.99,
          3.99,
          6.99,
          2.99,
          4.99,
          6.99,
          10.65,
          1.99,
          0.99,
          2.99,
          0.99,
          1.99,
          5.99,
          10.99,
          6.49,
          3.79,
          1.99,
          2.99,
          3.99,
          4.99,
          9.99,
          7.99,
          3.99,
          0.99,
          12.74,
          7.66,
          10.91,
          7.99,
          0.99,
          7.69,
          11.89,
          4.99,
          10.99,
          6.94,
          0.99,
          7.39,
          6.99,
          4.99,
          0.99,
          10.65,
          0.99,
          10.65,
          0.99,
          0.99,
          0.99,
          1.99,
          4.99,
          9.02,
          0.99,
          1.99,
          1.99,
          0.99,
          1.99,
          3.99,
          3.82,
          2.99,
          8.99,
          2.99,
          2.99,
          9.99,
          2.99,
          0.99,
          2.99,
          3.99,
          1.99,
          7.19,
          2.99,
          8.99,
          2.99,
          9.39,
          0.99,
          4.29,
          13.59,
          3.99,
          7.99,
          3.99,
          2.99,
          4.99,
          7.58,
          3.99,
          0.99,
          0.99,
          7.69,
          10.65,
          7.31,
          5.99,
          0.99,
          1,
          4.38,
          9.99,
          7.5,
          3.99,
          3.99,
          3.99,
          9.99,
          3.99,
          9.58,
          7.73,
          0.99,
          2.99,
          0.99,
          13.59,
          0.99,
          2.99,
          2.99,
          7.31,
          4.63,
          3.99,
          7.52,
          7.99,
          0.99,
          4.59,
          4.99,
          6.83,
          9.99,
          7.88,
          3.99,
          9.99,
          4.99,
          10.99,
          6.83,
          3.99,
          0.99,
          7.31,
          3.99,
          3.99,
          2.99,
          9.99,
          4.99,
          0.99,
          4.99,
          5.26,
          10.99,
          6.94,
          6.15,
          9.01,
          3.99,
          0.99,
          3.99,
          5.99,
          6.52,
          8.89,
          3.99,
          2.99,
          2.99,
          2.99,
          2.99,
          5.99,
          3.99,
          0.99,
          2.48,
          2.99,
          1.99,
          10.65,
          0.99,
          1.99,
          3.79,
          1.99,
          12.74,
          3.99,
          0.99,
          0.99,
          0.99,
          0.99,
          6.92,
          6.94,
          11.49,
          6.15,
          0.99,
          9.01,
          6.64,
          10.99,
          0.99,
          3.99,
          3.99,
          0.99,
          9.59,
          9.02,
          0.99,
          2.99,
          0.99,
          0.99,
          7.99,
          0.99,
          8.99,
          7.99,
          7.69,
          0.99,
          5.55,
          0.99,
          0.99,
          0.99,
          0.99,
          7.67,
          2.99,
          0.99,
          5.99,
          0.99,
          1.99,
          5.99,
          3.99,
          2.99,
          2.99,
          9.99,
          2.99,
          0.99,
          4.99,
          0.99,
          6.59,
          0.99,
          0.99,
          7.69,
          2.99,
          5.38,
          10.99,
          0.99,
          4.99,
          2.99,
          8.59,
          0.99,
          2.99,
          7.99,
          3.03,
          2.99,
          0.99,
          7.31,
          2.99,
          8.99,
          2.99,
          0.99,
          11.19,
          6.45,
          5.55,
          0.99,
          0.99,
          6.99,
          8.99,
          5.99,
          4.26,
          9.59,
          1.99,
          4.99,
          14.24,
          9.56,
          7.39,
          3.99,
          6.99,
          2.99,
          3.99,
          4.99,
          1.99,
          1.99,
          6.15,
          3.99,
          7.99,
          2.99,
          2.99,
          0.99,
          1.99,
          1.99,
          7.31,
          12.99,
          3.99,
          5.99,
          0.99,
          14.44,
          2.99,
          4.99,
          10,
          11.99,
          0.99,
          2.99,
          9.27,
          1.99,
          3.99,
          2.99,
          11.89,
          1.99,
          2.99,
          4.99,
          0.99,
          5.38,
          5.99,
          7.69,
          2.99,
          3.99,
          0.99,
          9.99,
          3.99,
          1.99,
          3.99,
          5.99,
          6.64,
          0.99,
          5.99,
          0.99,
          0.99,
          0.99,
          6.99,
          2.99,
          0.99,
          0.99,
          3.99,
          8.99,
          8.98,
          12.99,
          6.76,
          2.99,
          9.99,
          7.99,
          3.99,
          11.89,
          4.99,
          2.99,
          8.99,
          2.99,
          2.99,
          4.99,
          2.99,
          3.99,
          3.99,
          2.99,
          2.99,
          3.99,
          6.99,
          8.09,
          0.99,
          4.99,
          11.04,
          7.69,
          0.99,
          4.99,
          4.99,
          0.99,
          2.99,
          7.99,
          11.99,
          11.99,
          2.99,
          4.99,
          0.99,
          7.99,
          0.99,
          7.69,
          1.99,
          4.99,
          4.99,
          0.99,
          1.99,
          7.69,
          2.99,
          11.99,
          3.49,
          4.99,
          3.99,
          2.99,
          3.03,
          7.41,
          2,
          6.83,
          7.99,
          3.99,
          3.99,
          6.55,
          10.8,
          3.82,
          4.99,
          9.99,
          3.99,
          3.99,
          10.99,
          0.99,
          3.99,
          12.29,
          0.99,
          0.99,
          0.99,
          11.75,
          6.92,
          3.99,
          8.59,
          8.99,
          7.49,
          6.99,
          0.99,
          1.99,
          0.99,
          1.99,
          8.78,
          2.5,
          0.99,
          7.49,
          2.99,
          5.99,
          2.99,
          2.99,
          0.99,
          7.99,
          2.99,
          5.99,
          3.99,
          7.99,
          7.52,
          2.99,
          11.84,
          3.99,
          4.99,
          0.99,
          10.99,
          4.99,
          2.99,
          3.99,
          5.99,
          1.99,
          2.99,
          1.99,
          2.99,
          11.99,
          0.99,
          2.99,
          2.99,
          0.99,
          0.99,
          1.99,
          2.99,
          2.99,
          8.1,
          11.84,
          1.99,
          11.99,
          11.04,
          0.99,
          0.99,
          7.73,
          3.99,
          10.99,
          2.99,
          12.74,
          2.99,
          2.99,
          0.99,
          4.99,
          9.99,
          0.99,
          0.99,
          3.99,
          11.19,
          0.99,
          3.99,
          0.99,
          1.99,
          3.99,
          12.29,
          10.99,
          7.99,
          0.99,
          2.99,
          5.49,
          8.99,
          3.99,
          10.91,
          8.99,
          8.99,
          4.99,
          0.99,
          16.98,
          3.79,
          4.99,
          4.49,
          5.83,
          9.99,
          1.99,
          3.99,
          10.65,
          0.99,
          0.99,
          4.99,
          13.78,
          0.99,
          2.99,
          1.99,
          8.81,
          5.49,
          2.99,
          2.99,
          2.99,
          5.69,
          3.99,
          2.99,
          0.99,
          2.99,
          3.99,
          3.99,
          4.99,
          4.99,
          0.99,
          0.99,
          6.99,
          4.99,
          5.99,
          8.99,
          0.99,
          0.99,
          15.37,
          3.82,
          3.99,
          3.99,
          10.99,
          10.65,
          3.99,
          12.29,
          2.99,
          2.99,
          4.78,
          1.99,
          1.29,
          6.93,
          0.99,
          5.99,
          10.99,
          4.99,
          0.99,
          3.99,
          4.99,
          9.99,
          1.99,
          3.99,
          2.99,
          2.99,
          0.99,
          7.99,
          8.59,
          0.99,
          3.99,
          11.89,
          5.99,
          2.99,
          11.99,
          5.99,
          7.99,
          3.99,
          3.79,
          3.03,
          6.99,
          8.89,
          2.99,
          4.95,
          3.99,
          0.99,
          7.69,
          10.74,
          5.99,
          2.99,
          0.99,
          4.5,
          14.99,
          2,
          6.94,
          7.99,
          12.59,
          7.81,
          5.56,
          2.99,
          9.99,
          2.99,
          0.99,
          7.69,
          7.99,
          2.99,
          0.99,
          7.99,
          7.99,
          0.99,
          2.99
         ],
         "xaxis": "x",
         "yaxis": "y"
        }
       ],
       "layout": {
        "barmode": "relative",
        "legend": {
         "tracegroupgap": 0
        },
        "template": {
         "data": {
          "bar": [
           {
            "error_x": {
             "color": "#2a3f5f"
            },
            "error_y": {
             "color": "#2a3f5f"
            },
            "marker": {
             "line": {
              "color": "#E5ECF6",
              "width": 0.5
             },
             "pattern": {
              "fillmode": "overlay",
              "size": 10,
              "solidity": 0.2
             }
            },
            "type": "bar"
           }
          ],
          "barpolar": [
           {
            "marker": {
             "line": {
              "color": "#E5ECF6",
              "width": 0.5
             },
             "pattern": {
              "fillmode": "overlay",
              "size": 10,
              "solidity": 0.2
             }
            },
            "type": "barpolar"
           }
          ],
          "carpet": [
           {
            "aaxis": {
             "endlinecolor": "#2a3f5f",
             "gridcolor": "white",
             "linecolor": "white",
             "minorgridcolor": "white",
             "startlinecolor": "#2a3f5f"
            },
            "baxis": {
             "endlinecolor": "#2a3f5f",
             "gridcolor": "white",
             "linecolor": "white",
             "minorgridcolor": "white",
             "startlinecolor": "#2a3f5f"
            },
            "type": "carpet"
           }
          ],
          "choropleth": [
           {
            "colorbar": {
             "outlinewidth": 0,
             "ticks": ""
            },
            "type": "choropleth"
           }
          ],
          "contour": [
           {
            "colorbar": {
             "outlinewidth": 0,
             "ticks": ""
            },
            "colorscale": [
             [
              0,
              "#0d0887"
             ],
             [
              0.1111111111111111,
              "#46039f"
             ],
             [
              0.2222222222222222,
              "#7201a8"
             ],
             [
              0.3333333333333333,
              "#9c179e"
             ],
             [
              0.4444444444444444,
              "#bd3786"
             ],
             [
              0.5555555555555556,
              "#d8576b"
             ],
             [
              0.6666666666666666,
              "#ed7953"
             ],
             [
              0.7777777777777778,
              "#fb9f3a"
             ],
             [
              0.8888888888888888,
              "#fdca26"
             ],
             [
              1,
              "#f0f921"
             ]
            ],
            "type": "contour"
           }
          ],
          "contourcarpet": [
           {
            "colorbar": {
             "outlinewidth": 0,
             "ticks": ""
            },
            "type": "contourcarpet"
           }
          ],
          "heatmap": [
           {
            "colorbar": {
             "outlinewidth": 0,
             "ticks": ""
            },
            "colorscale": [
             [
              0,
              "#0d0887"
             ],
             [
              0.1111111111111111,
              "#46039f"
             ],
             [
              0.2222222222222222,
              "#7201a8"
             ],
             [
              0.3333333333333333,
              "#9c179e"
             ],
             [
              0.4444444444444444,
              "#bd3786"
             ],
             [
              0.5555555555555556,
              "#d8576b"
             ],
             [
              0.6666666666666666,
              "#ed7953"
             ],
             [
              0.7777777777777778,
              "#fb9f3a"
             ],
             [
              0.8888888888888888,
              "#fdca26"
             ],
             [
              1,
              "#f0f921"
             ]
            ],
            "type": "heatmap"
           }
          ],
          "heatmapgl": [
           {
            "colorbar": {
             "outlinewidth": 0,
             "ticks": ""
            },
            "colorscale": [
             [
              0,
              "#0d0887"
             ],
             [
              0.1111111111111111,
              "#46039f"
             ],
             [
              0.2222222222222222,
              "#7201a8"
             ],
             [
              0.3333333333333333,
              "#9c179e"
             ],
             [
              0.4444444444444444,
              "#bd3786"
             ],
             [
              0.5555555555555556,
              "#d8576b"
             ],
             [
              0.6666666666666666,
              "#ed7953"
             ],
             [
              0.7777777777777778,
              "#fb9f3a"
             ],
             [
              0.8888888888888888,
              "#fdca26"
             ],
             [
              1,
              "#f0f921"
             ]
            ],
            "type": "heatmapgl"
           }
          ],
          "histogram": [
           {
            "marker": {
             "pattern": {
              "fillmode": "overlay",
              "size": 10,
              "solidity": 0.2
             }
            },
            "type": "histogram"
           }
          ],
          "histogram2d": [
           {
            "colorbar": {
             "outlinewidth": 0,
             "ticks": ""
            },
            "colorscale": [
             [
              0,
              "#0d0887"
             ],
             [
              0.1111111111111111,
              "#46039f"
             ],
             [
              0.2222222222222222,
              "#7201a8"
             ],
             [
              0.3333333333333333,
              "#9c179e"
             ],
             [
              0.4444444444444444,
              "#bd3786"
             ],
             [
              0.5555555555555556,
              "#d8576b"
             ],
             [
              0.6666666666666666,
              "#ed7953"
             ],
             [
              0.7777777777777778,
              "#fb9f3a"
             ],
             [
              0.8888888888888888,
              "#fdca26"
             ],
             [
              1,
              "#f0f921"
             ]
            ],
            "type": "histogram2d"
           }
          ],
          "histogram2dcontour": [
           {
            "colorbar": {
             "outlinewidth": 0,
             "ticks": ""
            },
            "colorscale": [
             [
              0,
              "#0d0887"
             ],
             [
              0.1111111111111111,
              "#46039f"
             ],
             [
              0.2222222222222222,
              "#7201a8"
             ],
             [
              0.3333333333333333,
              "#9c179e"
             ],
             [
              0.4444444444444444,
              "#bd3786"
             ],
             [
              0.5555555555555556,
              "#d8576b"
             ],
             [
              0.6666666666666666,
              "#ed7953"
             ],
             [
              0.7777777777777778,
              "#fb9f3a"
             ],
             [
              0.8888888888888888,
              "#fdca26"
             ],
             [
              1,
              "#f0f921"
             ]
            ],
            "type": "histogram2dcontour"
           }
          ],
          "mesh3d": [
           {
            "colorbar": {
             "outlinewidth": 0,
             "ticks": ""
            },
            "type": "mesh3d"
           }
          ],
          "parcoords": [
           {
            "line": {
             "colorbar": {
              "outlinewidth": 0,
              "ticks": ""
             }
            },
            "type": "parcoords"
           }
          ],
          "pie": [
           {
            "automargin": true,
            "type": "pie"
           }
          ],
          "scatter": [
           {
            "fillpattern": {
             "fillmode": "overlay",
             "size": 10,
             "solidity": 0.2
            },
            "type": "scatter"
           }
          ],
          "scatter3d": [
           {
            "line": {
             "colorbar": {
              "outlinewidth": 0,
              "ticks": ""
             }
            },
            "marker": {
             "colorbar": {
              "outlinewidth": 0,
              "ticks": ""
             }
            },
            "type": "scatter3d"
           }
          ],
          "scattercarpet": [
           {
            "marker": {
             "colorbar": {
              "outlinewidth": 0,
              "ticks": ""
             }
            },
            "type": "scattercarpet"
           }
          ],
          "scattergeo": [
           {
            "marker": {
             "colorbar": {
              "outlinewidth": 0,
              "ticks": ""
             }
            },
            "type": "scattergeo"
           }
          ],
          "scattergl": [
           {
            "marker": {
             "colorbar": {
              "outlinewidth": 0,
              "ticks": ""
             }
            },
            "type": "scattergl"
           }
          ],
          "scattermapbox": [
           {
            "marker": {
             "colorbar": {
              "outlinewidth": 0,
              "ticks": ""
             }
            },
            "type": "scattermapbox"
           }
          ],
          "scatterpolar": [
           {
            "marker": {
             "colorbar": {
              "outlinewidth": 0,
              "ticks": ""
             }
            },
            "type": "scatterpolar"
           }
          ],
          "scatterpolargl": [
           {
            "marker": {
             "colorbar": {
              "outlinewidth": 0,
              "ticks": ""
             }
            },
            "type": "scatterpolargl"
           }
          ],
          "scatterternary": [
           {
            "marker": {
             "colorbar": {
              "outlinewidth": 0,
              "ticks": ""
             }
            },
            "type": "scatterternary"
           }
          ],
          "surface": [
           {
            "colorbar": {
             "outlinewidth": 0,
             "ticks": ""
            },
            "colorscale": [
             [
              0,
              "#0d0887"
             ],
             [
              0.1111111111111111,
              "#46039f"
             ],
             [
              0.2222222222222222,
              "#7201a8"
             ],
             [
              0.3333333333333333,
              "#9c179e"
             ],
             [
              0.4444444444444444,
              "#bd3786"
             ],
             [
              0.5555555555555556,
              "#d8576b"
             ],
             [
              0.6666666666666666,
              "#ed7953"
             ],
             [
              0.7777777777777778,
              "#fb9f3a"
             ],
             [
              0.8888888888888888,
              "#fdca26"
             ],
             [
              1,
              "#f0f921"
             ]
            ],
            "type": "surface"
           }
          ],
          "table": [
           {
            "cells": {
             "fill": {
              "color": "#EBF0F8"
             },
             "line": {
              "color": "white"
             }
            },
            "header": {
             "fill": {
              "color": "#C8D4E3"
             },
             "line": {
              "color": "white"
             }
            },
            "type": "table"
           }
          ]
         },
         "layout": {
          "annotationdefaults": {
           "arrowcolor": "#2a3f5f",
           "arrowhead": 0,
           "arrowwidth": 1
          },
          "autotypenumbers": "strict",
          "coloraxis": {
           "colorbar": {
            "outlinewidth": 0,
            "ticks": ""
           }
          },
          "colorscale": {
           "diverging": [
            [
             0,
             "#8e0152"
            ],
            [
             0.1,
             "#c51b7d"
            ],
            [
             0.2,
             "#de77ae"
            ],
            [
             0.3,
             "#f1b6da"
            ],
            [
             0.4,
             "#fde0ef"
            ],
            [
             0.5,
             "#f7f7f7"
            ],
            [
             0.6,
             "#e6f5d0"
            ],
            [
             0.7,
             "#b8e186"
            ],
            [
             0.8,
             "#7fbc41"
            ],
            [
             0.9,
             "#4d9221"
            ],
            [
             1,
             "#276419"
            ]
           ],
           "sequential": [
            [
             0,
             "#0d0887"
            ],
            [
             0.1111111111111111,
             "#46039f"
            ],
            [
             0.2222222222222222,
             "#7201a8"
            ],
            [
             0.3333333333333333,
             "#9c179e"
            ],
            [
             0.4444444444444444,
             "#bd3786"
            ],
            [
             0.5555555555555556,
             "#d8576b"
            ],
            [
             0.6666666666666666,
             "#ed7953"
            ],
            [
             0.7777777777777778,
             "#fb9f3a"
            ],
            [
             0.8888888888888888,
             "#fdca26"
            ],
            [
             1,
             "#f0f921"
            ]
           ],
           "sequentialminus": [
            [
             0,
             "#0d0887"
            ],
            [
             0.1111111111111111,
             "#46039f"
            ],
            [
             0.2222222222222222,
             "#7201a8"
            ],
            [
             0.3333333333333333,
             "#9c179e"
            ],
            [
             0.4444444444444444,
             "#bd3786"
            ],
            [
             0.5555555555555556,
             "#d8576b"
            ],
            [
             0.6666666666666666,
             "#ed7953"
            ],
            [
             0.7777777777777778,
             "#fb9f3a"
            ],
            [
             0.8888888888888888,
             "#fdca26"
            ],
            [
             1,
             "#f0f921"
            ]
           ]
          },
          "colorway": [
           "#636efa",
           "#EF553B",
           "#00cc96",
           "#ab63fa",
           "#FFA15A",
           "#19d3f3",
           "#FF6692",
           "#B6E880",
           "#FF97FF",
           "#FECB52"
          ],
          "font": {
           "color": "#2a3f5f"
          },
          "geo": {
           "bgcolor": "white",
           "lakecolor": "white",
           "landcolor": "#E5ECF6",
           "showlakes": true,
           "showland": true,
           "subunitcolor": "white"
          },
          "hoverlabel": {
           "align": "left"
          },
          "hovermode": "closest",
          "mapbox": {
           "style": "light"
          },
          "paper_bgcolor": "white",
          "plot_bgcolor": "#E5ECF6",
          "polar": {
           "angularaxis": {
            "gridcolor": "white",
            "linecolor": "white",
            "ticks": ""
           },
           "bgcolor": "#E5ECF6",
           "radialaxis": {
            "gridcolor": "white",
            "linecolor": "white",
            "ticks": ""
           }
          },
          "scene": {
           "xaxis": {
            "backgroundcolor": "#E5ECF6",
            "gridcolor": "white",
            "gridwidth": 2,
            "linecolor": "white",
            "showbackground": true,
            "ticks": "",
            "zerolinecolor": "white"
           },
           "yaxis": {
            "backgroundcolor": "#E5ECF6",
            "gridcolor": "white",
            "gridwidth": 2,
            "linecolor": "white",
            "showbackground": true,
            "ticks": "",
            "zerolinecolor": "white"
           },
           "zaxis": {
            "backgroundcolor": "#E5ECF6",
            "gridcolor": "white",
            "gridwidth": 2,
            "linecolor": "white",
            "showbackground": true,
            "ticks": "",
            "zerolinecolor": "white"
           }
          },
          "shapedefaults": {
           "line": {
            "color": "#2a3f5f"
           }
          },
          "ternary": {
           "aaxis": {
            "gridcolor": "white",
            "linecolor": "white",
            "ticks": ""
           },
           "baxis": {
            "gridcolor": "white",
            "linecolor": "white",
            "ticks": ""
           },
           "bgcolor": "#E5ECF6",
           "caxis": {
            "gridcolor": "white",
            "linecolor": "white",
            "ticks": ""
           }
          },
          "title": {
           "x": 0.05
          },
          "xaxis": {
           "automargin": true,
           "gridcolor": "white",
           "linecolor": "white",
           "ticks": "",
           "title": {
            "standoff": 15
           },
           "zerolinecolor": "white",
           "zerolinewidth": 2
          },
          "yaxis": {
           "automargin": true,
           "gridcolor": "white",
           "linecolor": "white",
           "ticks": "",
           "title": {
            "standoff": 15
           },
           "zerolinecolor": "white",
           "zerolinewidth": 2
          }
         }
        },
        "title": {
         "text": "Histogram of Sales Price"
        },
        "xaxis": {
         "anchor": "y",
         "domain": [
          0,
          1
         ],
         "title": {
          "text": "sale price"
         }
        },
        "yaxis": {
         "anchor": "x",
         "domain": [
          0,
          1
         ],
         "title": {
          "text": "count"
         }
        }
       }
      }
     },
     "metadata": {},
     "output_type": "display_data"
    },
    {
     "data": {
      "application/vnd.plotly.v1+json": {
       "config": {
        "plotlyServerURL": "https://plot.ly"
       },
       "data": [
        {
         "alignmentgroup": "True",
         "hovertemplate": "sale price=%{x}<extra></extra>",
         "legendgroup": "",
         "marker": {
          "color": "#636efa"
         },
         "name": "",
         "notched": false,
         "offsetgroup": "",
         "orientation": "h",
         "showlegend": false,
         "type": "box",
         "x": [
          4.88,
          1.99,
          8.69,
          7.5,
          7.99,
          4.99,
          6.99,
          6.89,
          6.99,
          6.49,
          4.99,
          5.99,
          0.99,
          1.99,
          6.54,
          4.99,
          4.99,
          4.99,
          1.99,
          0.99,
          3.99,
          2.99,
          2.99,
          2.99,
          10.91,
          0.99,
          3.99,
          3.99,
          1.99,
          0.99,
          5.99,
          0.99,
          0.99,
          0.99,
          0.99,
          0.99,
          10.65,
          0.99,
          3.99,
          1.99,
          5.99,
          6.99,
          4.99,
          1.99,
          0.99,
          5.99,
          8.59,
          0.99,
          0.99,
          4.99,
          0.99,
          3.99,
          2.99,
          0.99,
          10.91,
          0.99,
          11.39,
          6.49,
          3.99,
          3,
          0.99,
          3.89,
          7.99,
          8.99,
          1.99,
          7.99,
          3.99,
          6.99,
          3.79,
          4.21,
          1.99,
          4.99,
          4.99,
          0.99,
          4.54,
          6.49,
          4.99,
          1.99,
          3.99,
          0.99,
          1.99,
          0.99,
          1.99,
          1.99,
          0.99,
          0.99,
          0.99,
          4.99,
          1.99,
          6.49,
          6.49,
          0.99,
          0.99,
          5.99,
          6.83,
          0.99,
          5.12,
          2.24,
          7.5,
          0.99,
          10.65,
          1.99,
          4.99,
          3.99,
          6.5,
          0.99,
          8.48,
          0.99,
          0.99,
          0.99,
          6.49,
          11.99,
          2.99,
          1.99,
          3.99,
          7.5,
          3.99,
          7.99,
          0.99,
          11.99,
          7.99,
          0.99,
          1.99,
          6.99,
          2.99,
          10.65,
          3.99,
          0.99,
          3.99,
          1.99,
          11.99,
          3.99,
          10.67,
          1.99,
          3.99,
          4.99,
          3.99,
          4.99,
          3.99,
          0.99,
          4.99,
          7.51,
          0.99,
          0.99,
          0.99,
          7.99,
          1.99,
          0.99,
          5.49,
          0.99,
          11.84,
          0.99,
          14.99,
          4.99,
          2.99,
          4.99,
          6.99,
          8.99,
          0.99,
          0.99,
          2,
          0.99,
          5.95,
          5.99,
          1.99,
          8.89,
          0.99,
          1.99,
          2.99,
          7.99,
          0.99,
          0.99,
          3.99,
          2.99,
          0.99,
          1.99,
          2.99,
          3.99,
          10.91,
          2.99,
          4.99,
          0.99,
          5.34,
          4.26,
          0.99,
          0.99,
          2.99,
          10.99,
          2.99,
          4.99,
          0.99,
          0.99,
          2.99,
          0.99,
          2.99,
          0.99,
          0.99,
          0.99,
          7.99,
          10.99,
          4.99,
          10.65,
          10.65,
          0.99,
          2.99,
          19.98,
          4.99,
          0.99,
          11.99,
          5.99,
          0.99,
          0.99,
          11.99,
          8.97,
          0.99,
          3.99,
          10.65,
          0.99,
          0.99,
          4.99,
          6.19,
          2.99,
          4.13,
          4.99,
          5.56,
          2.5,
          10.65,
          7.99,
          0.99,
          0.99,
          0.99,
          6.99,
          2.99,
          1.99,
          1.99,
          7.91,
          2.99,
          4.99,
          2.99,
          0.99,
          4.99,
          3.99,
          2.99,
          0.99,
          2.99,
          2.99,
          11.19,
          4.99,
          2.99,
          0.99,
          2.99,
          10.91,
          2.99,
          0.99,
          0.99,
          0.99,
          2.99,
          2.99,
          2.99,
          2.99,
          11.39,
          4.99,
          4.99,
          1.99,
          7.99,
          8.82,
          3.99,
          8.49,
          4.99,
          7.69,
          2.99,
          4.99,
          6.49,
          5.99,
          0.99,
          0.99,
          1.99,
          7.99,
          6.99,
          33.86,
          1.99,
          4.99,
          2.99,
          3.99,
          2.99,
          6.01,
          0.99,
          0.99,
          0.99,
          12.74,
          3.99,
          5.99,
          1.5,
          7.32,
          4.99,
          12.99,
          3.99,
          9.59,
          0.99,
          0.99,
          0.99,
          3.75,
          6.49,
          7.14,
          3.99,
          2.99,
          2.99,
          5.99,
          3.99,
          3.99,
          0.99,
          2.99,
          6.57,
          12.99,
          2.99,
          2.99,
          4.62,
          0.99,
          4.99,
          3.99,
          3.99,
          6.99,
          2.99,
          6.15,
          3.99,
          4.99,
          10.65,
          4.99,
          0.99,
          3.99,
          6.49,
          5.99,
          1.99,
          4.99,
          2.99,
          7.99,
          6.99,
          3.99,
          1.99,
          1.99,
          3.99,
          10.65,
          2.99,
          10.91,
          0.99,
          4.99,
          3.99,
          25.89,
          6.47,
          0.99,
          5.26,
          3.99,
          0.99,
          5.69,
          4.99,
          7.99,
          7.49,
          2.99,
          1.99,
          17.98,
          9.44,
          5.99,
          1.99,
          9.99,
          0.99,
          10.65,
          4.99,
          7.99,
          2.99,
          5.99,
          3.99,
          1.99,
          4.99,
          7.99,
          5.12,
          2.99,
          9.56,
          3.99,
          0.99,
          2.99,
          0.99,
          5.99,
          4.99,
          11.99,
          7.99,
          8.39,
          2.99,
          2.99,
          2.99,
          0.99,
          1.99,
          2.5,
          9.49,
          2.99,
          0.99,
          3.99,
          5.38,
          0.99,
          2.99,
          7.59,
          2.99,
          0.99,
          0.99,
          3.99,
          8.99,
          7.69,
          4.99,
          1.99,
          2.99,
          3.99,
          0.99,
          0.99,
          0.99,
          5.99,
          2.99,
          0.99,
          2.99,
          6.83,
          9.59,
          0.99,
          12.74,
          0.99,
          6.98,
          0.99,
          1.99,
          3.99,
          6.99,
          2.99,
          4.99,
          6.99,
          10.65,
          1.99,
          0.99,
          2.99,
          0.99,
          1.99,
          5.99,
          10.99,
          6.49,
          3.79,
          1.99,
          2.99,
          3.99,
          4.99,
          9.99,
          7.99,
          3.99,
          0.99,
          12.74,
          7.66,
          10.91,
          7.99,
          0.99,
          7.69,
          11.89,
          4.99,
          10.99,
          6.94,
          0.99,
          7.39,
          6.99,
          4.99,
          0.99,
          10.65,
          0.99,
          10.65,
          0.99,
          0.99,
          0.99,
          1.99,
          4.99,
          9.02,
          0.99,
          1.99,
          1.99,
          0.99,
          1.99,
          3.99,
          3.82,
          2.99,
          8.99,
          2.99,
          2.99,
          9.99,
          2.99,
          0.99,
          2.99,
          3.99,
          1.99,
          7.19,
          2.99,
          8.99,
          2.99,
          9.39,
          0.99,
          4.29,
          13.59,
          3.99,
          7.99,
          3.99,
          2.99,
          4.99,
          7.58,
          3.99,
          0.99,
          0.99,
          7.69,
          10.65,
          7.31,
          5.99,
          0.99,
          1,
          4.38,
          9.99,
          7.5,
          3.99,
          3.99,
          3.99,
          9.99,
          3.99,
          9.58,
          7.73,
          0.99,
          2.99,
          0.99,
          13.59,
          0.99,
          2.99,
          2.99,
          7.31,
          4.63,
          3.99,
          7.52,
          7.99,
          0.99,
          4.59,
          4.99,
          6.83,
          9.99,
          7.88,
          3.99,
          9.99,
          4.99,
          10.99,
          6.83,
          3.99,
          0.99,
          7.31,
          3.99,
          3.99,
          2.99,
          9.99,
          4.99,
          0.99,
          4.99,
          5.26,
          10.99,
          6.94,
          6.15,
          9.01,
          3.99,
          0.99,
          3.99,
          5.99,
          6.52,
          8.89,
          3.99,
          2.99,
          2.99,
          2.99,
          2.99,
          5.99,
          3.99,
          0.99,
          2.48,
          2.99,
          1.99,
          10.65,
          0.99,
          1.99,
          3.79,
          1.99,
          12.74,
          3.99,
          0.99,
          0.99,
          0.99,
          0.99,
          6.92,
          6.94,
          11.49,
          6.15,
          0.99,
          9.01,
          6.64,
          10.99,
          0.99,
          3.99,
          3.99,
          0.99,
          9.59,
          9.02,
          0.99,
          2.99,
          0.99,
          0.99,
          7.99,
          0.99,
          8.99,
          7.99,
          7.69,
          0.99,
          5.55,
          0.99,
          0.99,
          0.99,
          0.99,
          7.67,
          2.99,
          0.99,
          5.99,
          0.99,
          1.99,
          5.99,
          3.99,
          2.99,
          2.99,
          9.99,
          2.99,
          0.99,
          4.99,
          0.99,
          6.59,
          0.99,
          0.99,
          7.69,
          2.99,
          5.38,
          10.99,
          0.99,
          4.99,
          2.99,
          8.59,
          0.99,
          2.99,
          7.99,
          3.03,
          2.99,
          0.99,
          7.31,
          2.99,
          8.99,
          2.99,
          0.99,
          11.19,
          6.45,
          5.55,
          0.99,
          0.99,
          6.99,
          8.99,
          5.99,
          4.26,
          9.59,
          1.99,
          4.99,
          14.24,
          9.56,
          7.39,
          3.99,
          6.99,
          2.99,
          3.99,
          4.99,
          1.99,
          1.99,
          6.15,
          3.99,
          7.99,
          2.99,
          2.99,
          0.99,
          1.99,
          1.99,
          7.31,
          12.99,
          3.99,
          5.99,
          0.99,
          14.44,
          2.99,
          4.99,
          10,
          11.99,
          0.99,
          2.99,
          9.27,
          1.99,
          3.99,
          2.99,
          11.89,
          1.99,
          2.99,
          4.99,
          0.99,
          5.38,
          5.99,
          7.69,
          2.99,
          3.99,
          0.99,
          9.99,
          3.99,
          1.99,
          3.99,
          5.99,
          6.64,
          0.99,
          5.99,
          0.99,
          0.99,
          0.99,
          6.99,
          2.99,
          0.99,
          0.99,
          3.99,
          8.99,
          8.98,
          12.99,
          6.76,
          2.99,
          9.99,
          7.99,
          3.99,
          11.89,
          4.99,
          2.99,
          8.99,
          2.99,
          2.99,
          4.99,
          2.99,
          3.99,
          3.99,
          2.99,
          2.99,
          3.99,
          6.99,
          8.09,
          0.99,
          4.99,
          11.04,
          7.69,
          0.99,
          4.99,
          4.99,
          0.99,
          2.99,
          7.99,
          11.99,
          11.99,
          2.99,
          4.99,
          0.99,
          7.99,
          0.99,
          7.69,
          1.99,
          4.99,
          4.99,
          0.99,
          1.99,
          7.69,
          2.99,
          11.99,
          3.49,
          4.99,
          3.99,
          2.99,
          3.03,
          7.41,
          2,
          6.83,
          7.99,
          3.99,
          3.99,
          6.55,
          10.8,
          3.82,
          4.99,
          9.99,
          3.99,
          3.99,
          10.99,
          0.99,
          3.99,
          12.29,
          0.99,
          0.99,
          0.99,
          11.75,
          6.92,
          3.99,
          8.59,
          8.99,
          7.49,
          6.99,
          0.99,
          1.99,
          0.99,
          1.99,
          8.78,
          2.5,
          0.99,
          7.49,
          2.99,
          5.99,
          2.99,
          2.99,
          0.99,
          7.99,
          2.99,
          5.99,
          3.99,
          7.99,
          7.52,
          2.99,
          11.84,
          3.99,
          4.99,
          0.99,
          10.99,
          4.99,
          2.99,
          3.99,
          5.99,
          1.99,
          2.99,
          1.99,
          2.99,
          11.99,
          0.99,
          2.99,
          2.99,
          0.99,
          0.99,
          1.99,
          2.99,
          2.99,
          8.1,
          11.84,
          1.99,
          11.99,
          11.04,
          0.99,
          0.99,
          7.73,
          3.99,
          10.99,
          2.99,
          12.74,
          2.99,
          2.99,
          0.99,
          4.99,
          9.99,
          0.99,
          0.99,
          3.99,
          11.19,
          0.99,
          3.99,
          0.99,
          1.99,
          3.99,
          12.29,
          10.99,
          7.99,
          0.99,
          2.99,
          5.49,
          8.99,
          3.99,
          10.91,
          8.99,
          8.99,
          4.99,
          0.99,
          16.98,
          3.79,
          4.99,
          4.49,
          5.83,
          9.99,
          1.99,
          3.99,
          10.65,
          0.99,
          0.99,
          4.99,
          13.78,
          0.99,
          2.99,
          1.99,
          8.81,
          5.49,
          2.99,
          2.99,
          2.99,
          5.69,
          3.99,
          2.99,
          0.99,
          2.99,
          3.99,
          3.99,
          4.99,
          4.99,
          0.99,
          0.99,
          6.99,
          4.99,
          5.99,
          8.99,
          0.99,
          0.99,
          15.37,
          3.82,
          3.99,
          3.99,
          10.99,
          10.65,
          3.99,
          12.29,
          2.99,
          2.99,
          4.78,
          1.99,
          1.29,
          6.93,
          0.99,
          5.99,
          10.99,
          4.99,
          0.99,
          3.99,
          4.99,
          9.99,
          1.99,
          3.99,
          2.99,
          2.99,
          0.99,
          7.99,
          8.59,
          0.99,
          3.99,
          11.89,
          5.99,
          2.99,
          11.99,
          5.99,
          7.99,
          3.99,
          3.79,
          3.03,
          6.99,
          8.89,
          2.99,
          4.95,
          3.99,
          0.99,
          7.69,
          10.74,
          5.99,
          2.99,
          0.99,
          4.5,
          14.99,
          2,
          6.94,
          7.99,
          12.59,
          7.81,
          5.56,
          2.99,
          9.99,
          2.99,
          0.99,
          7.69,
          7.99,
          2.99,
          0.99,
          7.99,
          7.99,
          0.99,
          2.99
         ],
         "x0": " ",
         "xaxis": "x",
         "y0": " ",
         "yaxis": "y"
        }
       ],
       "layout": {
        "boxmode": "group",
        "legend": {
         "tracegroupgap": 0
        },
        "template": {
         "data": {
          "bar": [
           {
            "error_x": {
             "color": "#2a3f5f"
            },
            "error_y": {
             "color": "#2a3f5f"
            },
            "marker": {
             "line": {
              "color": "#E5ECF6",
              "width": 0.5
             },
             "pattern": {
              "fillmode": "overlay",
              "size": 10,
              "solidity": 0.2
             }
            },
            "type": "bar"
           }
          ],
          "barpolar": [
           {
            "marker": {
             "line": {
              "color": "#E5ECF6",
              "width": 0.5
             },
             "pattern": {
              "fillmode": "overlay",
              "size": 10,
              "solidity": 0.2
             }
            },
            "type": "barpolar"
           }
          ],
          "carpet": [
           {
            "aaxis": {
             "endlinecolor": "#2a3f5f",
             "gridcolor": "white",
             "linecolor": "white",
             "minorgridcolor": "white",
             "startlinecolor": "#2a3f5f"
            },
            "baxis": {
             "endlinecolor": "#2a3f5f",
             "gridcolor": "white",
             "linecolor": "white",
             "minorgridcolor": "white",
             "startlinecolor": "#2a3f5f"
            },
            "type": "carpet"
           }
          ],
          "choropleth": [
           {
            "colorbar": {
             "outlinewidth": 0,
             "ticks": ""
            },
            "type": "choropleth"
           }
          ],
          "contour": [
           {
            "colorbar": {
             "outlinewidth": 0,
             "ticks": ""
            },
            "colorscale": [
             [
              0,
              "#0d0887"
             ],
             [
              0.1111111111111111,
              "#46039f"
             ],
             [
              0.2222222222222222,
              "#7201a8"
             ],
             [
              0.3333333333333333,
              "#9c179e"
             ],
             [
              0.4444444444444444,
              "#bd3786"
             ],
             [
              0.5555555555555556,
              "#d8576b"
             ],
             [
              0.6666666666666666,
              "#ed7953"
             ],
             [
              0.7777777777777778,
              "#fb9f3a"
             ],
             [
              0.8888888888888888,
              "#fdca26"
             ],
             [
              1,
              "#f0f921"
             ]
            ],
            "type": "contour"
           }
          ],
          "contourcarpet": [
           {
            "colorbar": {
             "outlinewidth": 0,
             "ticks": ""
            },
            "type": "contourcarpet"
           }
          ],
          "heatmap": [
           {
            "colorbar": {
             "outlinewidth": 0,
             "ticks": ""
            },
            "colorscale": [
             [
              0,
              "#0d0887"
             ],
             [
              0.1111111111111111,
              "#46039f"
             ],
             [
              0.2222222222222222,
              "#7201a8"
             ],
             [
              0.3333333333333333,
              "#9c179e"
             ],
             [
              0.4444444444444444,
              "#bd3786"
             ],
             [
              0.5555555555555556,
              "#d8576b"
             ],
             [
              0.6666666666666666,
              "#ed7953"
             ],
             [
              0.7777777777777778,
              "#fb9f3a"
             ],
             [
              0.8888888888888888,
              "#fdca26"
             ],
             [
              1,
              "#f0f921"
             ]
            ],
            "type": "heatmap"
           }
          ],
          "heatmapgl": [
           {
            "colorbar": {
             "outlinewidth": 0,
             "ticks": ""
            },
            "colorscale": [
             [
              0,
              "#0d0887"
             ],
             [
              0.1111111111111111,
              "#46039f"
             ],
             [
              0.2222222222222222,
              "#7201a8"
             ],
             [
              0.3333333333333333,
              "#9c179e"
             ],
             [
              0.4444444444444444,
              "#bd3786"
             ],
             [
              0.5555555555555556,
              "#d8576b"
             ],
             [
              0.6666666666666666,
              "#ed7953"
             ],
             [
              0.7777777777777778,
              "#fb9f3a"
             ],
             [
              0.8888888888888888,
              "#fdca26"
             ],
             [
              1,
              "#f0f921"
             ]
            ],
            "type": "heatmapgl"
           }
          ],
          "histogram": [
           {
            "marker": {
             "pattern": {
              "fillmode": "overlay",
              "size": 10,
              "solidity": 0.2
             }
            },
            "type": "histogram"
           }
          ],
          "histogram2d": [
           {
            "colorbar": {
             "outlinewidth": 0,
             "ticks": ""
            },
            "colorscale": [
             [
              0,
              "#0d0887"
             ],
             [
              0.1111111111111111,
              "#46039f"
             ],
             [
              0.2222222222222222,
              "#7201a8"
             ],
             [
              0.3333333333333333,
              "#9c179e"
             ],
             [
              0.4444444444444444,
              "#bd3786"
             ],
             [
              0.5555555555555556,
              "#d8576b"
             ],
             [
              0.6666666666666666,
              "#ed7953"
             ],
             [
              0.7777777777777778,
              "#fb9f3a"
             ],
             [
              0.8888888888888888,
              "#fdca26"
             ],
             [
              1,
              "#f0f921"
             ]
            ],
            "type": "histogram2d"
           }
          ],
          "histogram2dcontour": [
           {
            "colorbar": {
             "outlinewidth": 0,
             "ticks": ""
            },
            "colorscale": [
             [
              0,
              "#0d0887"
             ],
             [
              0.1111111111111111,
              "#46039f"
             ],
             [
              0.2222222222222222,
              "#7201a8"
             ],
             [
              0.3333333333333333,
              "#9c179e"
             ],
             [
              0.4444444444444444,
              "#bd3786"
             ],
             [
              0.5555555555555556,
              "#d8576b"
             ],
             [
              0.6666666666666666,
              "#ed7953"
             ],
             [
              0.7777777777777778,
              "#fb9f3a"
             ],
             [
              0.8888888888888888,
              "#fdca26"
             ],
             [
              1,
              "#f0f921"
             ]
            ],
            "type": "histogram2dcontour"
           }
          ],
          "mesh3d": [
           {
            "colorbar": {
             "outlinewidth": 0,
             "ticks": ""
            },
            "type": "mesh3d"
           }
          ],
          "parcoords": [
           {
            "line": {
             "colorbar": {
              "outlinewidth": 0,
              "ticks": ""
             }
            },
            "type": "parcoords"
           }
          ],
          "pie": [
           {
            "automargin": true,
            "type": "pie"
           }
          ],
          "scatter": [
           {
            "fillpattern": {
             "fillmode": "overlay",
             "size": 10,
             "solidity": 0.2
            },
            "type": "scatter"
           }
          ],
          "scatter3d": [
           {
            "line": {
             "colorbar": {
              "outlinewidth": 0,
              "ticks": ""
             }
            },
            "marker": {
             "colorbar": {
              "outlinewidth": 0,
              "ticks": ""
             }
            },
            "type": "scatter3d"
           }
          ],
          "scattercarpet": [
           {
            "marker": {
             "colorbar": {
              "outlinewidth": 0,
              "ticks": ""
             }
            },
            "type": "scattercarpet"
           }
          ],
          "scattergeo": [
           {
            "marker": {
             "colorbar": {
              "outlinewidth": 0,
              "ticks": ""
             }
            },
            "type": "scattergeo"
           }
          ],
          "scattergl": [
           {
            "marker": {
             "colorbar": {
              "outlinewidth": 0,
              "ticks": ""
             }
            },
            "type": "scattergl"
           }
          ],
          "scattermapbox": [
           {
            "marker": {
             "colorbar": {
              "outlinewidth": 0,
              "ticks": ""
             }
            },
            "type": "scattermapbox"
           }
          ],
          "scatterpolar": [
           {
            "marker": {
             "colorbar": {
              "outlinewidth": 0,
              "ticks": ""
             }
            },
            "type": "scatterpolar"
           }
          ],
          "scatterpolargl": [
           {
            "marker": {
             "colorbar": {
              "outlinewidth": 0,
              "ticks": ""
             }
            },
            "type": "scatterpolargl"
           }
          ],
          "scatterternary": [
           {
            "marker": {
             "colorbar": {
              "outlinewidth": 0,
              "ticks": ""
             }
            },
            "type": "scatterternary"
           }
          ],
          "surface": [
           {
            "colorbar": {
             "outlinewidth": 0,
             "ticks": ""
            },
            "colorscale": [
             [
              0,
              "#0d0887"
             ],
             [
              0.1111111111111111,
              "#46039f"
             ],
             [
              0.2222222222222222,
              "#7201a8"
             ],
             [
              0.3333333333333333,
              "#9c179e"
             ],
             [
              0.4444444444444444,
              "#bd3786"
             ],
             [
              0.5555555555555556,
              "#d8576b"
             ],
             [
              0.6666666666666666,
              "#ed7953"
             ],
             [
              0.7777777777777778,
              "#fb9f3a"
             ],
             [
              0.8888888888888888,
              "#fdca26"
             ],
             [
              1,
              "#f0f921"
             ]
            ],
            "type": "surface"
           }
          ],
          "table": [
           {
            "cells": {
             "fill": {
              "color": "#EBF0F8"
             },
             "line": {
              "color": "white"
             }
            },
            "header": {
             "fill": {
              "color": "#C8D4E3"
             },
             "line": {
              "color": "white"
             }
            },
            "type": "table"
           }
          ]
         },
         "layout": {
          "annotationdefaults": {
           "arrowcolor": "#2a3f5f",
           "arrowhead": 0,
           "arrowwidth": 1
          },
          "autotypenumbers": "strict",
          "coloraxis": {
           "colorbar": {
            "outlinewidth": 0,
            "ticks": ""
           }
          },
          "colorscale": {
           "diverging": [
            [
             0,
             "#8e0152"
            ],
            [
             0.1,
             "#c51b7d"
            ],
            [
             0.2,
             "#de77ae"
            ],
            [
             0.3,
             "#f1b6da"
            ],
            [
             0.4,
             "#fde0ef"
            ],
            [
             0.5,
             "#f7f7f7"
            ],
            [
             0.6,
             "#e6f5d0"
            ],
            [
             0.7,
             "#b8e186"
            ],
            [
             0.8,
             "#7fbc41"
            ],
            [
             0.9,
             "#4d9221"
            ],
            [
             1,
             "#276419"
            ]
           ],
           "sequential": [
            [
             0,
             "#0d0887"
            ],
            [
             0.1111111111111111,
             "#46039f"
            ],
            [
             0.2222222222222222,
             "#7201a8"
            ],
            [
             0.3333333333333333,
             "#9c179e"
            ],
            [
             0.4444444444444444,
             "#bd3786"
            ],
            [
             0.5555555555555556,
             "#d8576b"
            ],
            [
             0.6666666666666666,
             "#ed7953"
            ],
            [
             0.7777777777777778,
             "#fb9f3a"
            ],
            [
             0.8888888888888888,
             "#fdca26"
            ],
            [
             1,
             "#f0f921"
            ]
           ],
           "sequentialminus": [
            [
             0,
             "#0d0887"
            ],
            [
             0.1111111111111111,
             "#46039f"
            ],
            [
             0.2222222222222222,
             "#7201a8"
            ],
            [
             0.3333333333333333,
             "#9c179e"
            ],
            [
             0.4444444444444444,
             "#bd3786"
            ],
            [
             0.5555555555555556,
             "#d8576b"
            ],
            [
             0.6666666666666666,
             "#ed7953"
            ],
            [
             0.7777777777777778,
             "#fb9f3a"
            ],
            [
             0.8888888888888888,
             "#fdca26"
            ],
            [
             1,
             "#f0f921"
            ]
           ]
          },
          "colorway": [
           "#636efa",
           "#EF553B",
           "#00cc96",
           "#ab63fa",
           "#FFA15A",
           "#19d3f3",
           "#FF6692",
           "#B6E880",
           "#FF97FF",
           "#FECB52"
          ],
          "font": {
           "color": "#2a3f5f"
          },
          "geo": {
           "bgcolor": "white",
           "lakecolor": "white",
           "landcolor": "#E5ECF6",
           "showlakes": true,
           "showland": true,
           "subunitcolor": "white"
          },
          "hoverlabel": {
           "align": "left"
          },
          "hovermode": "closest",
          "mapbox": {
           "style": "light"
          },
          "paper_bgcolor": "white",
          "plot_bgcolor": "#E5ECF6",
          "polar": {
           "angularaxis": {
            "gridcolor": "white",
            "linecolor": "white",
            "ticks": ""
           },
           "bgcolor": "#E5ECF6",
           "radialaxis": {
            "gridcolor": "white",
            "linecolor": "white",
            "ticks": ""
           }
          },
          "scene": {
           "xaxis": {
            "backgroundcolor": "#E5ECF6",
            "gridcolor": "white",
            "gridwidth": 2,
            "linecolor": "white",
            "showbackground": true,
            "ticks": "",
            "zerolinecolor": "white"
           },
           "yaxis": {
            "backgroundcolor": "#E5ECF6",
            "gridcolor": "white",
            "gridwidth": 2,
            "linecolor": "white",
            "showbackground": true,
            "ticks": "",
            "zerolinecolor": "white"
           },
           "zaxis": {
            "backgroundcolor": "#E5ECF6",
            "gridcolor": "white",
            "gridwidth": 2,
            "linecolor": "white",
            "showbackground": true,
            "ticks": "",
            "zerolinecolor": "white"
           }
          },
          "shapedefaults": {
           "line": {
            "color": "#2a3f5f"
           }
          },
          "ternary": {
           "aaxis": {
            "gridcolor": "white",
            "linecolor": "white",
            "ticks": ""
           },
           "baxis": {
            "gridcolor": "white",
            "linecolor": "white",
            "ticks": ""
           },
           "bgcolor": "#E5ECF6",
           "caxis": {
            "gridcolor": "white",
            "linecolor": "white",
            "ticks": ""
           }
          },
          "title": {
           "x": 0.05
          },
          "xaxis": {
           "automargin": true,
           "gridcolor": "white",
           "linecolor": "white",
           "ticks": "",
           "title": {
            "standoff": 15
           },
           "zerolinecolor": "white",
           "zerolinewidth": 2
          },
          "yaxis": {
           "automargin": true,
           "gridcolor": "white",
           "linecolor": "white",
           "ticks": "",
           "title": {
            "standoff": 15
           },
           "zerolinecolor": "white",
           "zerolinewidth": 2
          }
         }
        },
        "title": {
         "text": "Boxplot of Sales Price"
        },
        "xaxis": {
         "anchor": "y",
         "domain": [
          0,
          1
         ],
         "title": {
          "text": "sale price"
         }
        },
        "yaxis": {
         "anchor": "x",
         "domain": [
          0,
          1
         ]
        }
       }
      }
     },
     "metadata": {},
     "output_type": "display_data"
    }
   ],
   "source": [
    "# sale price\n",
    "# skewed to the right\n",
    "# one significant outlier - can  be insightful\n",
    "fig = px.histogram(data, x='sale price', title='Histogram of Sales Price')\n",
    "fig.show()\n",
    "\n",
    "fig = px.box(data, x='sale price', title='Boxplot of Sales Price')\n",
    "fig.show()"
   ]
  },
  {
   "cell_type": "code",
   "execution_count": 61,
   "metadata": {},
   "outputs": [
    {
     "data": {
      "application/vnd.plotly.v1+json": {
       "config": {
        "plotlyServerURL": "https://plot.ly"
       },
       "data": [
        {
         "alignmentgroup": "True",
         "bingroup": "x",
         "hovertemplate": "units sold=%{x}<br>count=%{y}<extra></extra>",
         "legendgroup": "",
         "marker": {
          "color": "#636efa",
          "pattern": {
           "shape": ""
          }
         },
         "name": "",
         "offsetgroup": "",
         "orientation": "v",
         "showlegend": false,
         "type": "histogram",
         "x": [
          7000,
          6250,
          5500,
          5500,
          4750,
          4000,
          3933,
          3800,
          3733,
          3666,
          3600,
          3600,
          3466,
          3466,
          3333,
          3266,
          3200,
          3200,
          3133,
          3066,
          2933,
          2866,
          2733,
          2600,
          2466,
          2400,
          2400,
          2333,
          2266,
          2200,
          2200,
          2066,
          1984,
          1984,
          1969,
          1969,
          1907,
          1892,
          1876,
          1861,
          1846,
          1830,
          1800,
          1800,
          1784,
          1769,
          1753,
          1738,
          1723,
          1707,
          1692,
          1676,
          1661,
          1646,
          1630,
          1630,
          1615,
          1600,
          1584,
          1569,
          1538,
          1523,
          1507,
          1492,
          1461,
          1446,
          1430,
          1415,
          1384,
          1384,
          1369,
          1353,
          1338,
          1323,
          1307,
          1307,
          1292,
          1276,
          1230,
          1215,
          1215,
          1200,
          1200,
          1184,
          1169,
          1169,
          1123,
          1123,
          1107,
          1076,
          1061,
          1046,
          1030,
          1015,
          1015,
          995,
          990,
          980,
          975,
          970,
          960,
          945,
          940,
          935,
          920,
          915,
          915,
          910,
          905,
          900,
          900,
          895,
          890,
          890,
          885,
          870,
          865,
          860,
          850,
          845,
          840,
          825,
          825,
          815,
          810,
          805,
          800,
          800,
          795,
          790,
          785,
          780,
          775,
          760,
          755,
          750,
          750,
          745,
          740,
          735,
          730,
          725,
          720,
          710,
          705,
          700,
          680,
          675,
          670,
          665,
          660,
          655,
          655,
          650,
          650,
          645,
          640,
          630,
          615,
          610,
          605,
          600,
          595,
          595,
          590,
          585,
          575,
          570,
          555,
          555,
          550,
          540,
          540,
          535,
          530,
          515,
          510,
          505,
          498,
          496,
          490,
          488,
          488,
          483,
          481,
          480,
          478,
          478,
          476,
          476,
          475,
          475,
          468,
          466,
          466,
          465,
          460,
          460,
          456,
          455,
          451,
          450,
          448,
          448,
          443,
          441,
          436,
          435,
          433,
          433,
          431,
          430,
          426,
          426,
          425,
          423,
          420,
          418,
          416,
          415,
          410,
          408,
          408,
          406,
          405,
          403,
          401,
          398,
          396,
          396,
          391,
          390,
          386,
          385,
          381,
          381,
          380,
          378,
          376,
          375,
          375,
          373,
          373,
          370,
          368,
          366,
          365,
          363,
          363,
          361,
          361,
          358,
          356,
          351,
          350,
          348,
          345,
          343,
          341,
          341,
          340,
          338,
          336,
          335,
          328,
          326,
          326,
          325,
          323,
          321,
          318,
          316,
          315,
          313,
          311,
          310,
          310,
          308,
          308,
          305,
          301,
          298,
          298,
          296,
          296,
          295,
          295,
          293,
          291,
          290,
          288,
          285,
          285,
          283,
          283,
          281,
          275,
          273,
          270,
          270,
          266,
          266,
          265,
          263,
          261,
          260,
          258,
          255,
          250,
          250,
          249,
          249,
          249,
          248,
          248,
          247,
          247,
          247,
          246,
          245,
          245,
          243,
          243,
          243,
          242,
          241,
          241,
          240,
          239,
          239,
          238,
          237,
          237,
          237,
          237,
          236,
          235,
          234,
          233,
          6264,
          6264,
          6237,
          6210,
          6210,
          6183,
          6183,
          6156,
          6156,
          6129,
          6102,
          6102,
          6075,
          6048,
          6048,
          6021,
          6021,
          5994,
          5967,
          5940,
          5940,
          5913,
          5913,
          5886,
          5886,
          5859,
          5859,
          5805,
          5805,
          5805,
          5778,
          5751,
          5751,
          5751,
          5724,
          5697,
          5697,
          5670,
          5643,
          5643,
          5616,
          5616,
          5616,
          5589,
          5535,
          5481,
          5481,
          5454,
          5454,
          5427,
          5427,
          5427,
          5400,
          5400,
          5373,
          5346,
          5346,
          5319,
          5292,
          5292,
          5265,
          5265,
          5238,
          5211,
          5211,
          5184,
          5157,
          5130,
          5103,
          5103,
          5076,
          5076,
          5049,
          5022,
          5022,
          4968,
          4941,
          4914,
          4914,
          4860,
          4833,
          4833,
          4806,
          4806,
          4779,
          4752,
          4752,
          4752,
          4725,
          4698,
          4698,
          4671,
          4671,
          4671,
          4671,
          4644,
          4617,
          4617,
          4617,
          4617,
          4617,
          4617,
          4590,
          4590,
          4590,
          4563,
          4563,
          4563,
          4563,
          4563,
          4563,
          4563,
          4536,
          4536,
          4536,
          4509,
          4509,
          4509,
          4482,
          4482,
          4482,
          4455,
          4455,
          4455,
          4455,
          4428,
          4428,
          4428,
          4428,
          4428,
          4401,
          4401,
          4401,
          4401,
          4374,
          4374,
          4374,
          4347,
          4347,
          4347,
          4320,
          4320,
          4320,
          4320,
          4320,
          4293,
          4293,
          4293,
          4293,
          4266,
          4266,
          4266,
          4266,
          4239,
          4239,
          4212,
          4212,
          4185,
          4185,
          4158,
          4158,
          4158,
          4158,
          4158,
          4131,
          4131,
          4131,
          4131,
          4104,
          4104,
          4104,
          4077,
          4077,
          4077,
          4077,
          4050,
          4050,
          4023,
          4023,
          4023,
          4023,
          4023,
          3996,
          3996,
          3996,
          3969,
          3969,
          3969,
          3969,
          3969,
          3969,
          3942,
          3942,
          3942,
          3942,
          3942,
          3915,
          3915,
          3915,
          3915,
          3888,
          3861,
          3861,
          3834,
          61560,
          61128,
          61128,
          60696,
          59400,
          58968,
          57240,
          56808,
          55728,
          55080,
          54000,
          53784,
          53784,
          53784,
          53568,
          53352,
          53136,
          52920,
          52488,
          52488,
          52488,
          52056,
          52056,
          51624,
          51408,
          51192,
          51192,
          50976,
          50760,
          50544,
          50328,
          50112,
          49896,
          49896,
          49680,
          49680,
          49248,
          49032,
          48816,
          48816,
          48600,
          48384,
          48168,
          47952,
          47736,
          47520,
          47520,
          47304,
          47304,
          47088,
          47088,
          46872,
          46872,
          46872,
          46440,
          46440,
          46008,
          46008,
          46008,
          45792,
          45576,
          45360,
          45144,
          44928,
          44280,
          43848,
          43416,
          43416,
          43416,
          43200,
          42768,
          42552,
          42120,
          41904,
          41472,
          41256,
          40824,
          40824,
          40176,
          40176,
          39960,
          39744,
          39312,
          39312,
          38880,
          38664,
          38664,
          38448,
          38448,
          38448,
          38016,
          38016,
          37584,
          37584,
          37368,
          37368,
          37368,
          37152,
          37152,
          36936,
          36936,
          36936,
          36720,
          36504,
          36504,
          36504,
          36504,
          36504,
          36504,
          36288,
          36288,
          36072,
          36072,
          36072,
          36072,
          35856,
          35640,
          35640,
          35640,
          35640,
          35640,
          35424,
          35424,
          35424,
          35208,
          35208,
          35208,
          34992,
          34992,
          34776,
          34776,
          34776,
          34560,
          34560,
          34560,
          34344,
          34128,
          34128,
          34128,
          34128,
          33912,
          33696,
          33696,
          33480,
          33264,
          33264,
          33048,
          33048,
          32832,
          32832,
          32832,
          32616,
          32616,
          32616,
          32400,
          32184,
          32184,
          32184,
          31968,
          31752,
          31752,
          31752,
          31536,
          31536,
          31536,
          31536,
          31320,
          31320,
          31320,
          31320,
          31104,
          30888,
          30888,
          30672,
          30672,
          30456,
          30456,
          30240,
          30240,
          29808,
          29808,
          29808,
          29592,
          29376,
          29160,
          28944,
          28944,
          28728,
          28512,
          28512,
          28512,
          28296,
          28296,
          28296,
          2943,
          2943,
          2943,
          2943,
          2916,
          2916,
          2916,
          2916,
          2916,
          2916,
          2916,
          2916,
          2916,
          2916,
          2916,
          2916,
          2916,
          2916,
          2916,
          2916,
          2916,
          2916,
          2916,
          2916,
          2916,
          2916,
          2916,
          2916,
          2916,
          2916,
          2916,
          2916,
          2916,
          2916,
          2916,
          2889,
          2889,
          2889,
          2889,
          2889,
          2889,
          2889,
          2889,
          2889,
          2889,
          2889,
          2889,
          2889,
          2889,
          2889,
          2889,
          2889,
          2889,
          2889,
          2889,
          2889,
          2889,
          2889,
          2889,
          2862,
          2862,
          2862,
          2862,
          2862,
          2862,
          2862,
          2862,
          2862,
          2862,
          2862,
          2862,
          2862,
          2862,
          2862,
          2862,
          2862,
          2862,
          2862,
          2862,
          2862,
          4480,
          4480,
          4480,
          4480,
          4480,
          4480,
          4480,
          4440,
          4440,
          4440,
          4440,
          4440,
          4440,
          4440,
          4440,
          4440,
          4440,
          4440,
          4440,
          4400,
          4400,
          4400,
          4400,
          4400,
          4400,
          4400,
          4400,
          4400,
          4400,
          4400,
          4400,
          4400,
          4400,
          4400,
          4400,
          4400,
          4400,
          4360,
          4360,
          4360,
          4360,
          4360,
          4360,
          4360,
          4360,
          4360,
          4360,
          4360,
          4360,
          4360,
          4360,
          4320,
          4320,
          4320,
          4320,
          4320,
          4320,
          4320,
          4320,
          4320,
          4320,
          4320,
          4320,
          4320,
          4320,
          4320,
          4320,
          4320,
          4320,
          4320,
          4280,
          4280,
          4280,
          4280,
          4280,
          4280,
          4280,
          4280,
          4280,
          4280,
          4280,
          4280,
          4280,
          4280,
          4280,
          4280,
          4280,
          4240,
          4240,
          4240,
          4240,
          4240,
          4240,
          4240,
          4240,
          4240,
          4240,
          4240,
          4240,
          4240,
          4240,
          109,
          109,
          109,
          109,
          108,
          108,
          108,
          108,
          108,
          108,
          108,
          108,
          108,
          108,
          108,
          108,
          108,
          108,
          108,
          108,
          108,
          108,
          108,
          108,
          108,
          108,
          108,
          108,
          108,
          108,
          108,
          108,
          108,
          108,
          108,
          107,
          107,
          107,
          107,
          107,
          107,
          107,
          107,
          107,
          107,
          107,
          107,
          107,
          107,
          107,
          107,
          107,
          107,
          107,
          107,
          107,
          107,
          107,
          107,
          106,
          106,
          106,
          106,
          106,
          106,
          106,
          106,
          106,
          106,
          106,
          106,
          106,
          106,
          106,
          106,
          106,
          106,
          106,
          106,
          106
         ],
         "xaxis": "x",
         "yaxis": "y"
        }
       ],
       "layout": {
        "barmode": "relative",
        "legend": {
         "tracegroupgap": 0
        },
        "template": {
         "data": {
          "bar": [
           {
            "error_x": {
             "color": "#2a3f5f"
            },
            "error_y": {
             "color": "#2a3f5f"
            },
            "marker": {
             "line": {
              "color": "#E5ECF6",
              "width": 0.5
             },
             "pattern": {
              "fillmode": "overlay",
              "size": 10,
              "solidity": 0.2
             }
            },
            "type": "bar"
           }
          ],
          "barpolar": [
           {
            "marker": {
             "line": {
              "color": "#E5ECF6",
              "width": 0.5
             },
             "pattern": {
              "fillmode": "overlay",
              "size": 10,
              "solidity": 0.2
             }
            },
            "type": "barpolar"
           }
          ],
          "carpet": [
           {
            "aaxis": {
             "endlinecolor": "#2a3f5f",
             "gridcolor": "white",
             "linecolor": "white",
             "minorgridcolor": "white",
             "startlinecolor": "#2a3f5f"
            },
            "baxis": {
             "endlinecolor": "#2a3f5f",
             "gridcolor": "white",
             "linecolor": "white",
             "minorgridcolor": "white",
             "startlinecolor": "#2a3f5f"
            },
            "type": "carpet"
           }
          ],
          "choropleth": [
           {
            "colorbar": {
             "outlinewidth": 0,
             "ticks": ""
            },
            "type": "choropleth"
           }
          ],
          "contour": [
           {
            "colorbar": {
             "outlinewidth": 0,
             "ticks": ""
            },
            "colorscale": [
             [
              0,
              "#0d0887"
             ],
             [
              0.1111111111111111,
              "#46039f"
             ],
             [
              0.2222222222222222,
              "#7201a8"
             ],
             [
              0.3333333333333333,
              "#9c179e"
             ],
             [
              0.4444444444444444,
              "#bd3786"
             ],
             [
              0.5555555555555556,
              "#d8576b"
             ],
             [
              0.6666666666666666,
              "#ed7953"
             ],
             [
              0.7777777777777778,
              "#fb9f3a"
             ],
             [
              0.8888888888888888,
              "#fdca26"
             ],
             [
              1,
              "#f0f921"
             ]
            ],
            "type": "contour"
           }
          ],
          "contourcarpet": [
           {
            "colorbar": {
             "outlinewidth": 0,
             "ticks": ""
            },
            "type": "contourcarpet"
           }
          ],
          "heatmap": [
           {
            "colorbar": {
             "outlinewidth": 0,
             "ticks": ""
            },
            "colorscale": [
             [
              0,
              "#0d0887"
             ],
             [
              0.1111111111111111,
              "#46039f"
             ],
             [
              0.2222222222222222,
              "#7201a8"
             ],
             [
              0.3333333333333333,
              "#9c179e"
             ],
             [
              0.4444444444444444,
              "#bd3786"
             ],
             [
              0.5555555555555556,
              "#d8576b"
             ],
             [
              0.6666666666666666,
              "#ed7953"
             ],
             [
              0.7777777777777778,
              "#fb9f3a"
             ],
             [
              0.8888888888888888,
              "#fdca26"
             ],
             [
              1,
              "#f0f921"
             ]
            ],
            "type": "heatmap"
           }
          ],
          "heatmapgl": [
           {
            "colorbar": {
             "outlinewidth": 0,
             "ticks": ""
            },
            "colorscale": [
             [
              0,
              "#0d0887"
             ],
             [
              0.1111111111111111,
              "#46039f"
             ],
             [
              0.2222222222222222,
              "#7201a8"
             ],
             [
              0.3333333333333333,
              "#9c179e"
             ],
             [
              0.4444444444444444,
              "#bd3786"
             ],
             [
              0.5555555555555556,
              "#d8576b"
             ],
             [
              0.6666666666666666,
              "#ed7953"
             ],
             [
              0.7777777777777778,
              "#fb9f3a"
             ],
             [
              0.8888888888888888,
              "#fdca26"
             ],
             [
              1,
              "#f0f921"
             ]
            ],
            "type": "heatmapgl"
           }
          ],
          "histogram": [
           {
            "marker": {
             "pattern": {
              "fillmode": "overlay",
              "size": 10,
              "solidity": 0.2
             }
            },
            "type": "histogram"
           }
          ],
          "histogram2d": [
           {
            "colorbar": {
             "outlinewidth": 0,
             "ticks": ""
            },
            "colorscale": [
             [
              0,
              "#0d0887"
             ],
             [
              0.1111111111111111,
              "#46039f"
             ],
             [
              0.2222222222222222,
              "#7201a8"
             ],
             [
              0.3333333333333333,
              "#9c179e"
             ],
             [
              0.4444444444444444,
              "#bd3786"
             ],
             [
              0.5555555555555556,
              "#d8576b"
             ],
             [
              0.6666666666666666,
              "#ed7953"
             ],
             [
              0.7777777777777778,
              "#fb9f3a"
             ],
             [
              0.8888888888888888,
              "#fdca26"
             ],
             [
              1,
              "#f0f921"
             ]
            ],
            "type": "histogram2d"
           }
          ],
          "histogram2dcontour": [
           {
            "colorbar": {
             "outlinewidth": 0,
             "ticks": ""
            },
            "colorscale": [
             [
              0,
              "#0d0887"
             ],
             [
              0.1111111111111111,
              "#46039f"
             ],
             [
              0.2222222222222222,
              "#7201a8"
             ],
             [
              0.3333333333333333,
              "#9c179e"
             ],
             [
              0.4444444444444444,
              "#bd3786"
             ],
             [
              0.5555555555555556,
              "#d8576b"
             ],
             [
              0.6666666666666666,
              "#ed7953"
             ],
             [
              0.7777777777777778,
              "#fb9f3a"
             ],
             [
              0.8888888888888888,
              "#fdca26"
             ],
             [
              1,
              "#f0f921"
             ]
            ],
            "type": "histogram2dcontour"
           }
          ],
          "mesh3d": [
           {
            "colorbar": {
             "outlinewidth": 0,
             "ticks": ""
            },
            "type": "mesh3d"
           }
          ],
          "parcoords": [
           {
            "line": {
             "colorbar": {
              "outlinewidth": 0,
              "ticks": ""
             }
            },
            "type": "parcoords"
           }
          ],
          "pie": [
           {
            "automargin": true,
            "type": "pie"
           }
          ],
          "scatter": [
           {
            "fillpattern": {
             "fillmode": "overlay",
             "size": 10,
             "solidity": 0.2
            },
            "type": "scatter"
           }
          ],
          "scatter3d": [
           {
            "line": {
             "colorbar": {
              "outlinewidth": 0,
              "ticks": ""
             }
            },
            "marker": {
             "colorbar": {
              "outlinewidth": 0,
              "ticks": ""
             }
            },
            "type": "scatter3d"
           }
          ],
          "scattercarpet": [
           {
            "marker": {
             "colorbar": {
              "outlinewidth": 0,
              "ticks": ""
             }
            },
            "type": "scattercarpet"
           }
          ],
          "scattergeo": [
           {
            "marker": {
             "colorbar": {
              "outlinewidth": 0,
              "ticks": ""
             }
            },
            "type": "scattergeo"
           }
          ],
          "scattergl": [
           {
            "marker": {
             "colorbar": {
              "outlinewidth": 0,
              "ticks": ""
             }
            },
            "type": "scattergl"
           }
          ],
          "scattermapbox": [
           {
            "marker": {
             "colorbar": {
              "outlinewidth": 0,
              "ticks": ""
             }
            },
            "type": "scattermapbox"
           }
          ],
          "scatterpolar": [
           {
            "marker": {
             "colorbar": {
              "outlinewidth": 0,
              "ticks": ""
             }
            },
            "type": "scatterpolar"
           }
          ],
          "scatterpolargl": [
           {
            "marker": {
             "colorbar": {
              "outlinewidth": 0,
              "ticks": ""
             }
            },
            "type": "scatterpolargl"
           }
          ],
          "scatterternary": [
           {
            "marker": {
             "colorbar": {
              "outlinewidth": 0,
              "ticks": ""
             }
            },
            "type": "scatterternary"
           }
          ],
          "surface": [
           {
            "colorbar": {
             "outlinewidth": 0,
             "ticks": ""
            },
            "colorscale": [
             [
              0,
              "#0d0887"
             ],
             [
              0.1111111111111111,
              "#46039f"
             ],
             [
              0.2222222222222222,
              "#7201a8"
             ],
             [
              0.3333333333333333,
              "#9c179e"
             ],
             [
              0.4444444444444444,
              "#bd3786"
             ],
             [
              0.5555555555555556,
              "#d8576b"
             ],
             [
              0.6666666666666666,
              "#ed7953"
             ],
             [
              0.7777777777777778,
              "#fb9f3a"
             ],
             [
              0.8888888888888888,
              "#fdca26"
             ],
             [
              1,
              "#f0f921"
             ]
            ],
            "type": "surface"
           }
          ],
          "table": [
           {
            "cells": {
             "fill": {
              "color": "#EBF0F8"
             },
             "line": {
              "color": "white"
             }
            },
            "header": {
             "fill": {
              "color": "#C8D4E3"
             },
             "line": {
              "color": "white"
             }
            },
            "type": "table"
           }
          ]
         },
         "layout": {
          "annotationdefaults": {
           "arrowcolor": "#2a3f5f",
           "arrowhead": 0,
           "arrowwidth": 1
          },
          "autotypenumbers": "strict",
          "coloraxis": {
           "colorbar": {
            "outlinewidth": 0,
            "ticks": ""
           }
          },
          "colorscale": {
           "diverging": [
            [
             0,
             "#8e0152"
            ],
            [
             0.1,
             "#c51b7d"
            ],
            [
             0.2,
             "#de77ae"
            ],
            [
             0.3,
             "#f1b6da"
            ],
            [
             0.4,
             "#fde0ef"
            ],
            [
             0.5,
             "#f7f7f7"
            ],
            [
             0.6,
             "#e6f5d0"
            ],
            [
             0.7,
             "#b8e186"
            ],
            [
             0.8,
             "#7fbc41"
            ],
            [
             0.9,
             "#4d9221"
            ],
            [
             1,
             "#276419"
            ]
           ],
           "sequential": [
            [
             0,
             "#0d0887"
            ],
            [
             0.1111111111111111,
             "#46039f"
            ],
            [
             0.2222222222222222,
             "#7201a8"
            ],
            [
             0.3333333333333333,
             "#9c179e"
            ],
            [
             0.4444444444444444,
             "#bd3786"
            ],
            [
             0.5555555555555556,
             "#d8576b"
            ],
            [
             0.6666666666666666,
             "#ed7953"
            ],
            [
             0.7777777777777778,
             "#fb9f3a"
            ],
            [
             0.8888888888888888,
             "#fdca26"
            ],
            [
             1,
             "#f0f921"
            ]
           ],
           "sequentialminus": [
            [
             0,
             "#0d0887"
            ],
            [
             0.1111111111111111,
             "#46039f"
            ],
            [
             0.2222222222222222,
             "#7201a8"
            ],
            [
             0.3333333333333333,
             "#9c179e"
            ],
            [
             0.4444444444444444,
             "#bd3786"
            ],
            [
             0.5555555555555556,
             "#d8576b"
            ],
            [
             0.6666666666666666,
             "#ed7953"
            ],
            [
             0.7777777777777778,
             "#fb9f3a"
            ],
            [
             0.8888888888888888,
             "#fdca26"
            ],
            [
             1,
             "#f0f921"
            ]
           ]
          },
          "colorway": [
           "#636efa",
           "#EF553B",
           "#00cc96",
           "#ab63fa",
           "#FFA15A",
           "#19d3f3",
           "#FF6692",
           "#B6E880",
           "#FF97FF",
           "#FECB52"
          ],
          "font": {
           "color": "#2a3f5f"
          },
          "geo": {
           "bgcolor": "white",
           "lakecolor": "white",
           "landcolor": "#E5ECF6",
           "showlakes": true,
           "showland": true,
           "subunitcolor": "white"
          },
          "hoverlabel": {
           "align": "left"
          },
          "hovermode": "closest",
          "mapbox": {
           "style": "light"
          },
          "paper_bgcolor": "white",
          "plot_bgcolor": "#E5ECF6",
          "polar": {
           "angularaxis": {
            "gridcolor": "white",
            "linecolor": "white",
            "ticks": ""
           },
           "bgcolor": "#E5ECF6",
           "radialaxis": {
            "gridcolor": "white",
            "linecolor": "white",
            "ticks": ""
           }
          },
          "scene": {
           "xaxis": {
            "backgroundcolor": "#E5ECF6",
            "gridcolor": "white",
            "gridwidth": 2,
            "linecolor": "white",
            "showbackground": true,
            "ticks": "",
            "zerolinecolor": "white"
           },
           "yaxis": {
            "backgroundcolor": "#E5ECF6",
            "gridcolor": "white",
            "gridwidth": 2,
            "linecolor": "white",
            "showbackground": true,
            "ticks": "",
            "zerolinecolor": "white"
           },
           "zaxis": {
            "backgroundcolor": "#E5ECF6",
            "gridcolor": "white",
            "gridwidth": 2,
            "linecolor": "white",
            "showbackground": true,
            "ticks": "",
            "zerolinecolor": "white"
           }
          },
          "shapedefaults": {
           "line": {
            "color": "#2a3f5f"
           }
          },
          "ternary": {
           "aaxis": {
            "gridcolor": "white",
            "linecolor": "white",
            "ticks": ""
           },
           "baxis": {
            "gridcolor": "white",
            "linecolor": "white",
            "ticks": ""
           },
           "bgcolor": "#E5ECF6",
           "caxis": {
            "gridcolor": "white",
            "linecolor": "white",
            "ticks": ""
           }
          },
          "title": {
           "x": 0.05
          },
          "xaxis": {
           "automargin": true,
           "gridcolor": "white",
           "linecolor": "white",
           "ticks": "",
           "title": {
            "standoff": 15
           },
           "zerolinecolor": "white",
           "zerolinewidth": 2
          },
          "yaxis": {
           "automargin": true,
           "gridcolor": "white",
           "linecolor": "white",
           "ticks": "",
           "title": {
            "standoff": 15
           },
           "zerolinecolor": "white",
           "zerolinewidth": 2
          }
         }
        },
        "title": {
         "text": "Histogram of Units Sold"
        },
        "xaxis": {
         "anchor": "y",
         "domain": [
          0,
          1
         ],
         "title": {
          "text": "units sold"
         }
        },
        "yaxis": {
         "anchor": "x",
         "domain": [
          0,
          1
         ],
         "title": {
          "text": "count"
         }
        }
       }
      }
     },
     "metadata": {},
     "output_type": "display_data"
    },
    {
     "data": {
      "application/vnd.plotly.v1+json": {
       "config": {
        "plotlyServerURL": "https://plot.ly"
       },
       "data": [
        {
         "alignmentgroup": "True",
         "hovertemplate": "units sold=%{x}<extra></extra>",
         "legendgroup": "",
         "marker": {
          "color": "#636efa"
         },
         "name": "",
         "notched": false,
         "offsetgroup": "",
         "orientation": "h",
         "showlegend": false,
         "type": "box",
         "x": [
          7000,
          6250,
          5500,
          5500,
          4750,
          4000,
          3933,
          3800,
          3733,
          3666,
          3600,
          3600,
          3466,
          3466,
          3333,
          3266,
          3200,
          3200,
          3133,
          3066,
          2933,
          2866,
          2733,
          2600,
          2466,
          2400,
          2400,
          2333,
          2266,
          2200,
          2200,
          2066,
          1984,
          1984,
          1969,
          1969,
          1907,
          1892,
          1876,
          1861,
          1846,
          1830,
          1800,
          1800,
          1784,
          1769,
          1753,
          1738,
          1723,
          1707,
          1692,
          1676,
          1661,
          1646,
          1630,
          1630,
          1615,
          1600,
          1584,
          1569,
          1538,
          1523,
          1507,
          1492,
          1461,
          1446,
          1430,
          1415,
          1384,
          1384,
          1369,
          1353,
          1338,
          1323,
          1307,
          1307,
          1292,
          1276,
          1230,
          1215,
          1215,
          1200,
          1200,
          1184,
          1169,
          1169,
          1123,
          1123,
          1107,
          1076,
          1061,
          1046,
          1030,
          1015,
          1015,
          995,
          990,
          980,
          975,
          970,
          960,
          945,
          940,
          935,
          920,
          915,
          915,
          910,
          905,
          900,
          900,
          895,
          890,
          890,
          885,
          870,
          865,
          860,
          850,
          845,
          840,
          825,
          825,
          815,
          810,
          805,
          800,
          800,
          795,
          790,
          785,
          780,
          775,
          760,
          755,
          750,
          750,
          745,
          740,
          735,
          730,
          725,
          720,
          710,
          705,
          700,
          680,
          675,
          670,
          665,
          660,
          655,
          655,
          650,
          650,
          645,
          640,
          630,
          615,
          610,
          605,
          600,
          595,
          595,
          590,
          585,
          575,
          570,
          555,
          555,
          550,
          540,
          540,
          535,
          530,
          515,
          510,
          505,
          498,
          496,
          490,
          488,
          488,
          483,
          481,
          480,
          478,
          478,
          476,
          476,
          475,
          475,
          468,
          466,
          466,
          465,
          460,
          460,
          456,
          455,
          451,
          450,
          448,
          448,
          443,
          441,
          436,
          435,
          433,
          433,
          431,
          430,
          426,
          426,
          425,
          423,
          420,
          418,
          416,
          415,
          410,
          408,
          408,
          406,
          405,
          403,
          401,
          398,
          396,
          396,
          391,
          390,
          386,
          385,
          381,
          381,
          380,
          378,
          376,
          375,
          375,
          373,
          373,
          370,
          368,
          366,
          365,
          363,
          363,
          361,
          361,
          358,
          356,
          351,
          350,
          348,
          345,
          343,
          341,
          341,
          340,
          338,
          336,
          335,
          328,
          326,
          326,
          325,
          323,
          321,
          318,
          316,
          315,
          313,
          311,
          310,
          310,
          308,
          308,
          305,
          301,
          298,
          298,
          296,
          296,
          295,
          295,
          293,
          291,
          290,
          288,
          285,
          285,
          283,
          283,
          281,
          275,
          273,
          270,
          270,
          266,
          266,
          265,
          263,
          261,
          260,
          258,
          255,
          250,
          250,
          249,
          249,
          249,
          248,
          248,
          247,
          247,
          247,
          246,
          245,
          245,
          243,
          243,
          243,
          242,
          241,
          241,
          240,
          239,
          239,
          238,
          237,
          237,
          237,
          237,
          236,
          235,
          234,
          233,
          6264,
          6264,
          6237,
          6210,
          6210,
          6183,
          6183,
          6156,
          6156,
          6129,
          6102,
          6102,
          6075,
          6048,
          6048,
          6021,
          6021,
          5994,
          5967,
          5940,
          5940,
          5913,
          5913,
          5886,
          5886,
          5859,
          5859,
          5805,
          5805,
          5805,
          5778,
          5751,
          5751,
          5751,
          5724,
          5697,
          5697,
          5670,
          5643,
          5643,
          5616,
          5616,
          5616,
          5589,
          5535,
          5481,
          5481,
          5454,
          5454,
          5427,
          5427,
          5427,
          5400,
          5400,
          5373,
          5346,
          5346,
          5319,
          5292,
          5292,
          5265,
          5265,
          5238,
          5211,
          5211,
          5184,
          5157,
          5130,
          5103,
          5103,
          5076,
          5076,
          5049,
          5022,
          5022,
          4968,
          4941,
          4914,
          4914,
          4860,
          4833,
          4833,
          4806,
          4806,
          4779,
          4752,
          4752,
          4752,
          4725,
          4698,
          4698,
          4671,
          4671,
          4671,
          4671,
          4644,
          4617,
          4617,
          4617,
          4617,
          4617,
          4617,
          4590,
          4590,
          4590,
          4563,
          4563,
          4563,
          4563,
          4563,
          4563,
          4563,
          4536,
          4536,
          4536,
          4509,
          4509,
          4509,
          4482,
          4482,
          4482,
          4455,
          4455,
          4455,
          4455,
          4428,
          4428,
          4428,
          4428,
          4428,
          4401,
          4401,
          4401,
          4401,
          4374,
          4374,
          4374,
          4347,
          4347,
          4347,
          4320,
          4320,
          4320,
          4320,
          4320,
          4293,
          4293,
          4293,
          4293,
          4266,
          4266,
          4266,
          4266,
          4239,
          4239,
          4212,
          4212,
          4185,
          4185,
          4158,
          4158,
          4158,
          4158,
          4158,
          4131,
          4131,
          4131,
          4131,
          4104,
          4104,
          4104,
          4077,
          4077,
          4077,
          4077,
          4050,
          4050,
          4023,
          4023,
          4023,
          4023,
          4023,
          3996,
          3996,
          3996,
          3969,
          3969,
          3969,
          3969,
          3969,
          3969,
          3942,
          3942,
          3942,
          3942,
          3942,
          3915,
          3915,
          3915,
          3915,
          3888,
          3861,
          3861,
          3834,
          61560,
          61128,
          61128,
          60696,
          59400,
          58968,
          57240,
          56808,
          55728,
          55080,
          54000,
          53784,
          53784,
          53784,
          53568,
          53352,
          53136,
          52920,
          52488,
          52488,
          52488,
          52056,
          52056,
          51624,
          51408,
          51192,
          51192,
          50976,
          50760,
          50544,
          50328,
          50112,
          49896,
          49896,
          49680,
          49680,
          49248,
          49032,
          48816,
          48816,
          48600,
          48384,
          48168,
          47952,
          47736,
          47520,
          47520,
          47304,
          47304,
          47088,
          47088,
          46872,
          46872,
          46872,
          46440,
          46440,
          46008,
          46008,
          46008,
          45792,
          45576,
          45360,
          45144,
          44928,
          44280,
          43848,
          43416,
          43416,
          43416,
          43200,
          42768,
          42552,
          42120,
          41904,
          41472,
          41256,
          40824,
          40824,
          40176,
          40176,
          39960,
          39744,
          39312,
          39312,
          38880,
          38664,
          38664,
          38448,
          38448,
          38448,
          38016,
          38016,
          37584,
          37584,
          37368,
          37368,
          37368,
          37152,
          37152,
          36936,
          36936,
          36936,
          36720,
          36504,
          36504,
          36504,
          36504,
          36504,
          36504,
          36288,
          36288,
          36072,
          36072,
          36072,
          36072,
          35856,
          35640,
          35640,
          35640,
          35640,
          35640,
          35424,
          35424,
          35424,
          35208,
          35208,
          35208,
          34992,
          34992,
          34776,
          34776,
          34776,
          34560,
          34560,
          34560,
          34344,
          34128,
          34128,
          34128,
          34128,
          33912,
          33696,
          33696,
          33480,
          33264,
          33264,
          33048,
          33048,
          32832,
          32832,
          32832,
          32616,
          32616,
          32616,
          32400,
          32184,
          32184,
          32184,
          31968,
          31752,
          31752,
          31752,
          31536,
          31536,
          31536,
          31536,
          31320,
          31320,
          31320,
          31320,
          31104,
          30888,
          30888,
          30672,
          30672,
          30456,
          30456,
          30240,
          30240,
          29808,
          29808,
          29808,
          29592,
          29376,
          29160,
          28944,
          28944,
          28728,
          28512,
          28512,
          28512,
          28296,
          28296,
          28296,
          2943,
          2943,
          2943,
          2943,
          2916,
          2916,
          2916,
          2916,
          2916,
          2916,
          2916,
          2916,
          2916,
          2916,
          2916,
          2916,
          2916,
          2916,
          2916,
          2916,
          2916,
          2916,
          2916,
          2916,
          2916,
          2916,
          2916,
          2916,
          2916,
          2916,
          2916,
          2916,
          2916,
          2916,
          2916,
          2889,
          2889,
          2889,
          2889,
          2889,
          2889,
          2889,
          2889,
          2889,
          2889,
          2889,
          2889,
          2889,
          2889,
          2889,
          2889,
          2889,
          2889,
          2889,
          2889,
          2889,
          2889,
          2889,
          2889,
          2862,
          2862,
          2862,
          2862,
          2862,
          2862,
          2862,
          2862,
          2862,
          2862,
          2862,
          2862,
          2862,
          2862,
          2862,
          2862,
          2862,
          2862,
          2862,
          2862,
          2862,
          4480,
          4480,
          4480,
          4480,
          4480,
          4480,
          4480,
          4440,
          4440,
          4440,
          4440,
          4440,
          4440,
          4440,
          4440,
          4440,
          4440,
          4440,
          4440,
          4400,
          4400,
          4400,
          4400,
          4400,
          4400,
          4400,
          4400,
          4400,
          4400,
          4400,
          4400,
          4400,
          4400,
          4400,
          4400,
          4400,
          4400,
          4360,
          4360,
          4360,
          4360,
          4360,
          4360,
          4360,
          4360,
          4360,
          4360,
          4360,
          4360,
          4360,
          4360,
          4320,
          4320,
          4320,
          4320,
          4320,
          4320,
          4320,
          4320,
          4320,
          4320,
          4320,
          4320,
          4320,
          4320,
          4320,
          4320,
          4320,
          4320,
          4320,
          4280,
          4280,
          4280,
          4280,
          4280,
          4280,
          4280,
          4280,
          4280,
          4280,
          4280,
          4280,
          4280,
          4280,
          4280,
          4280,
          4280,
          4240,
          4240,
          4240,
          4240,
          4240,
          4240,
          4240,
          4240,
          4240,
          4240,
          4240,
          4240,
          4240,
          4240,
          109,
          109,
          109,
          109,
          108,
          108,
          108,
          108,
          108,
          108,
          108,
          108,
          108,
          108,
          108,
          108,
          108,
          108,
          108,
          108,
          108,
          108,
          108,
          108,
          108,
          108,
          108,
          108,
          108,
          108,
          108,
          108,
          108,
          108,
          108,
          107,
          107,
          107,
          107,
          107,
          107,
          107,
          107,
          107,
          107,
          107,
          107,
          107,
          107,
          107,
          107,
          107,
          107,
          107,
          107,
          107,
          107,
          107,
          107,
          106,
          106,
          106,
          106,
          106,
          106,
          106,
          106,
          106,
          106,
          106,
          106,
          106,
          106,
          106,
          106,
          106,
          106,
          106,
          106,
          106
         ],
         "x0": " ",
         "xaxis": "x",
         "y0": " ",
         "yaxis": "y"
        }
       ],
       "layout": {
        "boxmode": "group",
        "legend": {
         "tracegroupgap": 0
        },
        "template": {
         "data": {
          "bar": [
           {
            "error_x": {
             "color": "#2a3f5f"
            },
            "error_y": {
             "color": "#2a3f5f"
            },
            "marker": {
             "line": {
              "color": "#E5ECF6",
              "width": 0.5
             },
             "pattern": {
              "fillmode": "overlay",
              "size": 10,
              "solidity": 0.2
             }
            },
            "type": "bar"
           }
          ],
          "barpolar": [
           {
            "marker": {
             "line": {
              "color": "#E5ECF6",
              "width": 0.5
             },
             "pattern": {
              "fillmode": "overlay",
              "size": 10,
              "solidity": 0.2
             }
            },
            "type": "barpolar"
           }
          ],
          "carpet": [
           {
            "aaxis": {
             "endlinecolor": "#2a3f5f",
             "gridcolor": "white",
             "linecolor": "white",
             "minorgridcolor": "white",
             "startlinecolor": "#2a3f5f"
            },
            "baxis": {
             "endlinecolor": "#2a3f5f",
             "gridcolor": "white",
             "linecolor": "white",
             "minorgridcolor": "white",
             "startlinecolor": "#2a3f5f"
            },
            "type": "carpet"
           }
          ],
          "choropleth": [
           {
            "colorbar": {
             "outlinewidth": 0,
             "ticks": ""
            },
            "type": "choropleth"
           }
          ],
          "contour": [
           {
            "colorbar": {
             "outlinewidth": 0,
             "ticks": ""
            },
            "colorscale": [
             [
              0,
              "#0d0887"
             ],
             [
              0.1111111111111111,
              "#46039f"
             ],
             [
              0.2222222222222222,
              "#7201a8"
             ],
             [
              0.3333333333333333,
              "#9c179e"
             ],
             [
              0.4444444444444444,
              "#bd3786"
             ],
             [
              0.5555555555555556,
              "#d8576b"
             ],
             [
              0.6666666666666666,
              "#ed7953"
             ],
             [
              0.7777777777777778,
              "#fb9f3a"
             ],
             [
              0.8888888888888888,
              "#fdca26"
             ],
             [
              1,
              "#f0f921"
             ]
            ],
            "type": "contour"
           }
          ],
          "contourcarpet": [
           {
            "colorbar": {
             "outlinewidth": 0,
             "ticks": ""
            },
            "type": "contourcarpet"
           }
          ],
          "heatmap": [
           {
            "colorbar": {
             "outlinewidth": 0,
             "ticks": ""
            },
            "colorscale": [
             [
              0,
              "#0d0887"
             ],
             [
              0.1111111111111111,
              "#46039f"
             ],
             [
              0.2222222222222222,
              "#7201a8"
             ],
             [
              0.3333333333333333,
              "#9c179e"
             ],
             [
              0.4444444444444444,
              "#bd3786"
             ],
             [
              0.5555555555555556,
              "#d8576b"
             ],
             [
              0.6666666666666666,
              "#ed7953"
             ],
             [
              0.7777777777777778,
              "#fb9f3a"
             ],
             [
              0.8888888888888888,
              "#fdca26"
             ],
             [
              1,
              "#f0f921"
             ]
            ],
            "type": "heatmap"
           }
          ],
          "heatmapgl": [
           {
            "colorbar": {
             "outlinewidth": 0,
             "ticks": ""
            },
            "colorscale": [
             [
              0,
              "#0d0887"
             ],
             [
              0.1111111111111111,
              "#46039f"
             ],
             [
              0.2222222222222222,
              "#7201a8"
             ],
             [
              0.3333333333333333,
              "#9c179e"
             ],
             [
              0.4444444444444444,
              "#bd3786"
             ],
             [
              0.5555555555555556,
              "#d8576b"
             ],
             [
              0.6666666666666666,
              "#ed7953"
             ],
             [
              0.7777777777777778,
              "#fb9f3a"
             ],
             [
              0.8888888888888888,
              "#fdca26"
             ],
             [
              1,
              "#f0f921"
             ]
            ],
            "type": "heatmapgl"
           }
          ],
          "histogram": [
           {
            "marker": {
             "pattern": {
              "fillmode": "overlay",
              "size": 10,
              "solidity": 0.2
             }
            },
            "type": "histogram"
           }
          ],
          "histogram2d": [
           {
            "colorbar": {
             "outlinewidth": 0,
             "ticks": ""
            },
            "colorscale": [
             [
              0,
              "#0d0887"
             ],
             [
              0.1111111111111111,
              "#46039f"
             ],
             [
              0.2222222222222222,
              "#7201a8"
             ],
             [
              0.3333333333333333,
              "#9c179e"
             ],
             [
              0.4444444444444444,
              "#bd3786"
             ],
             [
              0.5555555555555556,
              "#d8576b"
             ],
             [
              0.6666666666666666,
              "#ed7953"
             ],
             [
              0.7777777777777778,
              "#fb9f3a"
             ],
             [
              0.8888888888888888,
              "#fdca26"
             ],
             [
              1,
              "#f0f921"
             ]
            ],
            "type": "histogram2d"
           }
          ],
          "histogram2dcontour": [
           {
            "colorbar": {
             "outlinewidth": 0,
             "ticks": ""
            },
            "colorscale": [
             [
              0,
              "#0d0887"
             ],
             [
              0.1111111111111111,
              "#46039f"
             ],
             [
              0.2222222222222222,
              "#7201a8"
             ],
             [
              0.3333333333333333,
              "#9c179e"
             ],
             [
              0.4444444444444444,
              "#bd3786"
             ],
             [
              0.5555555555555556,
              "#d8576b"
             ],
             [
              0.6666666666666666,
              "#ed7953"
             ],
             [
              0.7777777777777778,
              "#fb9f3a"
             ],
             [
              0.8888888888888888,
              "#fdca26"
             ],
             [
              1,
              "#f0f921"
             ]
            ],
            "type": "histogram2dcontour"
           }
          ],
          "mesh3d": [
           {
            "colorbar": {
             "outlinewidth": 0,
             "ticks": ""
            },
            "type": "mesh3d"
           }
          ],
          "parcoords": [
           {
            "line": {
             "colorbar": {
              "outlinewidth": 0,
              "ticks": ""
             }
            },
            "type": "parcoords"
           }
          ],
          "pie": [
           {
            "automargin": true,
            "type": "pie"
           }
          ],
          "scatter": [
           {
            "fillpattern": {
             "fillmode": "overlay",
             "size": 10,
             "solidity": 0.2
            },
            "type": "scatter"
           }
          ],
          "scatter3d": [
           {
            "line": {
             "colorbar": {
              "outlinewidth": 0,
              "ticks": ""
             }
            },
            "marker": {
             "colorbar": {
              "outlinewidth": 0,
              "ticks": ""
             }
            },
            "type": "scatter3d"
           }
          ],
          "scattercarpet": [
           {
            "marker": {
             "colorbar": {
              "outlinewidth": 0,
              "ticks": ""
             }
            },
            "type": "scattercarpet"
           }
          ],
          "scattergeo": [
           {
            "marker": {
             "colorbar": {
              "outlinewidth": 0,
              "ticks": ""
             }
            },
            "type": "scattergeo"
           }
          ],
          "scattergl": [
           {
            "marker": {
             "colorbar": {
              "outlinewidth": 0,
              "ticks": ""
             }
            },
            "type": "scattergl"
           }
          ],
          "scattermapbox": [
           {
            "marker": {
             "colorbar": {
              "outlinewidth": 0,
              "ticks": ""
             }
            },
            "type": "scattermapbox"
           }
          ],
          "scatterpolar": [
           {
            "marker": {
             "colorbar": {
              "outlinewidth": 0,
              "ticks": ""
             }
            },
            "type": "scatterpolar"
           }
          ],
          "scatterpolargl": [
           {
            "marker": {
             "colorbar": {
              "outlinewidth": 0,
              "ticks": ""
             }
            },
            "type": "scatterpolargl"
           }
          ],
          "scatterternary": [
           {
            "marker": {
             "colorbar": {
              "outlinewidth": 0,
              "ticks": ""
             }
            },
            "type": "scatterternary"
           }
          ],
          "surface": [
           {
            "colorbar": {
             "outlinewidth": 0,
             "ticks": ""
            },
            "colorscale": [
             [
              0,
              "#0d0887"
             ],
             [
              0.1111111111111111,
              "#46039f"
             ],
             [
              0.2222222222222222,
              "#7201a8"
             ],
             [
              0.3333333333333333,
              "#9c179e"
             ],
             [
              0.4444444444444444,
              "#bd3786"
             ],
             [
              0.5555555555555556,
              "#d8576b"
             ],
             [
              0.6666666666666666,
              "#ed7953"
             ],
             [
              0.7777777777777778,
              "#fb9f3a"
             ],
             [
              0.8888888888888888,
              "#fdca26"
             ],
             [
              1,
              "#f0f921"
             ]
            ],
            "type": "surface"
           }
          ],
          "table": [
           {
            "cells": {
             "fill": {
              "color": "#EBF0F8"
             },
             "line": {
              "color": "white"
             }
            },
            "header": {
             "fill": {
              "color": "#C8D4E3"
             },
             "line": {
              "color": "white"
             }
            },
            "type": "table"
           }
          ]
         },
         "layout": {
          "annotationdefaults": {
           "arrowcolor": "#2a3f5f",
           "arrowhead": 0,
           "arrowwidth": 1
          },
          "autotypenumbers": "strict",
          "coloraxis": {
           "colorbar": {
            "outlinewidth": 0,
            "ticks": ""
           }
          },
          "colorscale": {
           "diverging": [
            [
             0,
             "#8e0152"
            ],
            [
             0.1,
             "#c51b7d"
            ],
            [
             0.2,
             "#de77ae"
            ],
            [
             0.3,
             "#f1b6da"
            ],
            [
             0.4,
             "#fde0ef"
            ],
            [
             0.5,
             "#f7f7f7"
            ],
            [
             0.6,
             "#e6f5d0"
            ],
            [
             0.7,
             "#b8e186"
            ],
            [
             0.8,
             "#7fbc41"
            ],
            [
             0.9,
             "#4d9221"
            ],
            [
             1,
             "#276419"
            ]
           ],
           "sequential": [
            [
             0,
             "#0d0887"
            ],
            [
             0.1111111111111111,
             "#46039f"
            ],
            [
             0.2222222222222222,
             "#7201a8"
            ],
            [
             0.3333333333333333,
             "#9c179e"
            ],
            [
             0.4444444444444444,
             "#bd3786"
            ],
            [
             0.5555555555555556,
             "#d8576b"
            ],
            [
             0.6666666666666666,
             "#ed7953"
            ],
            [
             0.7777777777777778,
             "#fb9f3a"
            ],
            [
             0.8888888888888888,
             "#fdca26"
            ],
            [
             1,
             "#f0f921"
            ]
           ],
           "sequentialminus": [
            [
             0,
             "#0d0887"
            ],
            [
             0.1111111111111111,
             "#46039f"
            ],
            [
             0.2222222222222222,
             "#7201a8"
            ],
            [
             0.3333333333333333,
             "#9c179e"
            ],
            [
             0.4444444444444444,
             "#bd3786"
            ],
            [
             0.5555555555555556,
             "#d8576b"
            ],
            [
             0.6666666666666666,
             "#ed7953"
            ],
            [
             0.7777777777777778,
             "#fb9f3a"
            ],
            [
             0.8888888888888888,
             "#fdca26"
            ],
            [
             1,
             "#f0f921"
            ]
           ]
          },
          "colorway": [
           "#636efa",
           "#EF553B",
           "#00cc96",
           "#ab63fa",
           "#FFA15A",
           "#19d3f3",
           "#FF6692",
           "#B6E880",
           "#FF97FF",
           "#FECB52"
          ],
          "font": {
           "color": "#2a3f5f"
          },
          "geo": {
           "bgcolor": "white",
           "lakecolor": "white",
           "landcolor": "#E5ECF6",
           "showlakes": true,
           "showland": true,
           "subunitcolor": "white"
          },
          "hoverlabel": {
           "align": "left"
          },
          "hovermode": "closest",
          "mapbox": {
           "style": "light"
          },
          "paper_bgcolor": "white",
          "plot_bgcolor": "#E5ECF6",
          "polar": {
           "angularaxis": {
            "gridcolor": "white",
            "linecolor": "white",
            "ticks": ""
           },
           "bgcolor": "#E5ECF6",
           "radialaxis": {
            "gridcolor": "white",
            "linecolor": "white",
            "ticks": ""
           }
          },
          "scene": {
           "xaxis": {
            "backgroundcolor": "#E5ECF6",
            "gridcolor": "white",
            "gridwidth": 2,
            "linecolor": "white",
            "showbackground": true,
            "ticks": "",
            "zerolinecolor": "white"
           },
           "yaxis": {
            "backgroundcolor": "#E5ECF6",
            "gridcolor": "white",
            "gridwidth": 2,
            "linecolor": "white",
            "showbackground": true,
            "ticks": "",
            "zerolinecolor": "white"
           },
           "zaxis": {
            "backgroundcolor": "#E5ECF6",
            "gridcolor": "white",
            "gridwidth": 2,
            "linecolor": "white",
            "showbackground": true,
            "ticks": "",
            "zerolinecolor": "white"
           }
          },
          "shapedefaults": {
           "line": {
            "color": "#2a3f5f"
           }
          },
          "ternary": {
           "aaxis": {
            "gridcolor": "white",
            "linecolor": "white",
            "ticks": ""
           },
           "baxis": {
            "gridcolor": "white",
            "linecolor": "white",
            "ticks": ""
           },
           "bgcolor": "#E5ECF6",
           "caxis": {
            "gridcolor": "white",
            "linecolor": "white",
            "ticks": ""
           }
          },
          "title": {
           "x": 0.05
          },
          "xaxis": {
           "automargin": true,
           "gridcolor": "white",
           "linecolor": "white",
           "ticks": "",
           "title": {
            "standoff": 15
           },
           "zerolinecolor": "white",
           "zerolinewidth": 2
          },
          "yaxis": {
           "automargin": true,
           "gridcolor": "white",
           "linecolor": "white",
           "ticks": "",
           "title": {
            "standoff": 15
           },
           "zerolinecolor": "white",
           "zerolinewidth": 2
          }
         }
        },
        "title": {
         "text": "Boxplot of Units Sold"
        },
        "xaxis": {
         "anchor": "y",
         "domain": [
          0,
          1
         ],
         "title": {
          "text": "units sold"
         }
        },
        "yaxis": {
         "anchor": "x",
         "domain": [
          0,
          1
         ]
        }
       }
      }
     },
     "metadata": {},
     "output_type": "display_data"
    }
   ],
   "source": [
    "# units sold histogram \n",
    "# weird distribution, gap in the middle\n",
    "# box plot reflect the weird distribution\n",
    "fig = px.histogram(data, x='units sold', title='Histogram of Units Sold')\n",
    "fig.show()\n",
    "\n",
    "fig = px.box(data, x='units sold', title='Boxplot of Units Sold')\n",
    "fig.show()"
   ]
  },
  {
   "cell_type": "code",
   "execution_count": 63,
   "metadata": {},
   "outputs": [],
   "source": [
    "data.to_csv('data.csv') \n"
   ]
  },
  {
   "cell_type": "markdown",
   "metadata": {},
   "source": [
    "## Data Dictionary\n",
    "\n",
    "Index: Unique identifying number\n",
    "\n",
    "\n",
    "Publishing Year: The year that the book was published in \n",
    "\n",
    "\n",
    "Book Name: The title of the book\n",
    "\n",
    "\n",
    "Author: The author of the book\n",
    "\n",
    "\n",
    "Author Rating: The rating for an author based on their previous work\n",
    "\n",
    "\n",
    "Book average rating: The average of the rating given by readers\n",
    "\n",
    "\n",
    "Book ratings count: The amount of ratings a book has\n",
    "\n",
    "\n",
    "Genre: The genre the book belongs to \n",
    "\n",
    "\n",
    "Gross Sales: The total sales revenue generated per boook\n",
    "\n",
    "\n",
    "Publisher Revenue: The total revenue the publisher gains by the books sales\n",
    "\n",
    "\n",
    "Sale Price: The price the book is sold at\n",
    "\n",
    "\n",
    "Sales Rank: The books rank based on its sales perfromance compared within its category (genre)\n",
    "\n",
    "\n",
    "Publisher: The company that published thee book\n",
    "\n",
    "\n",
    "Units Sold: Count of books sold per title\n"
   ]
  },
  {
   "cell_type": "markdown",
   "metadata": {},
   "source": [
    "### UI Components\n",
    "1. Dropdown menus to filter between certain authors\n",
    "2. Published year slider to pick ranges in time or a certain year\n",
    "3. Interactive data dictionary visual to increase accesibiltiy and understanding\n",
    "4. Search bar to look for specific book titles\n",
    "\n"
   ]
  },
  {
   "cell_type": "markdown",
   "metadata": {},
   "source": [
    "### Data Visualizations\n",
    "\n",
    "1. Author vs. Book Average Rating bar chart - which authors have high/ low book ratings\n",
    "2. Book Ratings Count vs. Gross Sales scatter plot - display relationshiip between the book rating and the sales \n",
    "3. Units sold vs. Author Name heat map - display top selling author\n",
    "4. Gross sales vs. Publisher bar chart - display top selling publishers"
   ]
  }
 ],
 "metadata": {
  "kernelspec": {
   "display_name": "ds4003",
   "language": "python",
   "name": "python3"
  },
  "language_info": {
   "codemirror_mode": {
    "name": "ipython",
    "version": 3
   },
   "file_extension": ".py",
   "mimetype": "text/x-python",
   "name": "python",
   "nbconvert_exporter": "python",
   "pygments_lexer": "ipython3",
   "version": "3.8.18"
  }
 },
 "nbformat": 4,
 "nbformat_minor": 2
}
